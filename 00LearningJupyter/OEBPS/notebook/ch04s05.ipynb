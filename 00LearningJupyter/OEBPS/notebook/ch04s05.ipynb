{
 "cells": [
  {
   "cell_type": "markdown",
   "metadata": {},
   "source": [
   "<html xmlns=\"http://www.w3.org/1999/xhtml\"><head><title>Julia visualizations in Jupyter</title><link rel=\"stylesheet\" href=\"epub.css\" type=\"text/css\"/><meta name=\"generator\" content=\"DocBook XSL Stylesheets V1.75.2\"/></head><body id=\"page\"><div class=\"section\" title=\"Julia visualizations in Jupyter\"><div class=\"titlepage\"><div><div><h1 class=\"title\"><a id=\"ch04lvl1sec33\"/>Julia visualizations in Jupyter</h1></div></div></div><p>The most popular tool for visualizations in Julia is the <code class=\"literal\">Gadfly</code> package. We can add the <code class=\"literal\">Gadfly</code> package (as described at the beginning of this chapter) using the add function:</p><pre class=\"programlisting\">\n<span class=\"strong\"><strong>Pkg.add(\"Gadfly\")</strong></span>\n</pre><p>From then on, we can make reference to the <code class=\"literal\">Gadfly</code> package in any script using the following command:</p><pre class=\"programlisting\">\n<span class=\"strong\"><strong>using Gadfly</strong></span>\n</pre><div class=\"section\" title=\"Julia Gadfly scatterplot\"><div class=\"titlepage\"><div><div><h2 class=\"title\"><a id=\"ch04lvl2sec19\"/>Julia Gadfly scatterplot</h2></div></div></div><p>We can use the <code class=\"literal\">plot()</code> function with standard defaults (no type arguments) to generate a scatterplot. For example, with the simple script:</p><pre class=\"programlisting\">\n<span class=\"strong\"><strong>using Gadfly</strong></span>\n<span class=\"strong\"><strong>srand(111)</strong></span>\n<span class=\"strong\"><strong>plot(x=rand(7), y=rand(7))</strong></span>\n</pre><div class=\"note\" title=\"Note\" style=\"\"><div class=\"inner\"><h3 class=\"title\"><a id=\"note16\"/>Note</h3><p>We use the <code class=\"literal\">srand()</code> function in all examples that use random results. The <code class=\"literal\">srand()</code> function sets the random number seed value, so all results in this chapter are reproducible.</p></div></div><p>We generate a nice, clean scatterplot, as shown&#xA0;in the following screenshot:</p><p>\n</p><div class=\"mediaobject\"><img src=\"graphics/image_04_010.jpg\" alt=\"Julia Gadfly scatterplot\"/></div><p>\n</p></div><div class=\"section\" title=\"Julia Gadfly histogram\"><div class=\"titlepage\"><div><div><h2 class=\"title\"><a id=\"ch04lvl2sec20\"/>Julia Gadfly histogram</h2></div></div></div><p>We can produce other graph types as well, for example, a histogram using this script:</p><pre class=\"programlisting\">\n<span class=\"strong\"><strong>using Gadfly</strong></span>\n<span class=\"strong\"><strong>srand(111)</strong></span>\n<span class=\"strong\"><strong>plot(x=randn(113), Geom.histogram(bincount=10))</strong></span>\n</pre><p>This script generates 113 random numbers and generates a histogram of the results.</p><p>We see something like the following screenshot:</p><p>\n</p><div class=\"mediaobject\"><img src=\"graphics/image_04_011.jpg\" alt=\"Julia Gadfly histogram\"/></div><p>\n</p></div><div class=\"section\" title=\"Julia Winston plotting\"><div class=\"titlepage\"><div><div><h2 class=\"title\"><a id=\"ch04lvl2sec21\"/>Julia Winston plotting</h2></div></div></div><p>Another graphics package in Julia is <code class=\"literal\">Winston</code>. It has similar plotting capabilities to <code class=\"literal\">Gadfly</code> (I think <code class=\"literal\">Gadfly</code> is more up-to-date). We can produce a similar plot of random numbers using the following script:</p><pre class=\"programlisting\">\n<span class=\"strong\"><strong>using Winston</strong></span>\n<span class=\"strong\"><strong># fix the random seed so we have reproducible results</strong></span>\n<span class=\"strong\"><strong>srand(111)</strong></span>\n<span class=\"strong\"><strong># generate a plot</strong></span>\n<span class=\"strong\"><strong>pl = plot(cumsum(rand(100) .- 0.5), \"g\", cumsum(rand(100) .- 0.5), \"b\")</strong></span>\n<span class=\"strong\"><strong># display the plot</strong></span>\n<span class=\"strong\"><strong>display(pl)</strong></span>\n</pre><p>Note that, you have to specifically display the plot. The <code class=\"literal\">Winston</code> package assumes you want to store the graphic as a file, so the <code class=\"literal\">plot</code> function generates an object for handling.</p><p>Moving this into a notebook, we get the following screenshot:</p><p>\n</p><div class=\"mediaobject\"><img src=\"graphics/B05207_4_13.jpg\" alt=\"Julia Winston plotting\"/></div><p>\n</p></div></div></body></html>\n"
   ]
  },
  {
   "cell_type": "code",
   "execution_count": null,
   "metadata": {
    "collapsed": true
   },
   "outputs": [],
   "source": []
  }
 ],
 "metadata": {
  "kernelspec": {
   "display_name": "Python 3",
   "language": "python",
   "name": "python3"
  },
  "language_info": {
   "codemirror_mode": {
    "name": "ipython",
    "version": 3
   },
   "file_extension": ".py",
   "mimetype": "text/x-python",
   "name": "python",
   "nbconvert_exporter": "python",
   "pygments_lexer": "ipython3",
   "version": "3.6.3"
  }
 },
 "nbformat": 4,
 "nbformat_minor": 2
}
