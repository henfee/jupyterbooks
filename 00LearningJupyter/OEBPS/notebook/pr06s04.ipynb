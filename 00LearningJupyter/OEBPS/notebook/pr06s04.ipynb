{
 "cells": [
  {
   "cell_type": "markdown",
   "metadata": {},
   "source": [
   "<html xmlns=\"http://www.w3.org/1999/xhtml\"><head><title>Conventions</title><link rel=\"stylesheet\" href=\"epub.css\" type=\"text/css\"/><meta name=\"generator\" content=\"DocBook XSL Stylesheets V1.75.2\"/></head><body id=\"page\"><div class=\"section\" title=\"Conventions\"><div class=\"titlepage\"><div><div><h1 class=\"title\"><a id=\"pf07lvl1sec4\"/>Conventions</h1></div></div></div><p>In this book, you will find a number of text styles that distinguish between different kinds of information. Here are some examples of these styles and an explanation of their meaning.</p><p>Code words in text, database table names, folder names, filenames, file extensions, pathnames, dummy URLs, user input, and Twitter handles are shown as follows: \"Interestingly, the <code class=\"literal\">max</code> function does not work as expected.\"</p><p>A block of code is set as follows:</p><pre class=\"programlisting\">{ &#xD;\n  \"cells\": [ &#xD;\n    &lt;&lt;same format as seen earlier for the cells&gt;&gt; &#xD;\n  ], &#xD;\n  \"metadata\": { &#xD;\n    \"kernelspec\": { &#xD;\n      \"display_name\": \"Javascript (Node.js)\", &#xD;\n      \"language\": \"javascript\", &#xD;\n      \"name\": \"javascript\" &#xD;\n    }, &#xD;\n    \"language_info\": { &#xD;\n      \"file_extension\": \".js\", &#xD;\n      \"mimetype\": \"application/javascript\", &#xD;\n      \"name\": \"javascript\", &#xD;\n      \"version\": \"4.2.4\" &#xD;\n    } &#xD;\n  }, &#xD;\n  \"nbformat\": 4, &#xD;\n  \"nbformat_minor\": 0 &#xD;\n}</pre><p>Any command-line input or output is written as follows:</p><pre class=\"programlisting\">\n<span class=\"strong\"><strong>Pkg.add(\"DataFrames\")</strong></span>\n<span class=\"strong\"><strong>Pkg.add(\"RDatasets\")</strong></span>\n<span class=\"strong\"><strong>Pkg.add(\"Gadfly\")</strong></span>\n<span class=\"strong\"><strong>quit();</strong></span>\n</pre><p>\n<span class=\"strong\"><strong>New terms </strong></span>and <span class=\"strong\"><strong>important words </strong></span>are shown in bold. Words that you see on the screen, for example, in menus or dialog boxes, appear in the text like this: \"The <span class=\"strong\"><strong>Upload</strong></span> button is used to add files to the notebook space.\"</p><div class=\"note\" title=\"Note\" style=\"\"><div class=\"inner\"><h3 class=\"title\"><a id=\"note1\"/>Note</h3><p>Warnings or important notes appear in a box like this.</p></div></div><div class=\"note\" title=\"Note\" style=\"\"><div class=\"inner\"><h3 class=\"title\"><a id=\"tip2\"/>Tip</h3><p>Tips and tricks appear like this.</p></div></div></div></body></html>\n"
   ]
  },
  {
   "cell_type": "code",
   "execution_count": null,
   "metadata": {
    "collapsed": true
   },
   "outputs": [],
   "source": []
  }
 ],
 "metadata": {
  "kernelspec": {
   "display_name": "Python 3",
   "language": "python",
   "name": "python3"
  },
  "language_info": {
   "codemirror_mode": {
    "name": "ipython",
    "version": 3
   },
   "file_extension": ".py",
   "mimetype": "text/x-python",
   "name": "python",
   "nbconvert_exporter": "python",
   "pygments_lexer": "ipython3",
   "version": "3.6.3"
  }
 },
 "nbformat": 4,
 "nbformat_minor": 2
}
