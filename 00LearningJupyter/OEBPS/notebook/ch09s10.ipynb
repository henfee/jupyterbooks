{
 "cells": [
  {
   "cell_type": "markdown",
   "metadata": {},
   "source": [
   "<html xmlns=\"http://www.w3.org/1999/xhtml\"><head><title>Scala collections</title><link rel=\"stylesheet\" href=\"epub.css\" type=\"text/css\"/><meta name=\"generator\" content=\"DocBook XSL Stylesheets V1.75.2\"/></head><body id=\"page\"><div class=\"section\" title=\"Scala collections\"><div class=\"titlepage\"><div><div><h1 class=\"title\"><a id=\"ch09lvl1sec74\"/>Scala collections</h1></div></div></div><p>In Scala, collections are automatically mutable or immutable depending on your usage. All collections in <code class=\"literal\">scala.collections.immutable</code> are immutable, and vice versa for <code class=\"literal\">scala.collections.immutable</code>. Scala picks immutable collections by default, so your code will then draw automatically from the mutable collections:</p><pre class=\"programlisting\">\n<span class=\"strong\"><strong>var List mylist;</strong></span>\n</pre><p>This happens unless you prefix your variable with <code class=\"literal\">immutable</code>:</p><pre class=\"programlisting\">\n<span class=\"strong\"><strong>var mylist immutable.List;</strong></span>\n</pre><p>We can see this in this small amount of code, for example:</p><pre class=\"programlisting\">\n<span class=\"strong\"><strong>var mutableList = List(1, 2, 3);</strong></span>\n<span class=\"strong\"><strong>var immutableList = scala.collection.immutable.List(4, 5, 6);</strong></span>\n<span class=\"strong\"><strong>mutableList.updated(1,400);</strong></span>\n<span class=\"strong\"><strong>immutableList.updated(1,700);</strong></span>\n</pre><p>As you can see in this screenshot of the notebook:</p><p>\n</p><div class=\"mediaobject\"><img src=\"graphics/image_09_012.jpg\" alt=\"Scala collections\"/></div><p>\n</p><p>Note that Scala cheated a little here; it created a new collection when we updated <code class=\"literal\">immutableList</code>, as you can see, with the variable name as <code class=\"literal\">real_3</code> instead.</p></div></body></html>\n"
   ]
  },
  {
   "cell_type": "code",
   "execution_count": null,
   "metadata": {
    "collapsed": true
   },
   "outputs": [],
   "source": []
  }
 ],
 "metadata": {
  "kernelspec": {
   "display_name": "Python 3",
   "language": "python",
   "name": "python3"
  },
  "language_info": {
   "codemirror_mode": {
    "name": "ipython",
    "version": 3
   },
   "file_extension": ".py",
   "mimetype": "text/x-python",
   "name": "python",
   "nbconvert_exporter": "python",
   "pygments_lexer": "ipython3",
   "version": "3.6.3"
  }
 },
 "nbformat": 4,
 "nbformat_minor": 2
}
