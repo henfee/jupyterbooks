{
 "cells": [
  {
   "cell_type": "markdown",
   "metadata": {},
   "source": [
   "<html xmlns=\"http://www.w3.org/1999/xhtml\"><head><title>Scala pattern matching</title><link rel=\"stylesheet\" href=\"epub.css\" type=\"text/css\"/><meta name=\"generator\" content=\"DocBook XSL Stylesheets V1.75.2\"/></head><body id=\"page\"><div class=\"section\" title=\"Scala pattern matching\"><div class=\"titlepage\"><div><div><h1 class=\"title\"><a id=\"ch09lvl1sec71\"/>Scala pattern matching</h1></div></div></div><p>Scala has very useful, built-in pattern matching. Pattern matching can be used to test for exact and/or partial matches of entire values, parts of objects, and so on; you name it!</p><p>We can use this sample script for reference:</p><pre class=\"programlisting\">\n<span class=\"strong\"><strong>def matchTest(x: Any): Any = x match {</strong></span>\n<span class=\"strong\"><strong>  case 7 =&gt; \"seven\"</strong></span>\n<span class=\"strong\"><strong>  case \"two\" =&gt; 2</strong></span>\n<span class=\"strong\"><strong>  case _ =&gt; \"something\"</strong></span>\n<span class=\"strong\"><strong>}</strong></span>\n<span class=\"strong\"><strong>val isItTwo = matchTest(\"two\")</strong></span>\n<span class=\"strong\"><strong>val isItTest = matchTest(\"test\")</strong></span>\n<span class=\"strong\"><strong>val isItSeven = matchTest(7)</strong></span>\n</pre><p>We define a function called <code class=\"literal\">matchTest</code>. It takes any kind of argument and can return any type of result (not sure if that is real-life programming!).</p><p>The keyword of interest is <code class=\"literal\">match</code>. This means the function will walk down the list of choices until it gets a match on the value <code class=\"literal\">x</code> passed and then returns it.</p><p>As you can see, we have numbers and strings as input and output.</p><p>The last <code class=\"literal\">case</code> statement is a wildcard, catchall-if the code gets that far, it will match any argument.</p><p>We can see the output here:</p><p>\n</p><div class=\"mediaobject\"><img src=\"graphics/image_09_009.jpg\" alt=\"Scala pattern matching\"/></div><p>\n</p></div></body></html>\n"
   ]
  },
  {
   "cell_type": "code",
   "execution_count": null,
   "metadata": {
    "collapsed": true
   },
   "outputs": [],
   "source": []
  }
 ],
 "metadata": {
  "kernelspec": {
   "display_name": "Python 3",
   "language": "python",
   "name": "python3"
  },
  "language_info": {
   "codemirror_mode": {
    "name": "ipython",
    "version": 3
   },
   "file_extension": ".py",
   "mimetype": "text/x-python",
   "name": "python",
   "nbconvert_exporter": "python",
   "pygments_lexer": "ipython3",
   "version": "3.6.3"
  }
 },
 "nbformat": 4,
 "nbformat_minor": 2
}
