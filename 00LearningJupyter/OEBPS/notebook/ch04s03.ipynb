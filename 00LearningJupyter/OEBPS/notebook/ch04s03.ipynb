{
 "cells": [
  {
   "cell_type": "markdown",
   "metadata": {},
   "source": [
   "<html xmlns=\"http://www.w3.org/1999/xhtml\"><head><title>Julia limitations in Jupyter</title><link rel=\"stylesheet\" href=\"epub.css\" type=\"text/css\"/><meta name=\"generator\" content=\"DocBook XSL Stylesheets V1.75.2\"/></head><body id=\"page\"><div class=\"section\" title=\"Julia limitations in Jupyter\"><div class=\"titlepage\"><div><div><h1 class=\"title\"><a id=\"ch04lvl1sec31\"/>Julia limitations in Jupyter</h1></div></div></div><p>I have written Julia scripts and accessed different Julia libraries without issue in Jupyter. I have not noticed any limitations on its use or any performance degradation. I imagine some aspects of Julia that are very screen dependent (such as using the Julia Webstack to build a website) may be hampered by conflicting uses of the same concept.</p><p>I have repeatedly seen updates being run when I am attempting to run a Julia script, as in the following screenshot. I am not sure why they decided to always update the underlying tool rather than use what is in play and have the user specify whether to update libraries:</p><p>\n</p><div class=\"mediaobject\"><img src=\"graphics/image_04_008.jpg\" alt=\"Julia limitations in Jupyter\"/></div><p>\n</p><p>I have also noticed that once a Julia notebook is opened, even though I have closed the page, it will still display <span class=\"strong\"><strong>Running</strong></span> on the home page. I don't recall seeing this behavior with the other script languages available.</p><p>Another issue has been trying to use a secured package in my script, for example, <code class=\"literal\">plotly</code>. It appears to be a clean process to get credentials, but using the prescribed methods for passing your credentials to <code class=\"literal\">plotly</code> does not work under Windows. I am hesitant to provide examples that do not work in both environments.</p><p>Further interactions with Windows are also limited, for example, attempting to access environment variables by calls to standard C libraries that are normally not present on a Windows installation.</p><p>I have another issue with Julia itself-regardless of whether it's running in Jupyter or not. When using a package, it will complain about features that are used in the package that have been deprecated or improved. As a user of the package, I have no control over this behavior, so it does not help me in my work.</p></div></body></html>\n"
   ]
  },
  {
   "cell_type": "code",
   "execution_count": null,
   "metadata": {
    "collapsed": true
   },
   "outputs": [],
   "source": []
  }
 ],
 "metadata": {
  "kernelspec": {
   "display_name": "Python 3",
   "language": "python",
   "name": "python3"
  },
  "language_info": {
   "codemirror_mode": {
    "name": "ipython",
    "version": 3
   },
   "file_extension": ".py",
   "mimetype": "text/x-python",
   "name": "python",
   "nbconvert_exporter": "python",
   "pygments_lexer": "ipython3",
   "version": "3.6.3"
  }
 },
 "nbformat": 4,
 "nbformat_minor": 2
}
