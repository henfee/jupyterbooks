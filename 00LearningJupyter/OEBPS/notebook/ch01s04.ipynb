{
 "cells": [
  {
   "cell_type": "markdown",
   "metadata": {},
   "source": [
   "<html xmlns=\"http://www.w3.org/1999/xhtml\"><head><title>Notebook structure</title><link rel=\"stylesheet\" href=\"epub.css\" type=\"text/css\"/><meta name=\"generator\" content=\"DocBook XSL Stylesheets V1.75.2\"/></head><body id=\"page\"><div class=\"section\" title=\"Notebook structure\"><div class=\"titlepage\"><div><div><h1 class=\"title\"><a id=\"ch01lvl1sec10\"/>Notebook structure</h1></div></div></div><p>A Jupyter Notebook is fundamentally a JSON file with a number of annotations. The main parts of the Notebook are as follows:</p><div class=\"itemizedlist\"><ul class=\"itemizedlist\"><li class=\"listitem\" style=\"list-style-type: disc\"><span class=\"strong\"><strong>Metadata</strong></span>: A data dictionary of definitions used to set up and display the notebook</li><li class=\"listitem\" style=\"list-style-type: disc\"><span class=\"strong\"><strong>Notebook&#xA0;</strong></span><span class=\"strong\"><strong>format</strong></span>: Version numbers of the software used to create the notebook (the version number is used for backward compatibility)</li><li class=\"listitem\" style=\"list-style-type: disc\"><span class=\"strong\"><strong>List&#xA0;</strong></span><span class=\"strong\"><strong>of&#xA0;</strong></span><span class=\"strong\"><strong>cells</strong></span>:&#xA0;There are different types of cell for markdown (display), code (to execute), and output (of the code type cells)</li></ul></div></div></body></html>\n"
   ]
  },
  {
   "cell_type": "code",
   "execution_count": null,
   "metadata": {
    "collapsed": true
   },
   "outputs": [],
   "source": []
  }
 ],
 "metadata": {
  "kernelspec": {
   "display_name": "Python 3",
   "language": "python",
   "name": "python3"
  },
  "language_info": {
   "codemirror_mode": {
    "name": "ipython",
    "version": 3
   },
   "file_extension": ".py",
   "mimetype": "text/x-python",
   "name": "python",
   "nbconvert_exporter": "python",
   "pygments_lexer": "ipython3",
   "version": "3.6.3"
  }
 },
 "nbformat": 4,
 "nbformat_minor": 2
}
