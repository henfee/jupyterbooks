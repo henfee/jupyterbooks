{
 "cells": [
  {
   "cell_type": "markdown",
   "metadata": {},
   "source": [
   "<html xmlns=\"http://www.w3.org/1999/xhtml\"><head><title>JavaScript Hello World Jupyter Notebook</title><link rel=\"stylesheet\" href=\"epub.css\" type=\"text/css\"/><meta name=\"generator\" content=\"DocBook XSL Stylesheets V1.75.2\"/></head><body id=\"page\"><div class=\"section\" title=\"JavaScript Hello World Jupyter Notebook\"><div class=\"titlepage\"><div><div><h1 class=\"title\"><a id=\"ch05lvl1sec41\"/>JavaScript Hello World Jupyter Notebook</h1></div></div></div><p>Once it's installed, we can attempt the first JavaScript notebook by clicking on the <span class=\"strong\"><strong>New</strong></span> menu and selecting JavaScript. We name the notebook <code class=\"literal\">Hello World Javascript</code> and put the following lines in this script:</p><pre class=\"programlisting\">\n<span class=\"strong\"><strong>var msg = \"Hello, World!\"</strong></span>\n<span class=\"strong\"><strong>console.log(msg)</strong></span>\n</pre><p>This script sets a variable and displays the contents of the variable. After entering the script and running (<span class=\"strong\"><strong>Cell</strong></span> | <span class=\"strong\"><strong>Run All</strong></span>) we end up with a notebook screen that looks like the following screenshot:</p><p>\n</p><div class=\"mediaobject\"><img src=\"graphics/image_05_004.jpg\" alt=\"JavaScript Hello World Jupyter Notebook\"/></div><p>\n</p><p>We should point out some of the highlights of this page:</p><div class=\"itemizedlist\"><ul class=\"itemizedlist\"><li class=\"listitem\" style=\"list-style-type: disc\">We have the now-familiar language logo in the upper-right that depicts the type of script in use.</li><li class=\"listitem\" style=\"list-style-type: disc\">There is output (<code class=\"literal\">Out</code>) from every line of the notebook. This appears to be a work in progress as line numbering is not meaningful.</li><li class=\"listitem\" style=\"list-style-type: disc\">More importantly, we see the true output of the notebook (line 2 in the preceding screenshot) where the string is echoed.</li><li class=\"listitem\" style=\"list-style-type: disc\">Otherwise, the notebook looks as familiar to the other types we have seen.</li></ul></div><p>If we look at the contents of the notebook on disk, we see similar results as well:</p><pre class=\"programlisting\">{ \n  \"cells\": [ \n    &lt;&lt;same format as seen earlier for the cells&gt;&gt; \n  ], \n  \"metadata\": { \n    \"kernelspec\": { \n      \"display_name\": \"Javascript (Node.js)\", \n      \"language\": \"javascript\", \n      \"name\": \"javascript\" \n    }, \n    \"language_info\": { \n      \"file_extension\": \".js\", \n      \"mimetype\": \"application/javascript\", \n      \"name\": \"javascript\", \n      \"version\": \"4.2.4\" \n    } \n  }, \n  \"nbformat\": 4, \n  \"nbformat_minor\": 0 \n} \n</pre><p>So, using the same notebook, in the JSON file format, Jupyter provides a different language for use in the notebook by changing the <code class=\"literal\">metadata</code> and <code class=\"literal\">language_info</code> values appropriately.</p><div class=\"section\" title=\"Adding JavaScript packages to Jupyter\"><div class=\"titlepage\"><div><div><h2 class=\"title\"><a id=\"ch05lvl2sec25\"/>Adding JavaScript packages to Jupyter</h2></div></div></div><p>The JavaScript language does not normally install additional packages-it makes reference to other packages via the runtime <code class=\"literal\">include</code> directive used in your programs. Other packages can be referenced across the network or copied locally into your environment. It is assumed that accessing a library across the network via a CDN is a more efficient and faster mechanism.</p><p>However, Node.js adds the <code class=\"literal\">require</code> verb to the JavaScript syntax. In this case, your code requires another module to be loaded, assumed to be installed in your current environment. To install another module, use <code class=\"literal\">npm</code>:</p><pre class=\"programlisting\">\n<span class=\"strong\"><strong>npm install name-of-module</strong></span>\n</pre><p>This would install the module referenced (including any embedded packages that are required) on your machine so that a require statement will work correctly.</p></div></div></body></html>\n"
   ]
  },
  {
   "cell_type": "code",
   "execution_count": null,
   "metadata": {
    "collapsed": true
   },
   "outputs": [],
   "source": []
  }
 ],
 "metadata": {
  "kernelspec": {
   "display_name": "Python 3",
   "language": "python",
   "name": "python3"
  },
  "language_info": {
   "codemirror_mode": {
    "name": "ipython",
    "version": 3
   },
   "file_extension": ".py",
   "mimetype": "text/x-python",
   "name": "python",
   "nbconvert_exporter": "python",
   "pygments_lexer": "ipython3",
   "version": "3.6.3"
  }
 },
 "nbformat": 4,
 "nbformat_minor": 2
}
