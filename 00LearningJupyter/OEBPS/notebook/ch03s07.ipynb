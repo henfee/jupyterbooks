{
 "cells": [
  {
   "cell_type": "markdown",
   "metadata": {},
   "source": [
   "<html xmlns=\"http://www.w3.org/1999/xhtml\"><head><title>Summary</title><link rel=\"stylesheet\" href=\"epub.css\" type=\"text/css\"/><meta name=\"generator\" content=\"DocBook XSL Stylesheets V1.75.2\"/></head><body id=\"page\"><div class=\"section\" title=\"Summary\"><div class=\"titlepage\"><div><div><h1 class=\"title\"><a id=\"ch03lvl1sec28\"/>Summary</h1></div></div></div><p>In this chapter, we added the ability to use R scripts in your Jupyter&#xA0;Notebook. We added an R library not included in the standard R installation and we made a <code class=\"literal\">Hello World</code> script in R. We then saw R data access built-in libraries and some of the simpler graphics and statistics that are automatically generated. We used an R script to generate 3D graphics in a couple of different ways. We then performed a standard cluster analysis (which I think is one of the basic uses of R) and used one of the available forecasting tools.</p><p>In the next chapter, we will learn all about Julia scripting in a Jupyter&#xA0;Notebook.</p></div></body></html>\n"
   ]
  },
  {
   "cell_type": "code",
   "execution_count": null,
   "metadata": {
    "collapsed": true
   },
   "outputs": [],
   "source": []
  }
 ],
 "metadata": {
  "kernelspec": {
   "display_name": "Python 3",
   "language": "python",
   "name": "python3"
  },
  "language_info": {
   "codemirror_mode": {
    "name": "ipython",
    "version": 3
   },
   "file_extension": ".py",
   "mimetype": "text/x-python",
   "name": "python",
   "nbconvert_exporter": "python",
   "pygments_lexer": "ipython3",
   "version": "3.6.3"
  }
 },
 "nbformat": 4,
 "nbformat_minor": 2
}
