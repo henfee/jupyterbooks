{
 "cells": [
  {
   "cell_type": "markdown",
   "metadata": {},
   "source": [
   "<html xmlns=\"http://www.w3.org/1999/xhtml\"><head><title>Credits</title><link rel=\"stylesheet\" href=\"epub.css\" type=\"text/css\"/><meta name=\"generator\" content=\"DocBook XSL Stylesheets V1.75.2\"/></head><body id=\"page\"><div class=\"preface\" title=\"Credits\"><div class=\"titlepage\"><div><div><h1 class=\"title\"><a id=\"pref03\"/>Credits</h1></div></div></div><div class=\"informaltable\"><table border=\"1\"><colgroup><col/><col/></colgroup><tbody><tr><td>\n<p>\n<span class=\"strong\"><strong>Author</strong></span>\n</p>\n<p>Dan Toomey</p>\n</td><td>\n<p>\n<span class=\"strong\"><strong>Copy Editors</strong></span>\n</p>\n<p>Vikrant Phadke</p>\n<p>Safis Editing</p>\n</td></tr><tr><td>\n<p>\n<span class=\"strong\"><strong>Reviewer</strong></span>\n</p>\n<p>Jesse Bacon</p>\n</td><td>\n<p>\n<span class=\"strong\"><strong>Project Coordinator</strong></span>\n</p>\n<p>Nidhi Joshi&#xA0;</p>\n</td></tr><tr><td>\n<p>\n<span class=\"strong\"><strong>Commissioning Editor</strong></span>\n</p>\n<p>Veena Pagare</p>\n</td><td>\n<p>\n<span class=\"strong\"><strong>Proofreader</strong></span>\n</p>\n<p>Safis Editing</p>\n</td></tr><tr><td>\n<p>\n<span class=\"strong\"><strong>Acquisition Editor</strong></span>\n</p>\n<p>Manish Nainani</p>\n</td><td>\n<p>\n<span class=\"strong\"><strong>Indexer</strong></span>\n</p>\n<p>Mariammal Chettiyar</p>\n</td></tr><tr><td>\n<p>\n<span class=\"strong\"><strong>Content Development Editor</strong></span>\n</p>\n<p>Aishwarya Pandere</p>\n</td><td>\n<p>\n<span class=\"strong\"><strong>Graphics</strong></span>\n</p>\n<p>Disha Haria</p>\n</td></tr><tr><td>\n<p>\n<span class=\"strong\"><strong>Technical Editor</strong></span>\n</p>\n<p>Prasad Ramesh</p>\n</td><td>\n<p>\n<span class=\"strong\"><strong>Production Coordinator</strong></span>\n</p>\n<p>Nilesh Mohite</p>\n</td></tr></tbody></table></div></div></body></html>\n"
   ]
  },
  {
   "cell_type": "code",
   "execution_count": null,
   "metadata": {
    "collapsed": true
   },
   "outputs": [],
   "source": []
  }
 ],
 "metadata": {
  "kernelspec": {
   "display_name": "Python 3",
   "language": "python",
   "name": "python3"
  },
  "language_info": {
   "codemirror_mode": {
    "name": "ipython",
    "version": 3
   },
   "file_extension": ".py",
   "mimetype": "text/x-python",
   "name": "python",
   "nbconvert_exporter": "python",
   "pygments_lexer": "ipython3",
   "version": "3.6.3"
  }
 },
 "nbformat": 4,
 "nbformat_minor": 2
}
