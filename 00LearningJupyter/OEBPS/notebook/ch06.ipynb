{
 "cells": [
  {
   "cell_type": "markdown",
   "metadata": {},
   "source": [
   "<html xmlns=\"http://www.w3.org/1999/xhtml\"><head><title>Chapter&#xA0;6.&#xA0; Interactive Widgets</title><link rel=\"stylesheet\" href=\"epub.css\" type=\"text/css\"/><meta name=\"generator\" content=\"DocBook XSL Stylesheets V1.75.2\"/></head><body id=\"page\"><div class=\"chapter\" title=\"Chapter&#xA0;6.&#xA0; Interactive Widgets\"><div class=\"titlepage\"><div><div><h1 class=\"title\"><a id=\"ch06\"/>Chapter&#xA0;6.&#xA0;   Interactive Widgets   </h1></div></div></div><p>There is a mechanism built for Jupyter to gather input from the user as the script is running. To do this, we put in coding in the form of a <span class=\"emphasis\"><em>widget</em></span> or user interface control in the script. The widgets we will use in this chapter are defined at\n<a class=\"ulink\" href=\"http://ipywidgets.readthedocs.io/en/latest/\">http://ipywidgets.readthedocs.io/en/latest/</a>\n.</p><p>There are widgets for the following:</p><div class=\"itemizedlist\"><ul class=\"itemizedlist\"><li class=\"listitem\" style=\"list-style-type: disc\"><span class=\"strong\"><strong>Text input</strong></span>: Notebook users enter a string that will be used later in the script.</li><li class=\"listitem\" style=\"list-style-type: disc\"><span class=\"strong\"><strong>Button clicks</strong></span>: The user is presented with multiple options in the form of buttons; then, depending on which button is selected (clicked on), your script can change direction according to the user.</li><li class=\"listitem\" style=\"list-style-type: disc\"><span class=\"strong\"><strong>Slider</strong></span>: You can provide the user with a <span class=\"emphasis\"><em>slider</em></span> with which the user can select a value within the range you specify, and then your script can use that value accordingly.</li><li class=\"listitem\" style=\"list-style-type: disc\"><span class=\"strong\"><strong>Toggle box and checkboxes</strong></span>: The user selects the different options of your script that they are interested in working with.</li><li class=\"listitem\" style=\"list-style-type: disc\"><span class=\"strong\"><strong>Progress bar</strong></span>: If your script will take some time to process, it would be considerate to present a progress bar so they have some idea of how long it might take to finish. Similarly, a progress bar can be used to show how far along they are in a multi-step process.</li><li class=\"listitem\" style=\"list-style-type: disc\">There are a few constraints to the types of input you can gather from the user. So, you could make really interesting widgets that do not fit the standard user input control paradigm. For example, there is a widget (<code class=\"literal\">ipyleaflet</code>) allowing a user to click on a geographical map where the underlying script will get the geographic data point selected and operate accordingly.</li></ul></div><p>In this chapter, we will cover the following topics:</p><div class=\"itemizedlist\"><ul class=\"itemizedlist\"><li class=\"listitem\" style=\"list-style-type: disc\">Installing widgets</li><li class=\"listitem\" style=\"list-style-type: disc\">Widget basics</li><li class=\"listitem\" style=\"list-style-type: disc\">Interact widget</li><li class=\"listitem\" style=\"list-style-type: disc\">Interactive widget</li><li class=\"listitem\" style=\"list-style-type: disc\">Widgets package</li></ul></div><div class=\"section\" title=\"Installing widgets\"><div class=\"titlepage\"><div><div><h1 class=\"title\"><a id=\"ch06lvl1sec52\"/>Installing widgets</h1></div></div></div><p>The widgets package is an upgrade to the standard Jupyter installation. You can update the widgets package using this command:</p><pre class=\"programlisting\">\n<span class=\"strong\"><strong>pip install ipywidgets</strong></span>\n</pre><p>Note that, if <code class=\"literal\">ipywidgets</code> is already installed on your machine you may need to use this command for the upgrade to take effect:</p><pre class=\"programlisting\">\n<span class=\"strong\"><strong>pip install -upgrade ipywidgets</strong></span>\n</pre><p>Once complete, you must then upgrade your Jupyter installation using this command:</p><pre class=\"programlisting\">\n<span class=\"strong\"><strong>jupyter nbextension enable -py widgetsnbextension</strong></span>\n</pre><div class=\"note\" title=\"Note\" style=\"\"><div class=\"inner\"><h3 class=\"title\"><a id=\"tip23\"/>Tip</h3><p>You may have to restart your notebook for the extensions to take effect.</p></div></div><p>If you do not install the package and the upgrade, then when you run your widgets script you will get a warning message in the display&#x2014;<span class=\"strong\"><strong>The installed widget JavaScript is the wrong version</strong></span>:</p><p>\n</p><div class=\"mediaobject\"><img src=\"graphics/image_06_001.jpg\" alt=\"Installing widgets\"/></div><p>\n</p><div class=\"note\" title=\"Note\" style=\"\"><div class=\"inner\"><h3 class=\"title\"><a id=\"note24\"/>Note</h3><p>I updated my installation, but still received the warning message for some screens. I assume it is a matter of time before this warning message bug is resolved in a future version of the software.</p></div></div></div></div></body></html>\n"
   ]
  },
  {
   "cell_type": "code",
   "execution_count": null,
   "metadata": {
    "collapsed": true
   },
   "outputs": [],
   "source": []
  }
 ],
 "metadata": {
  "kernelspec": {
   "display_name": "Python 3",
   "language": "python",
   "name": "python3"
  },
  "language_info": {
   "codemirror_mode": {
    "name": "ipython",
    "version": 3
   },
   "file_extension": ".py",
   "mimetype": "text/x-python",
   "name": "python",
   "nbconvert_exporter": "python",
   "pygments_lexer": "ipython3",
   "version": "3.6.3"
  }
 },
 "nbformat": 4,
 "nbformat_minor": 2
}
