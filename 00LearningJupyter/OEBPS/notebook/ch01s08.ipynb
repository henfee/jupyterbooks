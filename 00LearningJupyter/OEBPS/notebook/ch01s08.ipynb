{
 "cells": [
  {
   "cell_type": "markdown",
   "metadata": {},
   "source": [
   "<html xmlns=\"http://www.w3.org/1999/xhtml\"><head><title>Configuration options for Jupyter</title><link rel=\"stylesheet\" href=\"epub.css\" type=\"text/css\"/><meta name=\"generator\" content=\"DocBook XSL Stylesheets V1.75.2\"/></head><body id=\"page\"><div class=\"section\" title=\"Configuration options for Jupyter\"><div class=\"titlepage\"><div><div><h1 class=\"title\"><a id=\"ch01lvl1sec14\"/>Configuration options for Jupyter</h1></div></div></div><p>You can configure some of the display parameters used when presenting notebooks. These are configurable due to the use of a product (CodeMirror) to present and modify the notebook. CodeMirror is a JavaScript-based editor for use within web pages (notebooks).</p><p>The list of configurable options is still in development. Some of the options are as follows:</p><div class=\"itemizedlist\"><ul class=\"itemizedlist\"><li class=\"listitem\" style=\"list-style-type: disc\"><code class=\"literal\">lineSeparator</code>: The character used to separate text lines</li><li class=\"listitem\" style=\"list-style-type: disc\"><code class=\"literal\">theme</code>: The overall theme of presentation used in the notebook</li><li class=\"listitem\" style=\"list-style-type: disc\"><code class=\"literal\">indentUnit</code>: How many spaces to indent blocks of coding</li></ul></div><p>To change the configuration of one of the options, you open the JavaScript window of your browser, enter the coding to modify an option, and then load your notebook. Then the modifications you made would be applied to the notebook presentation. There is further documentation available at <a class=\"ulink\" href=\"https://codemirror.net/doc/manual.html#option_indentUnit\">https://codemirror.net/doc/manual.html#option_indentUnit</a>.</p><p>For example, to change the indentation (indent-unit) for your notebook, you would use the following JavaScript:</p><pre class=\"programlisting\">\n<span class=\"strong\"><strong>var mycell = Jupyter.notebook.get_selected_cell();</strong></span>\n<span class=\"strong\"><strong>var cell_config = mycell.config;</strong></span>\n<span class=\"strong\"><strong>var code_patch = {</strong></span>\n<span class=\"strong\"><strong>      CodeCell:{</strong></span>\n<span class=\"strong\"><strong>        cm_config:{indentUnit:2}</strong></span>\n<span class=\"strong\"><strong>      }</strong></span>\n<span class=\"strong\"><strong>    }</strong></span>\n<span class=\"strong\"><strong>cell_config.update(code_patch)</strong></span>\n</pre><p>You have now seen all of the standard operations available to you in a Jupyter Notebook.</p></div></body></html>\n"
   ]
  },
  {
   "cell_type": "code",
   "execution_count": null,
   "metadata": {
    "collapsed": true
   },
   "outputs": [],
   "source": []
  }
 ],
 "metadata": {
  "kernelspec": {
   "display_name": "Python 3",
   "language": "python",
   "name": "python3"
  },
  "language_info": {
   "codemirror_mode": {
    "name": "ipython",
    "version": 3
   },
   "file_extension": ".py",
   "mimetype": "text/x-python",
   "name": "python",
   "nbconvert_exporter": "python",
   "pygments_lexer": "ipython3",
   "version": "3.6.3"
  }
 },
 "nbformat": 4,
 "nbformat_minor": 2
}
