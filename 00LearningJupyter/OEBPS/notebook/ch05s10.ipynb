{
 "cells": [
  {
   "cell_type": "markdown",
   "metadata": {},
   "source": [
   "<html xmlns=\"http://www.w3.org/1999/xhtml\"><head><title>Node.js asynchronous threads</title><link rel=\"stylesheet\" href=\"epub.css\" type=\"text/css\"/><meta name=\"generator\" content=\"DocBook XSL Stylesheets V1.75.2\"/></head><body id=\"page\"><div class=\"section\" title=\"Node.js asynchronous threads\"><div class=\"titlepage\"><div><div><h1 class=\"title\"><a id=\"ch05lvl1sec49\"/>Node.js asynchronous threads</h1></div></div></div><p>Node.js has built-in mechanisms for creating threads and having them fire asynchronously. Using an example from \n<a class=\"ulink\" href=\"http://book.mixu.net/node/ch7.html\">http://book.mixu.net/node/ch7.html</a>, we have the following:</p><pre class=\"programlisting\">\n<span class=\"strong\"><strong>//thread function - invoked for every number in items array</strong></span>\n<span class=\"strong\"><strong>function async(arg, callback) {</strong></span>\n<span class=\"strong\"><strong>  console.log('cube ''+arg+'', and return 2 seconds later');</strong></span>\n<span class=\"strong\"><strong>  setTimeout(function() { callback(arg * 3); }, 2000);</strong></span>\n<span class=\"strong\"><strong>}</strong></span>\n<span class=\"strong\"><strong>//function called once - after all threads complete</strong></span>\n<span class=\"strong\"><strong>function final() { console.log('Done', results); }</strong></span>\n<span class=\"strong\"><strong>//list of numbers to operate upon</strong></span>\n<span class=\"strong\"><strong>var items = [ 0, 1, 1, 2, 3, 5, 7, 11 ];</strong></span>\n<span class=\"strong\"><strong>//results of each step</strong></span>\n<span class=\"strong\"><strong>var results = [];</strong></span>\n<span class=\"strong\"><strong>//loop the drives the whole process</strong></span>\n<span class=\"strong\"><strong>items.forEach(function(item) {</strong></span>\n<span class=\"strong\"><strong>  async(item, function(result){</strong></span>\n<span class=\"strong\"><strong>    results.push(result);</strong></span>\n<span class=\"strong\"><strong>    if(results.length == items.length) {</strong></span>\n<span class=\"strong\"><strong>      final();</strong></span>\n<span class=\"strong\"><strong>    }</strong></span>\n<span class=\"strong\"><strong>  })</strong></span>\n<span class=\"strong\"><strong>});</strong></span>\n</pre><p>This script creates an asynchronous function that operates on a number. For every number (item), we call upon the inline function passing the number to the function that applies the number to the results list. In this case, it just triples the number and waits for two seconds. The main loop (at the bottom of the script) creates a thread for each number in the list and then waits for them all to complete before calling the <code class=\"literal\">final()</code> routine.</p><p>The notebook page looks like this:</p><p>\n</p><div class=\"mediaobject\"><img src=\"graphics/image_05_014.jpg\" alt=\"Node.js asynchronous threads\"/></div><p>\n</p><p>When we run the script, we get something like this output:</p><p>\n</p><div class=\"mediaobject\"><img src=\"graphics/image_05_015.jpg\" alt=\"Node.js asynchronous threads\"/></div><p>\n</p><p>It is odd to see the delay for the last line of output (from the <code class=\"literal\">final()</code> routine) to display, although we specifically stated to add a delay when we coded the <code class=\"literal\">async</code> function.</p><p>Also, when I played around with other functions, such as cubing each number, the results list came back in a very different order. I would not have thought such a basic math function would have any effect on performance.</p></div></body></html>\n"
   ]
  },
  {
   "cell_type": "code",
   "execution_count": null,
   "metadata": {
    "collapsed": true
   },
   "outputs": [],
   "source": []
  }
 ],
 "metadata": {
  "kernelspec": {
   "display_name": "Python 3",
   "language": "python",
   "name": "python3"
  },
  "language_info": {
   "codemirror_mode": {
    "name": "ipython",
    "version": 3
   },
   "file_extension": ".py",
   "mimetype": "text/x-python",
   "name": "python",
   "nbconvert_exporter": "python",
   "pygments_lexer": "ipython3",
   "version": "3.6.3"
  }
 },
 "nbformat": 4,
 "nbformat_minor": 2
}
