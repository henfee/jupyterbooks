{
 "cells": [
  {
   "cell_type": "markdown",
   "metadata": {},
   "source": [
   "<html xmlns=\"http://www.w3.org/1999/xhtml\"><head><title>R cluster analysis</title><link rel=\"stylesheet\" href=\"epub.css\" type=\"text/css\"/><meta name=\"generator\" content=\"DocBook XSL Stylesheets V1.75.2\"/></head><body id=\"page\"><div class=\"section\" title=\"R cluster analysis\"><div class=\"titlepage\"><div><div><h1 class=\"title\"><a id=\"ch03lvl1sec26\"/>R cluster analysis</h1></div></div></div><p>In this example, we use R's cluster analysis functions to determine the clustering in the wheat dataset from \n<a class=\"ulink\" href=\"http://www.ics.uci.edu/\">http://www.ics.uci.edu/</a>.</p><p>The R script we want to use in Jupyter is the following:</p><pre class=\"programlisting\">\n<span class=\"strong\"><strong># load the wheat data set from uci.edu</strong></span>\n<span class=\"strong\"><strong>wheat &lt;- read.csv(\"http://archive.ics.uci.edu/ml/machine-learning-databases/00236/seeds_dataset.txt\", sep=\"\\t\")</strong></span>\n<span class=\"strong\"><strong># define useful column names</strong></span>\n<span class=\"strong\"><strong>colnames(wheat) &lt;-c(\"area\", \"perimeter\", \"compactness\", \"length\", \"width\", \"asymmetry\", \"groove\", \"undefined\")</strong></span>\n<span class=\"strong\"><strong># exclude incomplete cases from the data</strong></span>\n<span class=\"strong\"><strong>wheat &lt;- wheat[complete.cases(wheat),]</strong></span>\n<span class=\"strong\"><strong># calculate the clusters</strong></span>\n<span class=\"strong\"><strong>fit &lt;- kmeans(wheat, 5)</strong></span>\n<span class=\"strong\"><strong>fit</strong></span>\n</pre><p>Once entered into a notebook, we have something like this:</p><p>\n</p><div class=\"mediaobject\"><img src=\"graphics/image_03_012.jpg\" alt=\"R cluster analysis\"/></div><p>\n</p><p>The resulting&#xA0;generated cluster information is K-means clustering with five clusters of sizes 29, 57, 65, 15, and 32. (Note that, since I had not set the seed value for random number to use, your results may vary.)</p><p>Cluster means are:</p><pre class=\"programlisting\">\n<span class=\"strong\"><strong>      area perimeter compactness   length    width asymmetry   </strong></span>\n<span class=\"strong\"><strong>1 16.45345  15.35310   0.8768000 5.882655 3.462517  3.913207 </strong></span>\n<span class=\"strong\"><strong>2 14.06456  14.17175   0.8788158 5.463825 3.211526  2.496354 </strong></span>\n<span class=\"strong\"><strong>3 11.91292  13.26692   0.8496292 5.237477 2.857908  4.844477 </strong></span>\n<span class=\"strong\"><strong>4 19.58333  16.64600   0.8877267 6.315867 3.835067  5.081533 </strong></span>\n<span class=\"strong\"><strong>5 18.95781  16.39563   0.8862125 6.250469 3.742781  2.719813 </strong></span>\n</pre><p>Clustering vectors are:</p><pre class=\"programlisting\">\n<span class=\"strong\"><strong>  1   2   3   4   5   6   9  10  11  12  13  14  15  16  17  18  19  20  21  22 </strong></span>\n<span class=\"strong\"><strong>  2   2   2   2   2   2   1   1   1   2   2   2   2   2   2   2   2   2   2   2 </strong></span>\n<span class=\"strong\"><strong>...</strong></span>\n</pre><p>Within cluster sum of squares by cluster are:</p><pre class=\"programlisting\">\n<span class=\"strong\"><strong>[1]  54.16095 146.71080 147.29278  25.81297  30.06596</strong></span>\n<span class=\"strong\"><strong> (between_SS / total_SS =  85.0 %)</strong></span>\n</pre><p>The available components are:</p><pre class=\"programlisting\">\n<span class=\"strong\"><strong>[1] \"cluster\"      \"centers\"      \"totss\"        \"withinss\"     \"tot.withinss\"</strong></span>\n<span class=\"strong\"><strong>[6] \"betweenss\"    \"size\"         \"iter\"         \"ifault\"  </strong></span>\n</pre><p>So, we generated information about five clusters (the parameter passed in the <code class=\"literal\">fit</code> statement).</p></div></body></html>\n"
   ]
  },
  {
   "cell_type": "code",
   "execution_count": null,
   "metadata": {
    "collapsed": true
   },
   "outputs": [],
   "source": []
  }
 ],
 "metadata": {
  "kernelspec": {
   "display_name": "Python 3",
   "language": "python",
   "name": "python3"
  },
  "language_info": {
   "codemirror_mode": {
    "name": "ipython",
    "version": 3
   },
   "file_extension": ".py",
   "mimetype": "text/x-python",
   "name": "python",
   "nbconvert_exporter": "python",
   "pygments_lexer": "ipython3",
   "version": "3.6.3"
  }
 },
 "nbformat": 4,
 "nbformat_minor": 2
}
