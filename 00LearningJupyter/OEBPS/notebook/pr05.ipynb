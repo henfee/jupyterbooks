{
 "cells": [
  {
   "cell_type": "markdown",
   "metadata": {},
   "source": [
   "<html xmlns=\"http://www.w3.org/1999/xhtml\"><head><title>www.PacktPub.com</title><link rel=\"stylesheet\" href=\"epub.css\" type=\"text/css\"/><meta name=\"generator\" content=\"DocBook XSL Stylesheets V1.75.2\"/></head><body id=\"page\"><div class=\"preface\" title=\"www.PacktPub.com\"><div class=\"titlepage\"><div><div><h1 class=\"title\"><a id=\"pref06\"/>www.PacktPub.com</h1></div></div></div><p>For support files and downloads related to your book, please visit&#xA0;<a class=\"ulink\" href=\"http://www.PacktPub.com\">www.PacktPub.com</a>.</p><p>Did you know that Packt offers eBook versions of every book published, with PDF and ePub files available? You can upgrade to the eBook version at&#xA0;<a class=\"ulink\" href=\"http://www.PacktPub.com\">www.PacktPub.com</a> and as a print book customer, you are entitled to a discount on the eBook copy. Get in touch with us at&#xA0;service@packtpub.com for more details.</p><p>At&#xA0;<a class=\"ulink\" href=\"http://www.PacktPub.com\">www.PacktPub.com</a>, you can also read a collection of free technical articles, sign up for a range of free newsletters and receive exclusive discounts and offers on Packt books and eBooks.</p><p>\n</p><div class=\"mediaobject\"><img src=\"graphics/Mapt_logo.jpg\" alt=\"www.PacktPub.com\"/></div><p>\n</p><p>\n<a class=\"ulink\" href=\"https://www.packtpub.com/mapt\">https://www.packtpub.com/mapt</a>\n</p><p>Get the most in-demand software skills with Mapt. Mapt gives you full access to all Packt books and video courses, as well as industry-leading tools to help you plan your personal development and advance your career.</p><div class=\"section\" title=\"Why subscribe?\"><div class=\"titlepage\"><div><div><h1 class=\"title\"><a id=\"pf06lvl2sec0\"/>Why subscribe?</h1></div></div></div><div class=\"itemizedlist\"><ul class=\"itemizedlist\"><li class=\"listitem\" style=\"list-style-type: disc\">Fully searchable across every book published by Packt</li><li class=\"listitem\" style=\"list-style-type: disc\">Copy and paste, print, and bookmark content</li><li class=\"listitem\" style=\"list-style-type: disc\">On demand and accessible via a web browser</li></ul></div></div></div></body></html>\n"
   ]
  },
  {
   "cell_type": "code",
   "execution_count": null,
   "metadata": {
    "collapsed": true
   },
   "outputs": [],
   "source": []
  }
 ],
 "metadata": {
  "kernelspec": {
   "display_name": "Python 3",
   "language": "python",
   "name": "python3"
  },
  "language_info": {
   "codemirror_mode": {
    "name": "ipython",
    "version": 3
   },
   "file_extension": ".py",
   "mimetype": "text/x-python",
   "name": "python",
   "nbconvert_exporter": "python",
   "pygments_lexer": "ipython3",
   "version": "3.6.3"
  }
 },
 "nbformat": 4,
 "nbformat_minor": 2
}
