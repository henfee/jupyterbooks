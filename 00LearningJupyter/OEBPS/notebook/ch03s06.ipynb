{
 "cells": [
  {
   "cell_type": "markdown",
   "metadata": {},
   "source": [
   "<html xmlns=\"http://www.w3.org/1999/xhtml\"><head><title>R forecasting</title><link rel=\"stylesheet\" href=\"epub.css\" type=\"text/css\"/><meta name=\"generator\" content=\"DocBook XSL Stylesheets V1.75.2\"/></head><body id=\"page\"><div class=\"section\" title=\"R forecasting\"><div class=\"titlepage\"><div><div><h1 class=\"title\"><a id=\"ch03lvl1sec27\"/>R forecasting</h1></div></div></div><p>For this example, we will forecast the Fraser River levels given the data from&#xA0;\n<a class=\"ulink\" href=\"https://datamarket.com/data/set/22nm/fraser-river-at-hope-1913-1990#!ds=22nm&amp;display=line\">https://datamarket.com/data/set/22nm/fraser-river-at-hope-1913-1990#!ds=22nm&amp;display=line</a>\n. I was not able to find a suitable source so I extracted the data by hand from the site into a local file.</p><p>We will be using the R forecast package. You have to add this package to your setup (as described at the start of this chapter).</p><p>The R script we will be using is as follows:</p><pre class=\"programlisting\">\n<span class=\"strong\"><strong>library(forecast)</strong></span>\n<span class=\"strong\"><strong>fraser &lt;- scan(\"fraser.txt\")</strong></span>\n<span class=\"strong\"><strong>plot(fraser)</strong></span>\n<span class=\"strong\"><strong>fraser.ts &lt;- ts(fraser, frequency=12, start=c(1913,3))</strong></span>\n<span class=\"strong\"><strong>fraser.stl = stl(fraser.ts, s.window=\"periodic\")</strong></span>\n<span class=\"strong\"><strong>monthplot(fraser.stl)</strong></span>\n<span class=\"strong\"><strong>seasonplot(fraser.ts)</strong></span>\n</pre><p>The output of interest in this example are the three plots: simple plot, monthly, and computed seasonal.</p><p>The simple plot (using the R <code class=\"literal\">plot</code> command) is like the following screenshot. There is no apparent organization or structure:</p><p>\n</p><div class=\"mediaobject\"><img src=\"graphics/image_03_013.jpg\" alt=\"R forecasting\"/></div><p>\n</p><p>The monthly plot (using the <code class=\"literal\">monthplot</code> command) is like the following screenshot. River flows appear to be very consistent within a month:</p><p>\n</p><div class=\"mediaobject\"><img src=\"graphics/image_03_014.jpg\" alt=\"R forecasting\"/></div><p>\n</p><p>Finally, the seasonal plot&#xA0;shows quite dramatically what we have been trying to forecast, that is, definite seasonality to the river flows:</p><p>\n</p><div class=\"mediaobject\"><img src=\"graphics/image_03_015.jpg\" alt=\"R forecasting\"/></div><p>\n</p></div></body></html>\n"
   ]
  },
  {
   "cell_type": "code",
   "execution_count": null,
   "metadata": {
    "collapsed": true
   },
   "outputs": [],
   "source": []
  }
 ],
 "metadata": {
  "kernelspec": {
   "display_name": "Python 3",
   "language": "python",
   "name": "python3"
  },
  "language_info": {
   "codemirror_mode": {
    "name": "ipython",
    "version": 3
   },
   "file_extension": ".py",
   "mimetype": "text/x-python",
   "name": "python",
   "nbconvert_exporter": "python",
   "pygments_lexer": "ipython3",
   "version": "3.6.3"
  }
 },
 "nbformat": 4,
 "nbformat_minor": 2
}
