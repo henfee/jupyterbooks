{
 "cells": [
  {
   "cell_type": "markdown",
   "metadata": {},
   "source": [
   "<html xmlns=\"http://www.w3.org/1999/xhtml\"><head><title>Scala closures</title><link rel=\"stylesheet\" href=\"epub.css\" type=\"text/css\"/><meta name=\"generator\" content=\"DocBook XSL Stylesheets V1.75.2\"/></head><body id=\"page\"><div class=\"section\" title=\"Scala closures\"><div class=\"titlepage\"><div><div><h1 class=\"title\"><a id=\"ch09lvl1sec69\"/>Scala closures</h1></div></div></div><p>A closure is a function. The resultant&#xA0;function&#xA0;value depends on the value of the variable(s) declared outside the function.</p><p>We can use this small script to illustrate it:</p><pre class=\"programlisting\">\n<span class=\"strong\"><strong>var factor = 7</strong></span>\n<span class=\"strong\"><strong>val multiplier = (i:Int) =&gt; i * factor</strong></span>\n<span class=\"strong\"><strong>val a = multiplier(11)</strong></span>\n<span class=\"strong\"><strong>val b = multiplier(12)</strong></span>\n</pre><p>We define a function named <code class=\"literal\">multiplier</code>. The function expects an integer argument. For each argument, we take the argument and multiply it by the external variable factor.</p><p>We see this result:</p><p>\n</p><div class=\"mediaobject\"><img src=\"graphics/image_09_007.jpg\" alt=\"Scala closures\"/></div><p>\n</p></div></body></html>\n"
   ]
  },
  {
   "cell_type": "code",
   "execution_count": null,
   "metadata": {
    "collapsed": true
   },
   "outputs": [],
   "source": []
  }
 ],
 "metadata": {
  "kernelspec": {
   "display_name": "Python 3",
   "language": "python",
   "name": "python3"
  },
  "language_info": {
   "codemirror_mode": {
    "name": "ipython",
    "version": 3
   },
   "file_extension": ".py",
   "mimetype": "text/x-python",
   "name": "python",
   "nbconvert_exporter": "python",
   "pygments_lexer": "ipython3",
   "version": "3.6.3"
  }
 },
 "nbformat": 4,
 "nbformat_minor": 2
}
