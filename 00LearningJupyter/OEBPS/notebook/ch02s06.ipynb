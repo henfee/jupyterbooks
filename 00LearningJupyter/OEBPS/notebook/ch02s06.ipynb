{
 "cells": [
  {
   "cell_type": "markdown",
   "metadata": {},
   "source": [
   "<html xmlns=\"http://www.w3.org/1999/xhtml\"><head><title>Summary</title><link rel=\"stylesheet\" href=\"epub.css\" type=\"text/css\"/><meta name=\"generator\" content=\"DocBook XSL Stylesheets V1.75.2\"/></head><body id=\"page\"><div class=\"section\" title=\"Summary\"><div class=\"titlepage\"><div><div><h1 class=\"title\"><a id=\"ch02lvl1sec21\"/>Summary</h1></div></div></div><p>In this chapter, we walked through a simple notebook and the underlying structure. Then, we saw an example of using pandas. We looked at a graphics example. Finally, we looked at an example using random numbers in a Python script.</p><p>In the next chapter, we will learn all about R scripting in a Jupyter Notebook.</p></div></body></html>\n"
   ]
  },
  {
   "cell_type": "code",
   "execution_count": null,
   "metadata": {
    "collapsed": true
   },
   "outputs": [],
   "source": []
  }
 ],
 "metadata": {
  "kernelspec": {
   "display_name": "Python 3",
   "language": "python",
   "name": "python3"
  },
  "language_info": {
   "codemirror_mode": {
    "name": "ipython",
    "version": 3
   },
   "file_extension": ".py",
   "mimetype": "text/x-python",
   "name": "python",
   "nbconvert_exporter": "python",
   "pygments_lexer": "ipython3",
   "version": "3.6.3"
  }
 },
 "nbformat": 4,
 "nbformat_minor": 2
}
