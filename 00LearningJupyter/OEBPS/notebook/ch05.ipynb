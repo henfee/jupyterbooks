{
 "cells": [
  {
   "cell_type": "markdown",
   "metadata": {},
   "source": [
   "<html xmlns=\"http://www.w3.org/1999/xhtml\"><head><title>Chapter&#xA0;5.&#xA0; Jupyter JavaScript Coding</title><link rel=\"stylesheet\" href=\"epub.css\" type=\"text/css\"/><meta name=\"generator\" content=\"DocBook XSL Stylesheets V1.75.2\"/></head><body id=\"page\"><div class=\"chapter\" title=\"Chapter&#xA0;5.&#xA0; Jupyter JavaScript Coding\"><div class=\"titlepage\"><div><div><h1 class=\"title\"><a id=\"ch05\"/>Chapter&#xA0;5.&#xA0;     Jupyter JavaScript Coding     </h1></div></div></div><p>JavaScript is a high-level, dynamic, untyped, and interpreted programming language. There are several, languages that are based on JavaScript. In the case of Jupyter, the underlying JavaScript is really Node.js. Node.js is an event-based framework that uses JavaScript that can be used to develop large, scalable applications. Note, this is in contrast to the earlier languages covered in this book that are primarily used for data analysis (Python is a general language as well, but has clear aspects that deal with its capabilities of performing data analysis).</p><p>In this chapter, we will cover the following topics:</p><div class=\"itemizedlist\"><ul class=\"itemizedlist\"><li class=\"listitem\" style=\"list-style-type: disc\">Adding JavaScript packages to Jupyter</li><li class=\"listitem\" style=\"list-style-type: disc\">JavaScript Hello World Jupyter Notebook</li><li class=\"listitem\" style=\"list-style-type: disc\">Basic JavaScript in Jupyter</li><li class=\"listitem\" style=\"list-style-type: disc\">Node.js d3 package</li><li class=\"listitem\" style=\"list-style-type: disc\">Node.js stats-analysis package</li><li class=\"listitem\" style=\"list-style-type: disc\">Node.js JSON handling</li><li class=\"listitem\" style=\"list-style-type: disc\">Node.js canvas package</li><li class=\"listitem\" style=\"list-style-type: disc\">Node.js plotly package</li><li class=\"listitem\" style=\"list-style-type: disc\">Node.js asynchronous threads</li><li class=\"listitem\" style=\"list-style-type: disc\">Node.js decision-tree package</li></ul></div><div class=\"section\" title=\"Adding JavaScript scripting to your installation\"><div class=\"titlepage\"><div><div><h1 class=\"title\"><a id=\"ch05lvl1sec40\"/>Adding JavaScript scripting to your installation</h1></div></div></div><p>In this section, we will install JavaScript scripting on Mac and Windows. There are separate steps for getting JavaScript scripting available on your Jupyter installation for each environment. The Mac installation was very clean. The Windows installation appears to still be in flux and I would expect the following instructions to change over time.</p><div class=\"section\" title=\"Adding JavaScript scripts to Jupyter on Mac\"><div class=\"titlepage\"><div><div><h2 class=\"title\"><a id=\"ch05lvl2sec23\"/>Adding JavaScript scripts to Jupyter on Mac</h2></div></div></div><p>Using JavaScript in Jupyter on Mac takes several steps. Jupyter on Mac is also known as <span class=\"strong\"><strong>IJavascript</strong></span>. The definitive site for this is \n<a class=\"ulink\" href=\"https://www.npmjs.com/package/ijavascript\">https://www.npmjs.com/package/ijavascript</a>\n specifically earmarked as providing the JavaScript kernel for Jupyter.</p><p>On the <span class=\"strong\"><strong>Installation</strong></span> page (<a class=\"ulink\" href=\"http://n-riesco.github.io/ijavascript/doc/install.md.html\">http://n-riesco.github.io/ijavascript/doc/install.md.html</a>) we can follow the guidelines given for macOS(the current operating system for Mac):</p><pre class=\"programlisting\">\n<span class=\"strong\"><strong>ruby -e \"$(curl -fsSL\n    https://raw.githubusercontent.com/Homebrew/install/master/install)\"</strong></span>\n<span class=\"strong\"><strong>brew install pkg-config node zeromq</strong></span>\n<span class=\"strong\"><strong>sudo easy_install pip</strong></span>\n<span class=\"strong\"><strong>sudo pip install -U jupyter</strong></span>\n<span class=\"strong\"><strong>npm install ijavascript</strong></span>\n</pre><p>We can start our notebook with the <code class=\"literal\">ijs</code> command.</p><div class=\"note\" title=\"Note\" style=\"\"><div class=\"inner\"><h3 class=\"title\"><a id=\"note18\"/>Note</h3><p>The command is not available under OSX unless the&#xA0;<code class=\"literal\">-g</code> option was specified.</p></div></div><p>You should see a JavaScript notebook available, as shown in the following screenshot:</p><p>\n</p><div class=\"mediaobject\"><img src=\"graphics/image_05_003.jpg\" alt=\"Adding JavaScript scripts to Jupyter on Mac\"/></div><p>\n</p></div><div class=\"section\" title=\"Adding JavaScript scripts to Jupyter on Windows\"><div class=\"titlepage\"><div><div><h2 class=\"title\"><a id=\"ch05lvl2sec24\"/>Adding JavaScript scripts to Jupyter on Windows</h2></div></div></div><p>There are multiple instructions available on the internet to use JavaScript in Jupyter on Windows. When I originally wrote this chapter I followed one set of instructions that worked. Subsequently, I had made other adjustments to my installation for Jupyter using other languages.</p><div class=\"note\" title=\"Note\" style=\"\"><div class=\"inner\"><h3 class=\"title\"><a id=\"note19\"/>Note</h3><p>When I went back to make edits for this chapter and I found the JavaScript implementation is no longer working on Windows. Something along the way disabled and broke the feature. I could not follow the same steps I had taken earlier to enable JavaScript.</p></div></div><p>I would assume as progress is made on&#xA0;Jupyter&#xA0;that JavaScript will be re-enabled for Jupyter users on Windows.</p></div></div></div></body></html>\n"
   ]
  },
  {
   "cell_type": "code",
   "execution_count": null,
   "metadata": {
    "collapsed": true
   },
   "outputs": [],
   "source": []
  }
 ],
 "metadata": {
  "kernelspec": {
   "display_name": "Python 3",
   "language": "python",
   "name": "python3"
  },
  "language_info": {
   "codemirror_mode": {
    "name": "ipython",
    "version": 3
   },
   "file_extension": ".py",
   "mimetype": "text/x-python",
   "name": "python",
   "nbconvert_exporter": "python",
   "pygments_lexer": "ipython3",
   "version": "3.6.3"
  }
 },
 "nbformat": 4,
 "nbformat_minor": 2
}
