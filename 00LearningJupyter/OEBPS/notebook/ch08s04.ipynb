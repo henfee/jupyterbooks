{
 "cells": [
  {
   "cell_type": "markdown",
   "metadata": {},
   "source": [
   "<html xmlns=\"http://www.w3.org/1999/xhtml\"><head><title>Summary</title><link rel=\"stylesheet\" href=\"epub.css\" type=\"text/css\"/><meta name=\"generator\" content=\"DocBook XSL Stylesheets V1.75.2\"/></head><body id=\"page\"><div class=\"section\" title=\"Summary\"><div class=\"titlepage\"><div><div><h1 class=\"title\"><a id=\"ch08lvl1sec64\"/>Summary</h1></div></div></div><p>In this chapter, we learned how to expose a notebook so that multiple users can use a notebook at the same time. We saw an example of the <span class=\"emphasis\"><em>error</em></span> occurring and installed a Jupyter server that addresses the problem. We then used Docker to alleviate the issue.</p><p>In the next chapter, we will look&#xA0;using Scala in a notebook.</p></div></body></html>\n"
   ]
  },
  {
   "cell_type": "code",
   "execution_count": null,
   "metadata": {
    "collapsed": true
   },
   "outputs": [],
   "source": []
  }
 ],
 "metadata": {
  "kernelspec": {
   "display_name": "Python 3",
   "language": "python",
   "name": "python3"
  },
  "language_info": {
   "codemirror_mode": {
    "name": "ipython",
    "version": 3
   },
   "file_extension": ".py",
   "mimetype": "text/x-python",
   "name": "python",
   "nbconvert_exporter": "python",
   "pygments_lexer": "ipython3",
   "version": "3.6.3"
  }
 },
 "nbformat": 4,
 "nbformat_minor": 2
}
