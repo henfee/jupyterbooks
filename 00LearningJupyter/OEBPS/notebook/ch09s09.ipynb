{
 "cells": [
  {
   "cell_type": "markdown",
   "metadata": {},
   "source": [
   "<html xmlns=\"http://www.w3.org/1999/xhtml\"><head><title>Scala immutability</title><link rel=\"stylesheet\" href=\"epub.css\" type=\"text/css\"/><meta name=\"generator\" content=\"DocBook XSL Stylesheets V1.75.2\"/></head><body id=\"page\"><div class=\"section\" title=\"Scala immutability\"><div class=\"titlepage\"><div><div><h1 class=\"title\"><a id=\"ch09lvl1sec73\"/>Scala immutability</h1></div></div></div><p>Immutable means you cannot change something. In Scala, all variables are immutable unless specifically marked otherwise. This is the opposite of languages such as Java, where all variables are mutable unless specifically marked otherwise.</p><p>In Java, we can have the following function:</p><pre class=\"programlisting\">public void calculate(integer amount) { \n} \n</pre><p>We can modify the value of <code class=\"literal\">amount</code> inside the <code class=\"literal\">calculate</code> function. We can tell Java not to allow changing the value if we use the <code class=\"literal\">final</code> keyword:</p><pre class=\"programlisting\">public void calculate(final integer amount) { \n} \n</pre><p>Whereas in Scala, the similar routine is as follows:</p><pre class=\"programlisting\">\n<span class=\"strong\"><strong>def calculate (amount: Int): Int = { </strong></span>\n<span class=\"strong\"><strong>  amount = amount + 1;</strong></span>\n<span class=\"strong\"><strong>  return amount;</strong></span>\n<span class=\"strong\"><strong>}</strong></span>\n</pre><p>The preceding code leaves the value of the <code class=\"literal\">amount</code> variable as it was before the routine was called.</p><p>\n</p><div class=\"mediaobject\"><img src=\"graphics/image_09_011.jpg\" alt=\"Scala immutability\"/></div><p>\n</p><p>We can see in the display that even though balance is a variable (marked as <code class=\"literal\">var</code>), Scala will not allow you to change its value inside of the function.</p></div></body></html>\n"
   ]
  },
  {
   "cell_type": "code",
   "execution_count": null,
   "metadata": {
    "collapsed": true
   },
   "outputs": [],
   "source": []
  }
 ],
 "metadata": {
  "kernelspec": {
   "display_name": "Python 3",
   "language": "python",
   "name": "python3"
  },
  "language_info": {
   "codemirror_mode": {
    "name": "ipython",
    "version": 3
   },
   "file_extension": ".py",
   "mimetype": "text/x-python",
   "name": "python",
   "nbconvert_exporter": "python",
   "pygments_lexer": "ipython3",
   "version": "3.6.3"
  }
 },
 "nbformat": 4,
 "nbformat_minor": 2
}
