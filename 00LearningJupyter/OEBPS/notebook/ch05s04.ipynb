{
 "cells": [
  {
   "cell_type": "markdown",
   "metadata": {},
   "source": [
   "<html xmlns=\"http://www.w3.org/1999/xhtml\"><head><title>JavaScript limitations in Jupyter</title><link rel=\"stylesheet\" href=\"epub.css\" type=\"text/css\"/><meta name=\"generator\" content=\"DocBook XSL Stylesheets V1.75.2\"/></head><body id=\"page\"><div class=\"section\" title=\"JavaScript limitations in Jupyter\"><div class=\"titlepage\"><div><div><h1 class=\"title\"><a id=\"ch05lvl1sec43\"/>JavaScript limitations in Jupyter</h1></div></div></div><p>JavaScript was originally used specifically to address the need for scripting inside of an HTML page, usually on the client side (in a browser). As such, it was built to be able to manipulate HTML elements on the page. Several packages have been developed to further this feature, even creating a web server, especially using extensions such as Node.js.</p><p>The use of any of the HTML manipulation and generation features inside of Jupyter runs into a roadblock since Jupyter expects to control presentation to the user.</p></div></body></html>\n"
   ]
  },
  {
   "cell_type": "code",
   "execution_count": null,
   "metadata": {
    "collapsed": true
   },
   "outputs": [],
   "source": []
  }
 ],
 "metadata": {
  "kernelspec": {
   "display_name": "Python 3",
   "language": "python",
   "name": "python3"
  },
  "language_info": {
   "codemirror_mode": {
    "name": "ipython",
    "version": 3
   },
   "file_extension": ".py",
   "mimetype": "text/x-python",
   "name": "python",
   "nbconvert_exporter": "python",
   "pygments_lexer": "ipython3",
   "version": "3.6.3"
  }
 },
 "nbformat": 4,
 "nbformat_minor": 2
}
