{
 "cells": [
  {
   "cell_type": "markdown",
   "metadata": {},
   "source": [
   "<html xmlns=\"http://www.w3.org/1999/xhtml\"><head><title>Scala random numbers in Jupyter</title><link rel=\"stylesheet\" href=\"epub.css\" type=\"text/css\"/><meta name=\"generator\" content=\"DocBook XSL Stylesheets V1.75.2\"/></head><body id=\"page\"><div class=\"section\" title=\"Scala random numbers in Jupyter\"><div class=\"titlepage\"><div><div><h1 class=\"title\"><a id=\"ch09lvl1sec68\"/>Scala random numbers in Jupyter</h1></div></div></div><p>In this example, we simulate a rolling dice and count how many times each combination appears. We then present a simple histogram for illustrative purposes.</p><p>The script is as follows:</p><pre class=\"programlisting\">\n<span class=\"strong\"><strong>val r = new scala.util.Random</strong></span>\n<span class=\"strong\"><strong>r.setSeed(113L)</strong></span>\n<span class=\"strong\"><strong>val samples = 1000</strong></span>\n<span class=\"strong\"><strong>var dice = new Array[Int](12)</strong></span>\n<span class=\"strong\"><strong>for( i &lt;- 1 to samples){</strong></span>\n<span class=\"strong\"><strong>    var total = r.nextInt(6) + r.nextInt(6)</strong></span>\n<span class=\"strong\"><strong>    dice(total) = dice(total) + 1</strong></span>\n<span class=\"strong\"><strong>}</strong></span>\n<span class=\"strong\"><strong>val max = dice.reduceLeft(_ max _)</strong></span>\n<span class=\"strong\"><strong>for( i &lt;- 0 to 11) {</strong></span>\n<span class=\"strong\"><strong>    var str = \"\"</strong></span>\n<span class=\"strong\"><strong>    for( j &lt;- 1 to dice(i)/3) {</strong></span>\n<span class=\"strong\"><strong>        str = str + \"X\"</strong></span>\n<span class=\"strong\"><strong>    }</strong></span>\n<span class=\"strong\"><strong>    print(i+1, str, \"\\n\")</strong></span>\n<span class=\"strong\"><strong>}</strong></span>\n</pre><p>We first pull in the Scala random library. We set the seed (in order to have repeatable results). We are drawing 1,000 rolls. For each roll, we increment a counter of how many times the total of pips on die 1 and die 2 appear. Then we present an abbreviated histogram of the results.</p><p>Scala has a number of shortcut methods for quick scanning through a list/collection, as seen in the <code class=\"literal\">reduceLeft(_ max _)</code> statement. We can also find the minimum value by using <code class=\"literal\">min</code> instead of <code class=\"literal\">max</code> in the <code class=\"literal\">reduceLeft</code> statement.</p><p>When we run the script, we have these results:</p><p>\n</p><div class=\"mediaobject\"><img src=\"graphics/image_09_006.jpg\" alt=\"Scala random numbers in Jupyter\"/></div><p>\n</p><p>We can see the crude histogram and the follow-on display of the current values of scalar variables in the script. Note that I divided by three so the results would fit on a page.</p></div></body></html>\n"
   ]
  },
  {
   "cell_type": "code",
   "execution_count": null,
   "metadata": {
    "collapsed": true
   },
   "outputs": [],
   "source": []
  }
 ],
 "metadata": {
  "kernelspec": {
   "display_name": "Python 3",
   "language": "python",
   "name": "python3"
  },
  "language_info": {
   "codemirror_mode": {
    "name": "ipython",
    "version": 3
   },
   "file_extension": ".py",
   "mimetype": "text/x-python",
   "name": "python",
   "nbconvert_exporter": "python",
   "pygments_lexer": "ipython3",
   "version": "3.6.3"
  }
 },
 "nbformat": 4,
 "nbformat_minor": 2
}
