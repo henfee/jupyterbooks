{
 "cells": [
  {
   "cell_type": "markdown",
   "metadata": {},
   "source": [
   "<html xmlns=\"http://www.w3.org/1999/xhtml\"><head><title>Python random numbers in Jupyter</title><link rel=\"stylesheet\" href=\"epub.css\" type=\"text/css\"/><meta name=\"generator\" content=\"DocBook XSL Stylesheets V1.75.2\"/></head><body id=\"page\"><div class=\"section\" title=\"Python random numbers in Jupyter\"><div class=\"titlepage\"><div><div><h1 class=\"title\"><a id=\"ch02lvl1sec20\"/>Python random numbers in Jupyter</h1></div></div></div><p>For many analyses, we are interested in calculating repeatable results. However, a lot of analysis relies on random numbers being used. In Python, you can set the seed for the random number generator to achieve repeatable results with the <code class=\"literal\">random_seed()</code> function.</p><p>In this example, we simulate rolling a pair of dice and looking at the outcome.</p><p>The script we are using is this:</p><pre class=\"programlisting\">\n<span class=\"strong\"><strong>import pylab</strong></span>\n<span class=\"strong\"><strong>import random</strong></span>\n<span class=\"strong\"><strong>random.seed(113)</strong></span>\n<span class=\"strong\"><strong>samples = 1000</strong></span>\n<span class=\"strong\"><strong>dice = []</strong></span>\n<span class=\"strong\"><strong>for i in range(samples):</strong></span>\n<span class=\"strong\"><strong>    total = random.randint(1,6) + random.randint(1,6)</strong></span>\n<span class=\"strong\"><strong>    dice.append(total)</strong></span>\n<span class=\"strong\"><strong>pylab.hist(dice, bins= pylab.arange(1.5,12.6,1.0))</strong></span>\n<span class=\"strong\"><strong>pylab.show()</strong></span>\n</pre><p>Once we have the script in Jupyter and execute it, we have this result:</p><p>\n</p><div class=\"mediaobject\"><img src=\"graphics/image_02_017.jpg\" alt=\"Python random numbers in Jupyter\"/></div><p>\n</p><p>I had added some more statistics. I'm not sure I would have counted on such a high standard deviation. If we increased the number of samples, this would increase.</p><p>The resulting graph was opened in a new window, much as it would be if you ran this script in another Python development environment:</p><p>\n</p><div class=\"mediaobject\"><img src=\"graphics/image_02_018.jpg\" alt=\"Python random numbers in Jupyter\"/></div><p>\n</p><p>The toolbar at the top of the graphic is extensive, allowing you to manipulate the graphic in many ways.</p></div></body></html>\n"
   ]
  },
  {
   "cell_type": "code",
   "execution_count": null,
   "metadata": {
    "collapsed": true
   },
   "outputs": [],
   "source": []
  }
 ],
 "metadata": {
  "kernelspec": {
   "display_name": "Python 3",
   "language": "python",
   "name": "python3"
  },
  "language_info": {
   "codemirror_mode": {
    "name": "ipython",
    "version": 3
   },
   "file_extension": ".py",
   "mimetype": "text/x-python",
   "name": "python",
   "nbconvert_exporter": "python",
   "pygments_lexer": "ipython3",
   "version": "3.6.3"
  }
 },
 "nbformat": 4,
 "nbformat_minor": 2
}
