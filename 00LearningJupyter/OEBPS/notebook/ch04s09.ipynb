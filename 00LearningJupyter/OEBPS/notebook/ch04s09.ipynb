{
 "cells": [
  {
   "cell_type": "markdown",
   "metadata": {},
   "source": [
   "<html xmlns=\"http://www.w3.org/1999/xhtml\"><head><title>Julia regular expressions</title><link rel=\"stylesheet\" href=\"epub.css\" type=\"text/css\"/><meta name=\"generator\" content=\"DocBook XSL Stylesheets V1.75.2\"/></head><body id=\"page\"><div class=\"section\" title=\"Julia regular expressions\"><div class=\"titlepage\"><div><div><h1 class=\"title\"><a id=\"ch04lvl1sec37\"/>Julia regular expressions</h1></div></div></div><p>Julia has built-in regular expression handling-as do most modern programming languages. There is no need for a <code class=\"literal\">using</code> statement, as regular expressions are basic features of strings in Julia.</p><p>We could have a small script that verifies whether a string matches a phone number, for example:</p><pre class=\"programlisting\">\n<span class=\"strong\"><strong>ismatch(r\"^\\([0-9]{3}\\)[0-9]{3}-[0-9]{4}$\", \"(781)244-1212\")</strong></span>\n<span class=\"strong\"><strong>ismatch(r\"^\\([0-9]{3}\\)[0-9]{3}-[0-9]{4}$\", \"-781-244-1212\")</strong></span>\n</pre><p>When run in Jupyter, we see the following results, that is the first number is conformant to the format and the second is not:</p><p>\n</p><div class=\"mediaobject\"><img src=\"graphics/image_04_017.jpg\" alt=\"Julia regular expressions\"/></div><p>\n</p></div></body></html>\n"
   ]
  },
  {
   "cell_type": "code",
   "execution_count": null,
   "metadata": {
    "collapsed": true
   },
   "outputs": [],
   "source": []
  }
 ],
 "metadata": {
  "kernelspec": {
   "display_name": "Python 3",
   "language": "python",
   "name": "python3"
  },
  "language_info": {
   "codemirror_mode": {
    "name": "ipython",
    "version": 3
   },
   "file_extension": ".py",
   "mimetype": "text/x-python",
   "name": "python",
   "nbconvert_exporter": "python",
   "pygments_lexer": "ipython3",
   "version": "3.6.3"
  }
 },
 "nbformat": 4,
 "nbformat_minor": 2
}
