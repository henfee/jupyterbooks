{
 "cells": [
  {
   "cell_type": "markdown",
   "metadata": {},
   "source": [
   "<html xmlns=\"http://www.w3.org/1999/xhtml\"><head><title>Spark primes</title><link rel=\"stylesheet\" href=\"epub.css\" type=\"text/css\"/><meta name=\"generator\" content=\"DocBook XSL Stylesheets V1.75.2\"/></head><body id=\"page\"><div class=\"section\" title=\"Spark primes\"><div class=\"titlepage\"><div><div><h1 class=\"title\"><a id=\"ch10lvl1sec84\"/>Spark primes</h1></div></div></div><p>We can run a series of numbers through a filter to determine whether each number is prime or not. We can use this script:</p><pre class=\"programlisting\">\n<span class=\"strong\"><strong>import pyspark</strong></span>\n<span class=\"strong\"><strong>if not 'sc' in globals():</strong></span>\n<span class=\"strong\"><strong>    sc = pyspark.SparkContext()</strong></span>\n<span class=\"strong\"><strong>def is_it_prime(number):</strong></span>\n<span class=\"strong\"><strong>    # make sure n is a positive integer</strong></span>\n<span class=\"strong\"><strong>    number = abs(int(number))</strong></span>\n<span class=\"strong\"><strong>    # simple tests</strong></span>\n<span class=\"strong\"><strong>    if number &lt; 2:</strong></span>\n<span class=\"strong\"><strong>        return False</strong></span>\n<span class=\"strong\"><strong>    # 2 is prime</strong></span>\n<span class=\"strong\"><strong>    if number == 2:</strong></span>\n<span class=\"strong\"><strong>        return True</strong></span>\n<span class=\"strong\"><strong>    # other even numbers aren't</strong></span>\n<span class=\"strong\"><strong>    if not number &amp; 1:</strong></span>\n<span class=\"strong\"><strong>        return False</strong></span>\n<span class=\"strong\"><strong>    # check whether number is divisible into it's square root</strong></span>\n<span class=\"strong\"><strong>    for x in range(3, int(number**0.5)+1, 2):</strong></span>\n<span class=\"strong\"><strong>        if number % x == 0:</strong></span>\n<span class=\"strong\"><strong>            return False</strong></span>\n<span class=\"strong\"><strong>    #if we get this far we are good</strong></span>\n<span class=\"strong\"><strong>    return True</strong></span>\n<span class=\"strong\"><strong># create a set of numbers to 100,000</strong></span>\n<span class=\"strong\"><strong>numbers = sc.parallelize(xrange(100000))</strong></span>\n<span class=\"strong\"><strong># count out the number of primes we found</strong></span>\n<span class=\"strong\"><strong>print numbers.filter(is_it_prime).count()</strong></span>\n</pre><p>The script generates numbers up to 100,000.</p><p>We then loop over each of the numbers and pass it to our filter. If the filter returns true, we get a record. Then we just count how many results we found.</p><p>Running this in Jupyter, we see the following:</p><p>\n</p><div class=\"mediaobject\"><img src=\"graphics/image_10_006.jpg\" alt=\"Spark primes\"/></div><p>\n</p><p>This was very fast. I was waiting and didn't notice that it happened so quickly.</p></div></body></html>\n"
   ]
  },
  {
   "cell_type": "code",
   "execution_count": null,
   "metadata": {
    "collapsed": true
   },
   "outputs": [],
   "source": []
  }
 ],
 "metadata": {
  "kernelspec": {
   "display_name": "Python 3",
   "language": "python",
   "name": "python3"
  },
  "language_info": {
   "codemirror_mode": {
    "name": "ipython",
    "version": 3
   },
   "file_extension": ".py",
   "mimetype": "text/x-python",
   "name": "python",
   "nbconvert_exporter": "python",
   "pygments_lexer": "ipython3",
   "version": "3.6.3"
  }
 },
 "nbformat": 4,
 "nbformat_minor": 2
}
