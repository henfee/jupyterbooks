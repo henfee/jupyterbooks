{
 "cells": [
  {
   "cell_type": "markdown",
   "metadata": {},
   "source": [
   "<html xmlns=\"http://www.w3.org/1999/xhtml\"><head><title>Sorted word count</title><link rel=\"stylesheet\" href=\"epub.css\" type=\"text/css\"/><meta name=\"generator\" content=\"DocBook XSL Stylesheets V1.75.2\"/></head><body id=\"page\"><div class=\"section\" title=\"Sorted word count\"><div class=\"titlepage\"><div><div><h1 class=\"title\"><a id=\"ch10lvl1sec81\"/>Sorted word count</h1></div></div></div><p>Using the same script with a slight modification, we can make one more call and have sorted results. The script now looks like this:</p><pre class=\"programlisting\">\n<span class=\"strong\"><strong>import pyspark</strong></span>\n<span class=\"strong\"><strong>if not 'sc' in globals():</strong></span>\n<span class=\"strong\"><strong>    sc = pyspark.SparkContext()</strong></span>\n<span class=\"strong\"><strong>text_file = sc.textFile(\"Spark File Words.ipynb\")</strong></span>\n<span class=\"strong\"><strong>sorted_counts = text_file.flatMap(lambda line: line.split(\" \")) \\</strong></span>\n<span class=\"strong\"><strong>            .map(lambda word: (word, 1)) \\</strong></span>\n<span class=\"strong\"><strong>            .reduceByKey(lambda a, b: a + b) \\</strong></span>\n<span class=\"strong\"><strong>            .sortByKey()</strong></span>\n<span class=\"strong\"><strong>for x in sorted_counts.collect():</strong></span>\n<span class=\"strong\"><strong>    print x</strong></span>\n</pre><p>Here, we have added another function call to the RDD creation, <code class=\"literal\">sortByKey()</code>. So, after we have map/reduced and arrived at list of words and occurrence, we can easily sort the results.</p><p>The resultant output looks like this:</p><p>\n</p><div class=\"mediaobject\"><img src=\"graphics/image_10_003.jpg\" alt=\"Sorted word count\"/></div><p>\n</p></div></body></html>\n"
   ]
  },
  {
   "cell_type": "code",
   "execution_count": null,
   "metadata": {
    "collapsed": true
   },
   "outputs": [],
   "source": []
  }
 ],
 "metadata": {
  "kernelspec": {
   "display_name": "Python 3",
   "language": "python",
   "name": "python3"
  },
  "language_info": {
   "codemirror_mode": {
    "name": "ipython",
    "version": 3
   },
   "file_extension": ".py",
   "mimetype": "text/x-python",
   "name": "python",
   "nbconvert_exporter": "python",
   "pygments_lexer": "ipython3",
   "version": "3.6.3"
  }
 },
 "nbformat": 4,
 "nbformat_minor": 2
}
