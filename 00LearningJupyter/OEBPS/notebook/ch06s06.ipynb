{
 "cells": [
  {
   "cell_type": "markdown",
   "metadata": {},
   "source": [
   "<html xmlns=\"http://www.w3.org/1999/xhtml\"><head><title>Summary</title><link rel=\"stylesheet\" href=\"epub.css\" type=\"text/css\"/><meta name=\"generator\" content=\"DocBook XSL Stylesheets V1.75.2\"/></head><body id=\"page\"><div class=\"section\" title=\"Summary\"><div class=\"titlepage\"><div><div><h1 class=\"title\"><a id=\"ch06lvl1sec57\"/>Summary</h1></div></div></div><p>In this chapter, we added widgets to our Jupyter installation and used the interact and interactive widgets to produce a variety of user input controls. We then looked in the widgets package in depth to examine some of the user controls available, the properties available in the containers, the events that are available emitting from the controls, and to work out how to build containers of controls.</p><p>In the next chapter, we will learn about sharing notebooks with other users. The typical method for sharing a notebook is to post it on a website so anyone can access the notebook. We will also cover how to convert notebooks to different formats. This allows users who don't have direct access to your notebook to see the effects.</p></div></body></html>\n"
   ]
  },
  {
   "cell_type": "code",
   "execution_count": null,
   "metadata": {
    "collapsed": true
   },
   "outputs": [],
   "source": []
  }
 ],
 "metadata": {
  "kernelspec": {
   "display_name": "Python 3",
   "language": "python",
   "name": "python3"
  },
  "language_info": {
   "codemirror_mode": {
    "name": "ipython",
    "version": 3
   },
   "file_extension": ".py",
   "mimetype": "text/x-python",
   "name": "python",
   "nbconvert_exporter": "python",
   "pygments_lexer": "ipython3",
   "version": "3.6.3"
  }
 },
 "nbformat": 4,
 "nbformat_minor": 2
}
