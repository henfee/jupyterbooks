{
 "cells": [
  {
   "cell_type": "markdown",
   "metadata": {},
   "source": [
   "<html xmlns=\"http://www.w3.org/1999/xhtml\"><head><title>Scala case classes</title><link rel=\"stylesheet\" href=\"epub.css\" type=\"text/css\"/><meta name=\"generator\" content=\"DocBook XSL Stylesheets V1.75.2\"/></head><body id=\"page\"><div class=\"section\" title=\"Scala case classes\"><div class=\"titlepage\"><div><div><h1 class=\"title\"><a id=\"ch09lvl1sec72\"/>Scala case classes</h1></div></div></div><p>A case class is a simplified type that can be used without calling out <code class=\"literal\">new Classname(..)</code>. For example, we could have this script, which defines a case class and uses it:</p><pre class=\"programlisting\">\n<span class=\"strong\"><strong>case class Car(brand: String, model: String)</strong></span>\n<span class=\"strong\"><strong>val buickLeSabre = Car(\"Buick\", \"LeSabre\")</strong></span>\n</pre><p>So, we have a case class called <code class=\"literal\">Car</code>. We make an instance of that class called <code class=\"literal\">buickLeSabre</code>.</p><p>Case classes are most useful for pattern matching&#xA0;since we can easily construct complex objects and examine their contents. Here's an example:</p><pre class=\"programlisting\">\n<span class=\"strong\"><strong>def carType(car: Car) = car match {</strong></span>\n<span class=\"strong\"><strong>  case Car(\"Honda\", \"Accord\") =&gt; \"sedan\"</strong></span>\n<span class=\"strong\"><strong>  case Car(\"GM\", \"Denali\") =&gt; \"suv\"</strong></span>\n<span class=\"strong\"><strong>  case Car(\"Mercedes\", \"300\") =&gt; \"luxury\"</strong></span>\n<span class=\"strong\"><strong>  case Car(\"Buick\", \"LeSabre\") =&gt; \"sedan\"</strong></span>\n<span class=\"strong\"><strong>  case _ =&gt; \"Car: is of unknown type\"</strong></span>\n<span class=\"strong\"><strong>}</strong></span>\n<span class=\"strong\"><strong>val typeOfBuick = carType(buickLeSabre)</strong></span>\n</pre><p>We define a pattern match block (as in the previous section of this chapter). In the match, we look at a <code class=\"literal\">Car</code> object that has brand = <code class=\"literal\">GM</code>, model = <code class=\"literal\">Denali</code>, and so on. For each of the models of interest, we classify its type. We also have catchall at the end, so we can catch unexpected values.</p><p>We can exercise case classes in Jupyter, as shown in this screenshot:</p><p>\n</p><div class=\"mediaobject\"><img src=\"graphics/image_09_010.jpg\" alt=\"Scala case classes\"/></div><p>\n</p><p>We defined and used the&#xA0;<code class=\"literal\">Car</code>&#xA0;case class. We then did pattern matching using the <code class=\"literal\">Car</code> case class.</p></div></body></html>\n"
   ]
  },
  {
   "cell_type": "code",
   "execution_count": null,
   "metadata": {
    "collapsed": true
   },
   "outputs": [],
   "source": []
  }
 ],
 "metadata": {
  "kernelspec": {
   "display_name": "Python 3",
   "language": "python",
   "name": "python3"
  },
  "language_info": {
   "codemirror_mode": {
    "name": "ipython",
    "version": 3
   },
   "file_extension": ".py",
   "mimetype": "text/x-python",
   "name": "python",
   "nbconvert_exporter": "python",
   "pygments_lexer": "ipython3",
   "version": "3.6.3"
  }
 },
 "nbformat": 4,
 "nbformat_minor": 2
}
