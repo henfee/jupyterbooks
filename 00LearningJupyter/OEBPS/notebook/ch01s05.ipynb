{
 "cells": [
  {
   "cell_type": "markdown",
   "metadata": {},
   "source": [
   "<html xmlns=\"http://www.w3.org/1999/xhtml\"><head><title>Notebook workflow</title><link rel=\"stylesheet\" href=\"epub.css\" type=\"text/css\"/><meta name=\"generator\" content=\"DocBook XSL Stylesheets V1.75.2\"/></head><body id=\"page\"><div class=\"section\" title=\"Notebook workflow\"><div class=\"titlepage\"><div><div><h1 class=\"title\"><a id=\"ch01lvl1sec11\"/>Notebook workflow</h1></div></div></div><p>The typical workflow is as follows:</p><div class=\"itemizedlist\"><ul class=\"itemizedlist\"><li class=\"listitem\" style=\"list-style-type: disc\">Create a new notebook for a project or data analysis.</li><li class=\"listitem\" style=\"list-style-type: disc\">Add your analysis steps, coding, and output.</li><li class=\"listitem\" style=\"list-style-type: disc\">Surround your analysis with organizational and presentation markdown to communicate an entire story.</li><li class=\"listitem\" style=\"list-style-type: disc\">Interactive notebooks (that include widgets and display modules) would then be used by others by modifying parameters and data to note the effects of their changes. Your markdown would present the cases that a user may want to investigate and probable results.</li></ul></div></div></body></html>\n"
   ]
  },
  {
   "cell_type": "code",
   "execution_count": null,
   "metadata": {
    "collapsed": true
   },
   "outputs": [],
   "source": []
  }
 ],
 "metadata": {
  "kernelspec": {
   "display_name": "Python 3",
   "language": "python",
   "name": "python3"
  },
  "language_info": {
   "codemirror_mode": {
    "name": "ipython",
    "version": 3
   },
   "file_extension": ".py",
   "mimetype": "text/x-python",
   "name": "python",
   "nbconvert_exporter": "python",
   "pygments_lexer": "ipython3",
   "version": "3.6.3"
  }
 },
 "nbformat": 4,
 "nbformat_minor": 2
}
