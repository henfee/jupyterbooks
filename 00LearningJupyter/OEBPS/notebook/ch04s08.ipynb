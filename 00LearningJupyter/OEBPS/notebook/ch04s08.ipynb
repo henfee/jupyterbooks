{
 "cells": [
  {
   "cell_type": "markdown",
   "metadata": {},
   "source": [
   "<html xmlns=\"http://www.w3.org/1999/xhtml\"><head><title>Julia control flow</title><link rel=\"stylesheet\" href=\"epub.css\" type=\"text/css\"/><meta name=\"generator\" content=\"DocBook XSL Stylesheets V1.75.2\"/></head><body id=\"page\"><div class=\"section\" title=\"Julia control flow\"><div class=\"titlepage\"><div><div><h1 class=\"title\"><a id=\"ch04lvl1sec36\"/>Julia control flow</h1></div></div></div><p>Julia has a complete set of control flows. As an example, we could have a small function that determines the larger of two numbers:</p><pre class=\"programlisting\">\n<span class=\"strong\"><strong>function larger(x, y) </strong></span>\n<span class=\"strong\"><strong>    if (x&gt;y) </strong></span>\n<span class=\"strong\"><strong>        return x</strong></span>\n<span class=\"strong\"><strong>    end</strong></span>\n<span class=\"strong\"><strong>    return y</strong></span>\n<span class=\"strong\"><strong>end</strong></span>\n<span class=\"strong\"><strong>println(larger(7,8))</strong></span>\n</pre><p>There are several features that you must note:</p><div class=\"itemizedlist\"><ul class=\"itemizedlist\"><li class=\"listitem\" style=\"list-style-type: disc\">The <code class=\"literal\">end</code> statement for the <code class=\"literal\">if</code> statement</li><li class=\"listitem\" style=\"list-style-type: disc\"><code class=\"literal\">end</code> the closing of the <code class=\"literal\">function</code></li><li class=\"listitem\" style=\"list-style-type: disc\">Indentation of the statements within the <code class=\"literal\">function</code></li><li class=\"listitem\" style=\"list-style-type: disc\">Indentation of the handling of a <code class=\"literal\">true</code> condition within an <code class=\"literal\">if</code> statement</li></ul></div><p>If we run this in Jupyter, we see the output shown in the following screenshot:</p><p>\n</p><div class=\"mediaobject\"><img src=\"graphics/image_04_016.jpg\" alt=\"Julia control flow\"/></div><p>\n</p></div></body></html>\n"
   ]
  },
  {
   "cell_type": "code",
   "execution_count": null,
   "metadata": {
    "collapsed": true
   },
   "outputs": [],
   "source": []
  }
 ],
 "metadata": {
  "kernelspec": {
   "display_name": "Python 3",
   "language": "python",
   "name": "python3"
  },
  "language_info": {
   "codemirror_mode": {
    "name": "ipython",
    "version": 3
   },
   "file_extension": ".py",
   "mimetype": "text/x-python",
   "name": "python",
   "nbconvert_exporter": "python",
   "pygments_lexer": "ipython3",
   "version": "3.6.3"
  }
 },
 "nbformat": 4,
 "nbformat_minor": 2
}
