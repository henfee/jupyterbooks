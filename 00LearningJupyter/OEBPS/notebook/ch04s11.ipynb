{
 "cells": [
  {
   "cell_type": "markdown",
   "metadata": {},
   "source": [
   "<html xmlns=\"http://www.w3.org/1999/xhtml\"><head><title>Summary</title><link rel=\"stylesheet\" href=\"epub.css\" type=\"text/css\"/><meta name=\"generator\" content=\"DocBook XSL Stylesheets V1.75.2\"/></head><body id=\"page\"><div class=\"section\" title=\"Summary\"><div class=\"titlepage\"><div><div><h1 class=\"title\"><a id=\"ch04lvl1sec39\"/>Summary</h1></div></div></div><p>In this chapter, we added the ability to use Julia scripts in your Jupyter Notebook. We added a Julia library not included in the standard Julia installation. We saw basic features of Julia in use. We outlined some of the limitations encountered using Julia in Jupyter. We displayed graphics using some of the graphics packages available, including <code class=\"literal\">Gadfly</code>, <code class=\"literal\">Winston</code>, <code class=\"literal\">Vega</code>, and <code class=\"literal\">PyPlot</code>. We saw parallel processing in action. We saw a small control flow example, and lastly, we saw how to add unit testing to your Julia script.</p><p>In the next chapter, we will learn all about using JavaScript in a Jupyter Notebook.</p></div></body></html>\n"
   ]
  },
  {
   "cell_type": "code",
   "execution_count": null,
   "metadata": {
    "collapsed": true
   },
   "outputs": [],
   "source": []
  }
 ],
 "metadata": {
  "kernelspec": {
   "display_name": "Python 3",
   "language": "python",
   "name": "python3"
  },
  "language_info": {
   "codemirror_mode": {
    "name": "ipython",
    "version": 3
   },
   "file_extension": ".py",
   "mimetype": "text/x-python",
   "name": "python",
   "nbconvert_exporter": "python",
   "pygments_lexer": "ipython3",
   "version": "3.6.3"
  }
 },
 "nbformat": 4,
 "nbformat_minor": 2
}
