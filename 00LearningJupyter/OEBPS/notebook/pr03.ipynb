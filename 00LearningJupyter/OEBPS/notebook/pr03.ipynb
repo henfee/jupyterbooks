{
 "cells": [
  {
   "cell_type": "markdown",
   "metadata": {},
   "source": [
   "<html xmlns=\"http://www.w3.org/1999/xhtml\"><head><title>About the Author</title><link rel=\"stylesheet\" href=\"epub.css\" type=\"text/css\"/><meta name=\"generator\" content=\"DocBook XSL Stylesheets V1.75.2\"/></head><body id=\"page\"><div class=\"preface\" title=\"About the Author\"><div class=\"titlepage\"><div><div><h1 class=\"title\"><a id=\"pref04\"/>About the Author</h1></div></div></div><p>\n<span class=\"strong\"><strong>Dan Toomey</strong></span> has been developing applications for over 20 years. He has worked in a variety of industries and size companies in roles from sole contributor to VP/CTO level. For the last 10 years or so, he has been contracting to companies in the eastern Massachusetts area.&#xA0;Dan has been contracting under Dan Toomey Software Corp. Again, as a contractor developer in the area.&#xA0;Dan&#xA0;has also written <span class=\"emphasis\"><em>R for Data Sciences</em></span> with Packt Publishing.</p></div></body></html>\n"
   ]
  },
  {
   "cell_type": "code",
   "execution_count": null,
   "metadata": {
    "collapsed": true
   },
   "outputs": [],
   "source": []
  }
 ],
 "metadata": {
  "kernelspec": {
   "display_name": "Python 3",
   "language": "python",
   "name": "python3"
  },
  "language_info": {
   "codemirror_mode": {
    "name": "ipython",
    "version": 3
   },
   "file_extension": ".py",
   "mimetype": "text/x-python",
   "name": "python",
   "nbconvert_exporter": "python",
   "pygments_lexer": "ipython3",
   "version": "3.6.3"
  }
 },
 "nbformat": 4,
 "nbformat_minor": 2
}
