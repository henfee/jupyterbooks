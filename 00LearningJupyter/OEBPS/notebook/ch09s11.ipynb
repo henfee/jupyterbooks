{
 "cells": [
  {
   "cell_type": "markdown",
   "metadata": {},
   "source": [
   "<html xmlns=\"http://www.w3.org/1999/xhtml\"><head><title>Named arguments</title><link rel=\"stylesheet\" href=\"epub.css\" type=\"text/css\"/><meta name=\"generator\" content=\"DocBook XSL Stylesheets V1.75.2\"/></head><body id=\"page\"><div class=\"section\" title=\"Named arguments\"><div class=\"titlepage\"><div><div><h1 class=\"title\"><a id=\"ch09lvl1sec75\"/>Named arguments</h1></div></div></div><p>Scala allows you to specify parameter assignment by name rather than just ordinal position. For example, we can have this code:</p><pre class=\"programlisting\">\n<span class=\"strong\"><strong>def divide(dividend:Int, divisor:Int): Float = </strong></span>\n<span class=\"strong\"><strong>{ dividend.toFloat / divisor.toFloat }</strong></span>\n<span class=\"strong\"><strong>divide(40, 5)</strong></span>\n<span class=\"strong\"><strong>divide(divisor = 40, dividend = 5)</strong></span>\n</pre><p>If we run this in a notebook, we can see the results:</p><p>\n</p><div class=\"mediaobject\"><img src=\"graphics/image_09_013.jpg\" alt=\"Named arguments\"/></div><p>\n</p><p>The first call is to <code class=\"literal\">divide</code> assigned parameters by position. The second call set them accordingly.</p></div></body></html>\n"
   ]
  },
  {
   "cell_type": "code",
   "execution_count": null,
   "metadata": {
    "collapsed": true
   },
   "outputs": [],
   "source": []
  }
 ],
 "metadata": {
  "kernelspec": {
   "display_name": "Python 3",
   "language": "python",
   "name": "python3"
  },
  "language_info": {
   "codemirror_mode": {
    "name": "ipython",
    "version": 3
   },
   "file_extension": ".py",
   "mimetype": "text/x-python",
   "name": "python",
   "nbconvert_exporter": "python",
   "pygments_lexer": "ipython3",
   "version": "3.6.3"
  }
 },
 "nbformat": 4,
 "nbformat_minor": 2
}
