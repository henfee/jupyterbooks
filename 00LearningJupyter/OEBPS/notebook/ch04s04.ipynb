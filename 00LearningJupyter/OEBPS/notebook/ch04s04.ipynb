{
 "cells": [
  {
   "cell_type": "markdown",
   "metadata": {},
   "source": [
   "<html xmlns=\"http://www.w3.org/1999/xhtml\"><head><title>Standard Julia capabilities</title><link rel=\"stylesheet\" href=\"epub.css\" type=\"text/css\"/><meta name=\"generator\" content=\"DocBook XSL Stylesheets V1.75.2\"/></head><body id=\"page\"><div class=\"section\" title=\"Standard Julia capabilities\"><div class=\"titlepage\"><div><div><h1 class=\"title\"><a id=\"ch04lvl1sec32\"/>Standard Julia capabilities</h1></div></div></div><p>Similar to functions in other languages, Julia can perform most of the rudimentary statistics on your data using the <code class=\"literal\">describe</code> function, as in the example script that follows:</p><pre class=\"programlisting\">\n<span class=\"strong\"><strong>using RDatasets</strong></span>\n<span class=\"strong\"><strong>describe(dataset(\"datasets\", \"iris\"))</strong></span>\n</pre><p>This script accesses the Iris dataset and displays summary statistics on the dataset.</p><p>If we were to build a notebook to show <code class=\"literal\">describe</code> in use against the <code class=\"literal\">iris</code> dataset (loaded in the&#xA0;previous example), we would end up with a display like this:</p><p>\n</p><div class=\"mediaobject\"><img src=\"graphics/image_04_009.jpg\" alt=\"Standard Julia capabilities\"/></div><p>\n</p><p>You can see the standard statistics generated for each of the variables in the dataset. I thought it was interesting that the count and percentage of NA values in the dataset are provided. I have found that I usually have to double-check to exclude this data using other languages. Here, it is a quick, built-in reminder.</p></div></body></html>\n"
   ]
  },
  {
   "cell_type": "code",
   "execution_count": null,
   "metadata": {
    "collapsed": true
   },
   "outputs": [],
   "source": []
  }
 ],
 "metadata": {
  "kernelspec": {
   "display_name": "Python 3",
   "language": "python",
   "name": "python3"
  },
  "language_info": {
   "codemirror_mode": {
    "name": "ipython",
    "version": 3
   },
   "file_extension": ".py",
   "mimetype": "text/x-python",
   "name": "python",
   "nbconvert_exporter": "python",
   "pygments_lexer": "ipython3",
   "version": "3.6.3"
  }
 },
 "nbformat": 4,
 "nbformat_minor": 2
}
