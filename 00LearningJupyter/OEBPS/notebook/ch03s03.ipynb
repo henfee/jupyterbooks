{
 "cells": [
  {
   "cell_type": "markdown",
   "metadata": {},
   "source": [
   "<html xmlns=\"http://www.w3.org/1999/xhtml\"><head><title>R dataset access</title><link rel=\"stylesheet\" href=\"epub.css\" type=\"text/css\"/><meta name=\"generator\" content=\"DocBook XSL Stylesheets V1.75.2\"/></head><body id=\"page\"><div class=\"section\" title=\"R dataset access\"><div class=\"titlepage\"><div><div><h1 class=\"title\"><a id=\"ch03lvl1sec24\"/>R dataset access</h1></div></div></div><p>For this example, we will use the <span class=\"strong\"><strong>Iris</strong></span> dataset. Iris is built into R installations and is available directly. Let's just pull in the data, gather some simple statistics, and plot the data. This will show R accessing a dataset in Jupyter, using an R built-in package, as well as some available statistics (since we have R), and the interaction with R graphics.</p><p>The script we will use is as follows:</p><pre class=\"programlisting\">\n<span class=\"strong\"><strong>dataset(iris)</strong></span>\n<span class=\"strong\"><strong>summary(iris)</strong></span>\n<span class=\"strong\"><strong>plot(iris)</strong></span>\n</pre><p>If we enter this small script into a new R notebook, we get an initial display that looks like the following:</p><p>\n</p><div class=\"mediaobject\"><img src=\"graphics/image_03_004.jpg\" alt=\"R dataset access\"/></div><p>\n</p><p>I would expect the standard R statistical summary as output, and I know the Iris plot is pretty interesting. We can see exactly what happened in the following screenshot:</p><p>\n</p><div class=\"mediaobject\"><img src=\"graphics/image_03_005.jpg\" alt=\"R dataset access\"/></div><p>\n</p><p>The plot continues in the following screenshot as it wouldn't fit into a single screenshot:</p><p>\n</p><div class=\"mediaobject\"><img src=\"graphics/image_03_006.jpg\" alt=\"R dataset access\"/></div><p>\n</p></div></body></html>\n"
   ]
  },
  {
   "cell_type": "code",
   "execution_count": null,
   "metadata": {
    "collapsed": true
   },
   "outputs": [],
   "source": []
  }
 ],
 "metadata": {
  "kernelspec": {
   "display_name": "Python 3",
   "language": "python",
   "name": "python3"
  },
  "language_info": {
   "codemirror_mode": {
    "name": "ipython",
    "version": 3
   },
   "file_extension": ".py",
   "mimetype": "text/x-python",
   "name": "python",
   "nbconvert_exporter": "python",
   "pygments_lexer": "ipython3",
   "version": "3.6.3"
  }
 },
 "nbformat": 4,
 "nbformat_minor": 2
}
