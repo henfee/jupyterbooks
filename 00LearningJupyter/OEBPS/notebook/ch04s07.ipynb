{
 "cells": [
  {
   "cell_type": "markdown",
   "metadata": {},
   "source": [
   "<html xmlns=\"http://www.w3.org/1999/xhtml\"><head><title>Julia parallel processing</title><link rel=\"stylesheet\" href=\"epub.css\" type=\"text/css\"/><meta name=\"generator\" content=\"DocBook XSL Stylesheets V1.75.2\"/></head><body id=\"page\"><div class=\"section\" title=\"Julia parallel processing\"><div class=\"titlepage\"><div><div><h1 class=\"title\"><a id=\"ch04lvl1sec35\"/>Julia parallel processing</h1></div></div></div><p>An advanced built-in feature of Julia is to use parallel processing in your script. Normally, you can specify the number of processes that you want to use, directly in Julia. However, in Jupyter, you would use the <code class=\"literal\">addproc()</code> function to add an additional process available for use in your script. For example, this small script:</p><pre class=\"programlisting\">\n<span class=\"strong\"><strong>addprocs(1)</strong></span>\n<span class=\"strong\"><strong>srand(111)</strong></span>\n<span class=\"strong\"><strong>r = remotecall(rand, 2, 3, 4)</strong></span>\n<span class=\"strong\"><strong>s = @spawnat 2 1 .+ fetch(r)</strong></span>\n<span class=\"strong\"><strong>fetch(s)</strong></span>\n</pre><p>This example makes a call to <code class=\"literal\">rand</code>, the random number generator with that code executing on the 2<sup>nd</sup> parameter to the function call (process 2), and then passes the remaining arguments to the <code class=\"literal\">rand</code> function there (making <code class=\"literal\">rand</code> generate a 3 x 4 matrix of random numbers). <code class=\"literal\">spawnat</code> is a macro that evaluates the processes mentioned. Then, <code class=\"literal\">fetch</code> accesses the result of the spawned processes.</p><p>We can see the results in the example in Jupyter as shown in the following screenshot:</p><p>\n</p><div class=\"mediaobject\"><img src=\"graphics/image_04_015.jpg\" alt=\"Julia parallel processing\"/></div><p>\n</p></div></body></html>\n"
   ]
  },
  {
   "cell_type": "code",
   "execution_count": null,
   "metadata": {
    "collapsed": true
   },
   "outputs": [],
   "source": []
  }
 ],
 "metadata": {
  "kernelspec": {
   "display_name": "Python 3",
   "language": "python",
   "name": "python3"
  },
  "language_info": {
   "codemirror_mode": {
    "name": "ipython",
    "version": 3
   },
   "file_extension": ".py",
   "mimetype": "text/x-python",
   "name": "python",
   "nbconvert_exporter": "python",
   "pygments_lexer": "ipython3",
   "version": "3.6.3"
  }
 },
 "nbformat": 4,
 "nbformat_minor": 2
}
