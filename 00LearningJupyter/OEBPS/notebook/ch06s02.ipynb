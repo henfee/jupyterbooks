{
 "cells": [
  {
   "cell_type": "markdown",
   "metadata": {},
   "source": [
   "<html xmlns=\"http://www.w3.org/1999/xhtml\"><head><title>Widget basics</title><link rel=\"stylesheet\" href=\"epub.css\" type=\"text/css\"/><meta name=\"generator\" content=\"DocBook XSL Stylesheets V1.75.2\"/></head><body id=\"page\"><div class=\"section\" title=\"Widget basics\"><div class=\"titlepage\"><div><div><h1 class=\"title\"><a id=\"ch06lvl1sec53\"/>Widget basics</h1></div></div></div><p>All widgets work the same, generally:</p><div class=\"itemizedlist\"><ul class=\"itemizedlist\"><li class=\"listitem\" style=\"list-style-type: disc\">You create or define an instance of a widget.</li><li class=\"listitem\" style=\"list-style-type: disc\">You can preset attributes of a widget, such as its initial value or a label to be displayed.</li><li class=\"listitem\" style=\"list-style-type: disc\">Widgets can react to different inputs from a user. The inputs are gathered by a handler or a Python function that is invoked when a user performs some action on a widget; for example, a function could be set up to call the handler if the user clicks on a button.</li><li class=\"listitem\" style=\"list-style-type: disc\">The value of a widget can be used later in your script in the same way as any other variable; for example, you could use a widget to determine how many circles to draw.</li></ul></div></div></body></html>\n"
   ]
  },
  {
   "cell_type": "code",
   "execution_count": null,
   "metadata": {
    "collapsed": true
   },
   "outputs": [],
   "source": []
  }
 ],
 "metadata": {
  "kernelspec": {
   "display_name": "Python 3",
   "language": "python",
   "name": "python3"
  },
  "language_info": {
   "codemirror_mode": {
    "name": "ipython",
    "version": 3
   },
   "file_extension": ".py",
   "mimetype": "text/x-python",
   "name": "python",
   "nbconvert_exporter": "python",
   "pygments_lexer": "ipython3",
   "version": "3.6.3"
  }
 },
 "nbformat": 4,
 "nbformat_minor": 2
}
