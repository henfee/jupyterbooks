{
 "cells": [
  {
   "cell_type": "markdown",
   "metadata": {},
   "source": [
   "<html xmlns=\"http://www.w3.org/1999/xhtml\"><head><title>About the Reviewer</title><link rel=\"stylesheet\" href=\"epub.css\" type=\"text/css\"/><meta name=\"generator\" content=\"DocBook XSL Stylesheets V1.75.2\"/></head><body id=\"page\"><div class=\"preface\" title=\"About the Reviewer\"><div class=\"titlepage\"><div><div><h1 class=\"title\"><a id=\"pref05\"/>About the Reviewer</h1></div></div></div><p>\n<span class=\"strong\"><strong>Jesse Bacon</strong></span> is a hobbyist programmer and technologist in the Washington D.C. metro area. In his free time, he mostly works through a new title about an interesting technology or spends time at the gym. Mr. Bacon values the opinions of the development community and looks forward to a new generation of programmers with all the gifts of today's computing environments.</p></div></body></html>\n"
   ]
  },
  {
   "cell_type": "code",
   "execution_count": null,
   "metadata": {
    "collapsed": true
   },
   "outputs": [],
   "source": []
  }
 ],
 "metadata": {
  "kernelspec": {
   "display_name": "Python 3",
   "language": "python",
   "name": "python3"
  },
  "language_info": {
   "codemirror_mode": {
    "name": "ipython",
    "version": 3
   },
   "file_extension": ".py",
   "mimetype": "text/x-python",
   "name": "python",
   "nbconvert_exporter": "python",
   "pygments_lexer": "ipython3",
   "version": "3.6.3"
  }
 },
 "nbformat": 4,
 "nbformat_minor": 2
}
