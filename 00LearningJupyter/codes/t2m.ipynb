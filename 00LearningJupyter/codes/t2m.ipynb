{
 "cells": [
  {
   "cell_type": "code",
   "execution_count": null,
   "metadata": {
    "collapsed": true
   },
   "outputs": [],
   "source": [
    "import os\n",
    "import time\n",
    "# import sys\n",
    "import json\n",
    "# import re\n",
    "# import html2text \n",
    "from baidu_trans import baidu_translate as bt\n",
    "import html2text"
   ]
  },
  {
   "cell_type": "code",
   "execution_count": null,
   "metadata": {
    "collapsed": true
   },
   "outputs": [],
   "source": [
    "# file folder path\n",
    "work_path=\"/Users/fintech101/2018jupyter/books project/1 learning jupyter/1draft/jupyterbooks/00LearningJupyter/\"\n",
    "\n",
    "codes_path=work_path+\"codes/\"\n",
    "html_path=work_path+\"OEBPS/\"\n",
    "notebook_path=work_path+\"OEBPS/notebook/\"\n",
    "markdown_path=work_path+\"OEBPS/markdown/\""
   ]
  },
  {
   "cell_type": "code",
   "execution_count": null,
   "metadata": {},
   "outputs": [],
   "source": [
    "os.chdir(html_path)\n",
    "os.getcwd()"
   ]
  },
  {
   "cell_type": "code",
   "execution_count": 151,
   "metadata": {
    "collapsed": true
   },
   "outputs": [],
   "source": [
    "# 建立一个函数来获取文件名\n",
    "# 获取html文件路径及文件名\n",
    "def file_name(file_dir):   \n",
    "    fullname=[]\n",
    "    filename=[]\n",
    "    for root, dirs, files in os.walk(file_dir):  \n",
    "        for file in files:  \n",
    "            if os.path.splitext(file)[1] == '.html':  \n",
    "                fullname.append(os.path.join(root, file)) \n",
    "                filename.append(file)\n",
    "    return fullname,filename "
   ]
  },
  {
   "cell_type": "code",
   "execution_count": 152,
   "metadata": {},
   "outputs": [
    {
     "data": {
      "text/plain": [
       "'ch01s03.html'"
      ]
     },
     "execution_count": 152,
     "metadata": {},
     "output_type": "execute_result"
    }
   ],
   "source": [
    "#file_name('/Users/fintech101/2018jupyter/books project/1 learning jupyter/1draft/jupyterbooks/00LearningJupyter/OEBPS/')\n",
    "html_lists=file_name(html_path)[1]\n",
    "html_lists[2]"
   ]
  },
  {
   "cell_type": "code",
   "execution_count": 153,
   "metadata": {
    "collapsed": true
   },
   "outputs": [],
   "source": [
    "# 建立一个函数读取html文件,存储为一个html_contents变量中，用于文件处理\n",
    "def html_contents(file_name):\n",
    "    \"\"\" open an html file, and read the html contents, save in \"\"\"\n",
    "    with open(file_name) as html_file:\n",
    "        html_content=html_file.read()\n",
    "        return html_content"
   ]
  },
  {
   "cell_type": "code",
   "execution_count": 154,
   "metadata": {},
   "outputs": [
    {
     "data": {
      "text/plain": [
       "'<?xml version=\"1.0\" encoding=\"utf-8\" ?>\\n\\n<!DOCTYPE html PUBLIC \"-//W3C//DTD XHTML 1.1//EN\" \"http://www.w3.org/TR/xhtml11/DTD/xhtml11.dtd\">\\n\\n<html xmlns=\"http://www.w3.org/1999/xhtml\"><head><title>Installing Jupyter on Windows</title><link rel=\"stylesheet\" href=\"epub.css\" type=\"text/css\"/><meta name=\"generator\" content=\"DocBook XSL Stylesheets V1.75.2\"/></head><body id=\"page\"><div class=\"section\" title=\"Installing Jupyter on Windows\"><div class=\"titlepage\"><div><div><h1 class=\"title\"><a id=\"ch01lvl1sec8\"/>Installing Jupyter on Windows</h1></div></div></div><p>Jupyter requires Python to be installed (it is based on the Python language). There are a couple of tools that will automate the installation of Jupyter (and optionally Python) from a GUI. In this case, we are showing how to install using <span class=\"strong\"><strong>Anaconda</strong></span>, which is a Python tool for distributing software. You first have to install Anaconda. It is available on Windows and Mac environments. Download the executable from \\n<a class=\"ulink\" href=\"https://www.continuum.io/\">https://www.continuum.io/</a>\\n (company that produces Anaconda) and run it to install Anaconda. The software provides a regular installation setup process, as shown in the following screenshot:</p><p>\\n</p><div class=\"mediaobject\"><img src=\"graphics/image_01_015.jpg\" alt=\"Installing Jupyter on Windows\"/></div><p>\\n</p><p>The installation process goes through the regular steps of making you agree to the distribution rights license:</p><p>\\n</p><div class=\"mediaobject\"><img src=\"graphics/image_01_016.jpg\" alt=\"Installing Jupyter on Windows\"/></div><p>\\n</p><p>The standard Windows installation allows you to decide whether all users on the machine can run the new software or not. If you are sharing a machine with different levels of users, then you can decide the appropriate action:</p><p>\\n</p><div class=\"mediaobject\"><img src=\"graphics/image_01_017.jpg\" alt=\"Installing Jupyter on Windows\"/></div><p>\\n</p><p>After clicking on <span class=\"strong\"><strong>Next</strong></span>, it will ask for a destination for the software to reside (I almost always keep the default paths):</p><p>\\n</p><div class=\"mediaobject\"><img src=\"graphics/image_01_018.jpg\" alt=\"Installing Jupyter on Windows\"/></div><p>\\n</p><p>And, most importantly, make sure that Python installed with Anaconda provides your Python basis going forward (by being placed in the execution path). Remember, Anaconda uses Python tool itself, so this is important.</p><div class=\"note\" title=\"Note\" style=\"\"><div class=\"inner\"><h3 class=\"title\"><a id=\"note5\"/>Note</h3><p>This process takes some time to download and install.</p></div></div><p>Once Anaconda&#xA0;is installed, you need to run a command-line instruction to install Jupyter. The command is as follows:</p><pre class=\"programlisting\">\\n<span class=\"strong\"><strong>conda install jupyter</strong></span>\\n</pre><p>This will invoke a process to download all the necessary components for Jupyter onto your PC. Your output should look something like this:</p><pre class=\"programlisting\">\\n<span class=\"strong\"><strong>C:\\\\Users\\\\Dan&gt;conda install jupyter</strong></span>\\n<span class=\"strong\"><strong>Using Anaconda Cloud api site https://api.anaconda.org</strong></span>\\n<span class=\"strong\"><strong>Fetching package metadata: ....</strong></span>\\n<span class=\"strong\"><strong>Solving package specifications: .........</strong></span>\\n<span class=\"strong\"><strong># packages in environment at C:\\\\Users\\\\Dan\\\\Anaconda2:</strong></span>\\n<span class=\"strong\"><strong>#</strong></span>\\n<span class=\"strong\"><strong>jupyter                   1.0.0                    py27_2</strong></span>\\n</pre><div class=\"note\" title=\"Note\" style=\"\"><div class=\"inner\"><h3 class=\"title\"><a id=\"note6\"/>Note</h3><p>Additional lines will be present for an install. I have abbreviated the output. You now have Jupyter installed on your machine. You can start the process using the following command:</p></div></div><pre class=\"programlisting\">\\n<span class=\"strong\"><strong>C:\\\\Users\\\\Dan&gt;jupyter notebook</strong></span>\\n</pre><p>This command is starting a Jupyter Notebook server on your machine. Once the server is started, a browser instance will be opened at the starting point of the notebook. You should see logging statements similar to the following on your machine as the server starts:</p><pre class=\"programlisting\">\\n<span class=\"strong\"><strong>[I 16:21:59.144 NotebookApp] Writing notebook server cookie secret to C:\\\\Users\\\\Dan\\\\AppData\\\\Roaming\\\\jupyter\\\\runtime\\\\notebook_cookie_secret</strong></span>\\n<span class=\"strong\"><strong>[I 16:21:59.846 NotebookApp] Serving notebooks from local directory: C:\\\\Users\\\\Dan</strong></span>\\n<span class=\"strong\"><strong>[I 16:21:59.846 NotebookApp] 0 active kernels</strong></span>\\n<span class=\"strong\"><strong>[I 16:21:59.846 NotebookApp] The Jupyter Notebook is running at: http://localhost:8888/</strong></span>\\n<span class=\"strong\"><strong>[I 16:21:59.862 NotebookApp] Use Control-C to stop this server and shut down all kernels (twice to skip confirmation).</strong></span>\\n</pre><p>Once Jupyter is running, you will notice a running icon for Jupyter (two inverted crescents) at the bottom of your screen:</p><p>\\n</p><div class=\"mediaobject\"><img src=\"graphics/image_01_020.jpg\" alt=\"Installing Jupyter on Windows\"/></div><p>\\n</p><p>Note, the last line of the log is the instruction you must use to stop the server (press <span class=\"emphasis\"><em>Ctrl</em></span> + <span class=\"emphasis\"><em>C</em></span> in the command-line window where the server is running).</p><p>If you press <span class=\"emphasis\"><em>Ctrl</em></span> + <span class=\"emphasis\"><em>C</em></span> in that window, the Jupyter server will shut down gracefully:</p><pre class=\"programlisting\">\\n<span class=\"strong\"><strong>[W 17:26:36.688 NotebookApp] 404 GET /favicon.ico (::1) 62.00ms referer=None</strong></span>\\n<span class=\"strong\"><strong>[W 17:26:36.750 NotebookApp] 404 GET /favicon.ico (::1) 0.00ms referer=None</strong></span>\\n<span class=\"strong\"><strong>[I 17:28:24.891 NotebookApp] Interrupted...</strong></span>\\n<span class=\"strong\"><strong>[I 17:28:24.891 NotebookApp] Shutting down kernels</strong></span>\\n</pre><p>You will notice that the Anaconda package has been installed on your application menu for further use:</p><p>\\n</p><div class=\"mediaobject\"><img src=\"graphics/image_01_021.jpg\" alt=\"Installing Jupyter on Windows\"/></div><p>\\n</p></div></body></html>\\n'"
      ]
     },
     "execution_count": 154,
     "metadata": {},
     "output_type": "execute_result"
    }
   ],
   "source": [
    "html_contents(html_lists[1])"
   ]
  },
  {
   "cell_type": "code",
   "execution_count": 155,
   "metadata": {
    "collapsed": true
   },
   "outputs": [],
   "source": [
    "## HTML 2 Markdown\n",
    "def h2m(html):\n",
    "    h = html2text.HTML2Text()\n",
    "    # Ignore converting links from HTML\n",
    "    h.ignore_links = False\n",
    "    h2markdown = h.handle(html)\n",
    "    return h2markdown"
   ]
  },
  {
   "cell_type": "code",
   "execution_count": 143,
   "metadata": {},
   "outputs": [
    {
     "name": "stdout",
     "output_type": "stream",
     "text": [
      "['# Installing Jupyter on Windows', '', 'Jupyter requires Python to be installed (it is based on the Python language).', 'There are a couple of tools that will automate the installation of Jupyter', '(and optionally Python) from a GUI. In this case, we are showing how to', 'install using **Anaconda** , which is a Python tool for distributing software.', 'You first have to install Anaconda. It is available on Windows and Mac', 'environments. Download the executable from <https://www.continuum.io/>', '(company that produces Anaconda) and run it to install Anaconda. The software', 'provides a regular installation setup process, as shown in the following', 'screenshot:', '', '![Installing Jupyter on Windows](graphics/image_01_015.jpg)', '', 'The installation process goes through the regular steps of making you agree to', 'the distribution rights license:', '', '![Installing Jupyter on Windows](graphics/image_01_016.jpg)', '', 'The standard Windows installation allows you to decide whether all users on', 'the machine can run the new software or not. If you are sharing a machine with', 'different levels of users, then you can decide the appropriate action:', '', '![Installing Jupyter on Windows](graphics/image_01_017.jpg)', '', 'After clicking on **Next** , it will ask for a destination for the software to', 'reside (I almost always keep the default paths):', '', '![Installing Jupyter on Windows](graphics/image_01_018.jpg)', '', 'And, most importantly, make sure that Python installed with Anaconda provides', 'your Python basis going forward (by being placed in the execution path).', 'Remember, Anaconda uses Python tool itself, so this is important.', '', '### Note', '', 'This process takes some time to download and install.', '', 'Once Anaconda is installed, you need to run a command-line instruction to', 'install Jupyter. The command is as follows:', '', '    ', '    ', '    **conda install jupyter**', '    ', '', 'This will invoke a process to download all the necessary components for', 'Jupyter onto your PC. Your output should look something like this:', '', '    ', '    ', '    **C:\\\\Users\\\\Dan >conda install jupyter**', '    **Using Anaconda Cloud api site https://api.anaconda.org**', '    **Fetching package metadata: ....**', '    **Solving package specifications: .........**', '    **# packages in environment at C:\\\\Users\\\\Dan\\\\Anaconda2:**', '    **#**', '    **jupyter                   1.0.0                    py27_2**', '    ', '', '### Note', '', 'Additional lines will be present for an install. I have abbreviated the', 'output. You now have Jupyter installed on your machine. You can start the', 'process using the following command:', '', '    ', '    ', '    **C:\\\\Users\\\\Dan >jupyter notebook**', '    ', '', 'This command is starting a Jupyter Notebook server on your machine. Once the', 'server is started, a browser instance will be opened at the starting point of', 'the notebook. You should see logging statements similar to the following on', 'your machine as the server starts:', '', '    ', '    ', '    **[I 16:21:59.144 NotebookApp] Writing notebook server cookie secret to C:\\\\Users\\\\Dan\\\\AppData\\\\Roaming\\\\jupyter\\\\runtime\\\\notebook_cookie_secret**', '    **[I 16:21:59.846 NotebookApp] Serving notebooks from local directory: C:\\\\Users\\\\Dan**', '    **[I 16:21:59.846 NotebookApp] 0 active kernels**', '    **[I 16:21:59.846 NotebookApp] The Jupyter Notebook is running at: http://localhost:8888/**', '    **[I 16:21:59.862 NotebookApp] Use Control-C to stop this server and shut down all kernels (twice to skip confirmation).**', '    ', '', 'Once Jupyter is running, you will notice a running icon for Jupyter (two', 'inverted crescents) at the bottom of your screen:', '', '![Installing Jupyter on Windows](graphics/image_01_020.jpg)', '', 'Note, the last line of the log is the instruction you must use to stop the', 'server (press _Ctrl_ \\\\+ _C_ in the command-line window where the server is', 'running).', '', 'If you press _Ctrl_ \\\\+ _C_ in that window, the Jupyter server will shut down', 'gracefully:', '', '    ', '    ', '    **[W 17:26:36.688 NotebookApp] 404 GET /favicon.ico (::1) 62.00ms referer=None**', '    **[W 17:26:36.750 NotebookApp] 404 GET /favicon.ico (::1) 0.00ms referer=None**', '    **[I 17:28:24.891 NotebookApp] Interrupted...**', '    **[I 17:28:24.891 NotebookApp] Shutting down kernels**', '    ', '', 'You will notice that the Anaconda package has been installed on your', 'application menu for further use:', '', '![Installing Jupyter on Windows](graphics/image_01_021.jpg)']\n"
     ]
    }
   ],
   "source": [
    "s=h2m(html_contents(html_lists[1]))\n",
    "\n",
    "s0=s.strip()\n",
    "s1 = s0.rsplit(\"\\n\")\n",
    "#print(s1[3])\n",
    "#print(len(s1))\n",
    "\n",
    "print(s1)\n",
    "\n",
    "#for line in s1:\n",
    "    #print(line.rstrip())\n",
    "\n",
    "# s2 = s.replace(\"\\n\",\"<br>\")\n"
   ]
  },
  {
   "cell_type": "code",
   "execution_count": 156,
   "metadata": {
    "collapsed": true
   },
   "outputs": [],
   "source": [
    "#len(s2)\n",
    "#s2[:100]\n",
    "#bt(s2[:2100])"
   ]
  },
  {
   "cell_type": "code",
   "execution_count": null,
   "metadata": {},
   "outputs": [
    {
     "name": "stdout",
     "output_type": "stream",
     "text": [
      "109\n"
     ]
    }
   ],
   "source": [
    "print(len(s1))\n",
    "rs = []\n",
    "srcs = []\n",
    "dsts = []\n",
    "for line in s1:\n",
    "    if line==\"\": # 如果为空字符，表示原来是换行，不翻译，翻译时会报错\n",
    "        srcs.append(\"<br>\")\n",
    "        dsts.append(\"<br>\")\n",
    "        continue\n",
    "    r = bt(line)\n",
    "    #if 'trans_result' in r:\n",
    "    if r==None:\n",
    "        #srcs.append(\"<br>\")\n",
    "        #dsts.append(\"<br>\")\n",
    "        continue\n",
    "    \n",
    "    rs.append(r)\n",
    "    srcs.append(r[0])\n",
    "    dsts.append(r[1])\n",
    "    time.sleep(10)\n",
    "\n",
    "print(len(srcs),len(dsts))\n",
    "print(dsts)"
   ]
  },
  {
   "cell_type": "markdown",
   "metadata": {
    "collapsed": true
   },
   "source": [
    "#TODO\n",
    "1. html文件转化为markdown文件，存储为文件；\n",
    "2. 将markdown文件翻译为中文，存储为文件；\n",
    "3. 将markdown文件翻译为中文，按段落，英文中文对照，存储为文件；\n",
    "4. 将markdown文件转换为notebook格式，存储为文件；\n",
    "5. 如何保留html的格式不丢失，并能按照段落自动翻译对照？\n",
    "6. 尝试google翻译，对网页格式或者文件直接翻译。（百度有文字限制）"
   ]
  },
  {
   "cell_type": "code",
   "execution_count": null,
   "metadata": {
    "collapsed": true
   },
   "outputs": [],
   "source": []
  }
 ],
 "metadata": {
  "kernelspec": {
   "display_name": "Python 3",
   "language": "python",
   "name": "python3"
  },
  "language_info": {
   "codemirror_mode": {
    "name": "ipython",
    "version": 3
   },
   "file_extension": ".py",
   "mimetype": "text/x-python",
   "name": "python",
   "nbconvert_exporter": "python",
   "pygments_lexer": "ipython3",
   "version": "3.6.3"
  }
 },
 "nbformat": 4,
 "nbformat_minor": 2
}
