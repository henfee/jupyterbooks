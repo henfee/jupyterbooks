{
 "cells": [
  {
   "cell_type": "code",
   "execution_count": 34,
   "metadata": {},
   "outputs": [],
   "source": [
    "import os\n",
    "import sys\n",
    "import json\n",
    "import re\n",
    "import html2text"
   ]
  },
  {
   "cell_type": "code",
   "execution_count": 2,
   "metadata": {},
   "outputs": [
    {
     "data": {
      "text/plain": [
       "'/Users/fintech101/2018jupyter/books project/1 learning jupyter/1draft/jupyterbooks/00LearningJupyter/codes'"
      ]
     },
     "execution_count": 2,
     "metadata": {},
     "output_type": "execute_result"
    }
   ],
   "source": [
    "# 获取当前路径\n",
    "os.getcwd()"
   ]
  },
  {
   "cell_type": "code",
   "execution_count": 24,
   "metadata": {
    "collapsed": true
   },
   "outputs": [],
   "source": [
    "# file folder path\n",
    "codes_path=\"/Users/fintech101/2018jupyter/books project/1 learning jupyter/1draft/jupyterbooks/00LearningJupyter/codes\"\n",
    "html_path=\"/Users/fintech101/2018jupyter/books project/1 learning jupyter/1draft/jupyterbooks/00LearningJupyter/OEBPS\"\n",
    "notebook_path=\"/Users/fintech101/2018jupyter/books project/1 learning jupyter/1draft/jupyterbooks/00LearningJupyter/OEBPS/notebook\"\n",
    "markdown_path=\"/Users/fintech101/2018jupyter/books project/1 learning jupyter/1draft/jupyterbooks/00LearningJupyter/OEBPS/markdown\""
   ]
  },
  {
   "cell_type": "code",
   "execution_count": 20,
   "metadata": {
    "collapsed": true
   },
   "outputs": [],
   "source": [
    "# 进入工作目录中\n",
    "os.chdir(html_path)"
   ]
  },
  {
   "cell_type": "code",
   "execution_count": 5,
   "metadata": {},
   "outputs": [
    {
     "data": {
      "text/plain": [
       "'/Users/fintech101/2018jupyter/books project/1 learning jupyter/1draft/jupyterbooks/00LearningJupyter/OEBPS'"
      ]
     },
     "execution_count": 5,
     "metadata": {},
     "output_type": "execute_result"
    }
   ],
   "source": [
    "htmlpath=\"/Users/fintech101/2018jupyter/books project/1 learning jupyter/1draft/jupyterbooks/00LearningJupyter/OEBPS\"\n",
    "os.chdir(htmlpath) \n",
    "os.getcwd()"
   ]
  },
  {
   "cell_type": "code",
   "execution_count": 21,
   "metadata": {},
   "outputs": [
    {
     "data": {
      "text/plain": [
       "['.DS_Store',\n",
       " '.ipynb_checkpoints',\n",
       " 'ch01.html',\n",
       " 'ch01s02.html',\n",
       " 'ch01s03.html',\n",
       " 'ch01s04.html',\n",
       " 'ch01s05.html',\n",
       " 'ch01s06.html',\n",
       " 'ch01s07.html',\n",
       " 'ch01s08.html',\n",
       " 'ch01s09.html',\n",
       " 'ch02.html',\n",
       " 'ch02s02.html',\n",
       " 'ch02s03.html',\n",
       " 'ch02s04.html',\n",
       " 'ch02s05.html',\n",
       " 'ch02s06.html',\n",
       " 'ch03.html',\n",
       " 'ch03s02.html',\n",
       " 'ch03s03.html',\n",
       " 'ch03s04.html',\n",
       " 'ch03s05.html',\n",
       " 'ch03s06.html',\n",
       " 'ch03s07.html',\n",
       " 'ch04.html',\n",
       " 'ch04s02.html',\n",
       " 'ch04s03.html',\n",
       " 'ch04s04.html',\n",
       " 'ch04s05.html',\n",
       " 'ch04s06.html',\n",
       " 'ch04s07.html',\n",
       " 'ch04s08.html',\n",
       " 'ch04s09.html',\n",
       " 'ch04s10.html',\n",
       " 'ch04s11.html',\n",
       " 'ch05.html',\n",
       " 'ch05s02.html',\n",
       " 'ch05s03.html',\n",
       " 'ch05s04.html',\n",
       " 'ch05s05.html',\n",
       " 'ch05s06.html',\n",
       " 'ch05s07.html',\n",
       " 'ch05s08.html',\n",
       " 'ch05s09.html',\n",
       " 'ch05s10.html',\n",
       " 'ch05s11.html',\n",
       " 'ch05s12.html',\n",
       " 'ch06.html',\n",
       " 'ch06s02.html',\n",
       " 'ch06s03.html',\n",
       " 'ch06s04.html',\n",
       " 'ch06s05.html',\n",
       " 'ch06s06.html',\n",
       " 'ch07.html',\n",
       " 'ch07s02.html',\n",
       " 'ch07s03.html',\n",
       " 'ch08.html',\n",
       " 'ch08s02.html',\n",
       " 'ch08s03.html',\n",
       " 'ch08s04.html',\n",
       " 'ch09.html',\n",
       " 'ch09s02.html',\n",
       " 'ch09s03.html',\n",
       " 'ch09s04.html',\n",
       " 'ch09s05.html',\n",
       " 'ch09s06.html',\n",
       " 'ch09s07.html',\n",
       " 'ch09s08.html',\n",
       " 'ch09s09.html',\n",
       " 'ch09s10.html',\n",
       " 'ch09s11.html',\n",
       " 'ch09s12.html',\n",
       " 'ch09s13.html',\n",
       " 'ch10.html',\n",
       " 'ch10s02.html',\n",
       " 'ch10s03.html',\n",
       " 'ch10s04.html',\n",
       " 'ch10s05.html',\n",
       " 'ch10s06.html',\n",
       " 'ch10s07.html',\n",
       " 'ch10s08.html',\n",
       " 'ch10s09.html',\n",
       " 'ch10s10.html',\n",
       " 'content.opf',\n",
       " 'cover',\n",
       " 'cover.html',\n",
       " 'epub.css',\n",
       " 'graphics',\n",
       " 'htmllist.txt',\n",
       " 'index.html',\n",
       " 'markdown',\n",
       " 'notebook',\n",
       " 'pr01.html',\n",
       " 'pr02.html',\n",
       " 'pr03.html',\n",
       " 'pr04.html',\n",
       " 'pr05.html',\n",
       " 'pr06.html',\n",
       " 'pr06s02.html',\n",
       " 'pr06s03.html',\n",
       " 'pr06s04.html',\n",
       " 'pr06s05.html',\n",
       " 'pr06s06.html',\n",
       " 'toc.html',\n",
       " 'toc.ncx',\n",
       " 'Untitled.ipynb']"
      ]
     },
     "execution_count": 21,
     "metadata": {},
     "output_type": "execute_result"
    }
   ],
   "source": [
    "# 获取当前路径下的文件名\n",
    "os.listdir(os.getcwd())"
   ]
  },
  {
   "cell_type": "code",
   "execution_count": 117,
   "metadata": {
    "collapsed": true
   },
   "outputs": [],
   "source": [
    "# 获取当前路径下文件名\n",
    "#!ls -l"
   ]
  },
  {
   "cell_type": "code",
   "execution_count": 8,
   "metadata": {},
   "outputs": [],
   "source": [
    "# 获取当前路径下文件类型为html的文件\n",
    "!ls -l *.html>htmllist.txt"
   ]
  },
  {
   "cell_type": "code",
   "execution_count": 22,
   "metadata": {},
   "outputs": [],
   "source": [
    "# 获取当前路径下文件类型为html，ch04开头的文件\n",
    "#!cat htmllist.txt"
   ]
  },
  {
   "cell_type": "code",
   "execution_count": 17,
   "metadata": {},
   "outputs": [
    {
     "data": {
      "text/plain": [
       "'/Users/fintech101/2018jupyter/books project/1 learning jupyter/1draft/jupyterbooks/00LearningJupyter/OEBPS/ch01s02.html'"
      ]
     },
     "execution_count": 17,
     "metadata": {},
     "output_type": "execute_result"
    }
   ],
   "source": [
    "# 获取html文件路径及文件名\n",
    "\n",
    "# -*- coding: utf-8 -*-   \n",
    "  \n",
    "import os  \n",
    "  \n",
    "def file_name(file_dir):   \n",
    "    L=[]   \n",
    "    for root, dirs, files in os.walk(file_dir):  \n",
    "        for file in files:  \n",
    "            if os.path.splitext(file)[1] == '.html':  \n",
    "                L.append(os.path.join(root, file))  \n",
    "    return L  \n",
    "\n",
    "htmllist=file_name(htmlpath)\n",
    "htmllist[1]"
   ]
  },
  {
   "cell_type": "code",
   "execution_count": 30,
   "metadata": {
    "collapsed": true
   },
   "outputs": [],
   "source": [
    "# 用open()函数打开文件\n",
    "head1 = open(\"header1.ipynb\")\n",
    "foot1 = open(\"foot1.ipynb\")"
   ]
  },
  {
   "cell_type": "code",
   "execution_count": 28,
   "metadata": {},
   "outputs": [
    {
     "ename": "SyntaxError",
     "evalue": "invalid syntax (<ipython-input-28-6fbb997fe02f>, line 3)",
     "output_type": "error",
     "traceback": [
      "\u001b[0;36m  File \u001b[0;32m\"<ipython-input-28-6fbb997fe02f>\"\u001b[0;36m, line \u001b[0;32m3\u001b[0m\n\u001b[0;31m    header = \"{\\n  \"cells\": [\\n   {\\n    \"cell_type\": \"markdown\",\\n    \"metadata\": {},\\n    \"source\": [\\n     \"<?xml version=\\\"1.0\\\" encoding=\\\"utf-8\\\" ?>\\n\",\\n     \"\\n\",\\n     \"<!DOCTYPE html PUBLIC \\\"-//W3C//DTD XHTML 1.1//EN\\\" \\\"http://www.w3.org/TR/xhtml11/DTD/xhtml11.dtd\\\">\\n\",\\n     \"\\n\",\\n\"\u001b[0m\n\u001b[0m                        ^\u001b[0m\n\u001b[0;31mSyntaxError\u001b[0m\u001b[0;31m:\u001b[0m invalid syntax\n"
     ]
    }
   ],
   "source": [
    "# change work dir to codes path:\n",
    "os.chdir(codes_path)\n",
    "header = \"{\\n  \"cells\": [\\n   {\\n    \"cell_type\": \"markdown\",\\n    \"metadata\": {},\\n    \"source\": [\\n     \"<?xml version=\\\"1.0\\\" encoding=\\\"utf-8\\\" ?>\\n\",\\n     \"\\n\",\\n     \"<!DOCTYPE html PUBLIC \\\"-//W3C//DTD XHTML 1.1//EN\\\" \\\"http://www.w3.org/TR/xhtml11/DTD/xhtml11.dtd\\\">\\n\",\\n     \"\\n\",\\n\"\n",
    "#!cat header1.ipynb\n",
    "print(header)"
   ]
  },
  {
   "cell_type": "code",
   "execution_count": 32,
   "metadata": {},
   "outputs": [
    {
     "data": {
      "text/plain": [
       "''"
      ]
     },
     "execution_count": 32,
     "metadata": {},
     "output_type": "execute_result"
    }
   ],
   "source": [
    "# 读取文件\n",
    "head1Content = head1.read()\n",
    "foot1Content = foot1.read()\n",
    "foot1Content"
   ]
  },
  {
   "cell_type": "code",
   "execution_count": 76,
   "metadata": {
    "collapsed": true
   },
   "outputs": [],
   "source": [
    "# 按行读取文件\n",
    "\n",
    "temp2=open(\"temp2.txt\",'a')\n",
    "for line in head1.readlines():\n",
    "    print(line)\n",
    "    #temp2.write(line)\n",
    "#temp2.close()"
   ]
  },
  {
   "cell_type": "code",
   "execution_count": 75,
   "metadata": {
    "collapsed": true
   },
   "outputs": [],
   "source": [
    "!cat temp2.txt"
   ]
  },
  {
   "cell_type": "code",
   "execution_count": 69,
   "metadata": {
    "collapsed": true
   },
   "outputs": [],
   "source": [
    "# 合并文件\n",
    "temp1= open(\"temp1.txt\",'w')"
   ]
  },
  {
   "cell_type": "code",
   "execution_count": 70,
   "metadata": {
    "collapsed": true
   },
   "outputs": [],
   "source": [
    "head1Content\n",
    "#temp1.write(\"{\\n \"cells\": [\\n  {\\n   \"cell_type\": \"markdown\",\\n   \"metadata\": {},\\n   \"source\": [\\n    \"<?xml version=\\\\\"1.0\\\\\" encoding=\\\\\"utf-8\\\\\" ?>\\\\n\",\\n    \"\\\\n\",\\n    \"<!DOCTYPE html PUBLIC \\\\\"-//W3C//DTD XHTML 1.1//EN\\\\\" \\\\\"http://www.w3.org/TR/xhtml11/DTD/xhtml11.dtd\\\\\">\\\\n\",\\n    \"\\\\n\",\\n    \"\\n\")\n",
    "temp1.write(head1Content)\n",
    "temp1.close()"
   ]
  },
  {
   "cell_type": "code",
   "execution_count": 153,
   "metadata": {},
   "outputs": [
    {
     "name": "stdout",
     "output_type": "stream",
     "text": [
      "ch05.html\n",
      "ch05s02.html\n",
      "ch05s03.html\n",
      "ch05s04.html\n",
      "ch05s05.html\n",
      "ch05s06.html\n",
      "ch05s07.html\n",
      "ch05s08.html\n",
      "ch05s09.html\n",
      "ch05s10.html\n",
      "ch05s11.html\n",
      "ch05s12.html\n",
      "ch06.html\n",
      "ch06s02.html\n",
      "ch06s03.html\n",
      "ch06s04.html\n",
      "ch06s05.html\n",
      "ch06s06.html\n",
      "ch07.html\n",
      "ch07s02.html\n",
      "ch07s03.html\n",
      "ch08.html\n",
      "ch08s02.html\n",
      "ch08s03.html\n",
      "ch08s04.html\n",
      "ch09.html\n",
      "ch09s02.html\n",
      "ch09s03.html\n",
      "ch09s04.html\n",
      "ch09s05.html\n",
      "ch09s06.html\n",
      "ch09s07.html\n",
      "ch09s08.html\n",
      "ch09s09.html\n",
      "ch09s10.html\n",
      "ch09s11.html\n",
      "ch09s12.html\n",
      "ch09s13.html\n",
      "ch10.html\n",
      "ch10s02.html\n",
      "ch10s03.html\n",
      "ch10s04.html\n",
      "ch10s05.html\n",
      "ch10s06.html\n",
      "ch10s07.html\n",
      "ch10s08.html\n",
      "ch10s09.html\n",
      "ch10s10.html\n"
     ]
    }
   ],
   "source": [
    "# add html name files\n",
    "filenames=open('chapter.txt')\n",
    "list1=filenames.readlines()\n",
    "for item in list1:\n",
    "    item =item.split('\\n')\n",
    "    print(item[0])\n"
   ]
  },
  {
   "cell_type": "code",
   "execution_count": 154,
   "metadata": {},
   "outputs": [
    {
     "data": {
      "text/plain": [
       "'ch05.html\\n'"
      ]
     },
     "execution_count": 154,
     "metadata": {},
     "output_type": "execute_result"
    }
   ],
   "source": [
    "# read file from list\n",
    "list1[0]"
   ]
  },
  {
   "cell_type": "code",
   "execution_count": 101,
   "metadata": {},
   "outputs": [
    {
     "name": "stdout",
     "output_type": "stream",
     "text": [
      "this is \n",
      "apple\n"
     ]
    }
   ],
   "source": [
    "# TODO if-else files"
   ]
  },
  {
   "cell_type": "code",
   "execution_count": 155,
   "metadata": {},
   "outputs": [
    {
     "name": "stdout",
     "output_type": "stream",
     "text": [
      "ch05.html.ipynb\n",
      "close filech05.html.ipynb!\n",
      "\n",
      "ch05s02.html.ipynb\n",
      "close filech05s02.html.ipynb!\n",
      "\n",
      "ch05s03.html.ipynb\n",
      "close filech05s03.html.ipynb!\n",
      "\n",
      "ch05s04.html.ipynb\n",
      "close filech05s04.html.ipynb!\n",
      "\n",
      "ch05s05.html.ipynb\n",
      "close filech05s05.html.ipynb!\n",
      "\n",
      "ch05s06.html.ipynb\n",
      "close filech05s06.html.ipynb!\n",
      "\n",
      "ch05s07.html.ipynb\n",
      "close filech05s07.html.ipynb!\n",
      "\n",
      "ch05s08.html.ipynb\n",
      "close filech05s08.html.ipynb!\n",
      "\n",
      "ch05s09.html.ipynb\n",
      "close filech05s09.html.ipynb!\n",
      "\n",
      "ch05s10.html.ipynb\n",
      "close filech05s10.html.ipynb!\n",
      "\n",
      "ch05s11.html.ipynb\n",
      "close filech05s11.html.ipynb!\n",
      "\n",
      "ch05s12.html.ipynb\n",
      "close filech05s12.html.ipynb!\n",
      "\n",
      "ch06.html.ipynb\n",
      "close filech06.html.ipynb!\n",
      "\n",
      "ch06s02.html.ipynb\n",
      "close filech06s02.html.ipynb!\n",
      "\n",
      "ch06s03.html.ipynb\n",
      "close filech06s03.html.ipynb!\n",
      "\n",
      "ch06s04.html.ipynb\n",
      "close filech06s04.html.ipynb!\n",
      "\n",
      "ch06s05.html.ipynb\n",
      "close filech06s05.html.ipynb!\n",
      "\n",
      "ch06s06.html.ipynb\n",
      "close filech06s06.html.ipynb!\n",
      "\n",
      "ch07.html.ipynb\n",
      "close filech07.html.ipynb!\n",
      "\n",
      "ch07s02.html.ipynb\n",
      "close filech07s02.html.ipynb!\n",
      "\n",
      "ch07s03.html.ipynb\n",
      "close filech07s03.html.ipynb!\n",
      "\n",
      "ch08.html.ipynb\n",
      "close filech08.html.ipynb!\n",
      "\n",
      "ch08s02.html.ipynb\n",
      "close filech08s02.html.ipynb!\n",
      "\n",
      "ch08s03.html.ipynb\n",
      "close filech08s03.html.ipynb!\n",
      "\n",
      "ch08s04.html.ipynb\n",
      "close filech08s04.html.ipynb!\n",
      "\n",
      "ch09.html.ipynb\n",
      "close filech09.html.ipynb!\n",
      "\n",
      "ch09s02.html.ipynb\n",
      "close filech09s02.html.ipynb!\n",
      "\n",
      "ch09s03.html.ipynb\n",
      "close filech09s03.html.ipynb!\n",
      "\n",
      "ch09s04.html.ipynb\n",
      "close filech09s04.html.ipynb!\n",
      "\n",
      "ch09s05.html.ipynb\n",
      "close filech09s05.html.ipynb!\n",
      "\n",
      "ch09s06.html.ipynb\n",
      "close filech09s06.html.ipynb!\n",
      "\n",
      "ch09s07.html.ipynb\n",
      "close filech09s07.html.ipynb!\n",
      "\n",
      "ch09s08.html.ipynb\n",
      "close filech09s08.html.ipynb!\n",
      "\n",
      "ch09s09.html.ipynb\n",
      "close filech09s09.html.ipynb!\n",
      "\n",
      "ch09s10.html.ipynb\n",
      "close filech09s10.html.ipynb!\n",
      "\n",
      "ch09s11.html.ipynb\n",
      "close filech09s11.html.ipynb!\n",
      "\n",
      "ch09s12.html.ipynb\n",
      "close filech09s12.html.ipynb!\n",
      "\n",
      "ch09s13.html.ipynb\n",
      "close filech09s13.html.ipynb!\n",
      "\n",
      "ch10.html.ipynb\n",
      "close filech10.html.ipynb!\n",
      "\n",
      "ch10s02.html.ipynb\n",
      "close filech10s02.html.ipynb!\n",
      "\n",
      "ch10s03.html.ipynb\n",
      "close filech10s03.html.ipynb!\n",
      "\n",
      "ch10s04.html.ipynb\n",
      "close filech10s04.html.ipynb!\n",
      "\n",
      "ch10s05.html.ipynb\n",
      "close filech10s05.html.ipynb!\n",
      "\n",
      "ch10s06.html.ipynb\n",
      "close filech10s06.html.ipynb!\n",
      "\n",
      "ch10s07.html.ipynb\n",
      "close filech10s07.html.ipynb!\n",
      "\n",
      "ch10s08.html.ipynb\n",
      "close filech10s08.html.ipynb!\n",
      "\n",
      "ch10s09.html.ipynb\n",
      "close filech10s09.html.ipynb!\n",
      "\n",
      "ch10s10.html.ipynb\n",
      "close filech10s10.html.ipynb!\n",
      "\n"
     ]
    }
   ],
   "source": [
    "# 用open()函数打开文件\n",
    "head1 = open(\"header1.ipynb\")\n",
    "foot1 = open(\"foot1.ipynb\")\n",
    "\n",
    "# 读取文件\n",
    "head1Content = head1.read()\n",
    "foot1Content = foot1.read()\n",
    "\n",
    "# read the html file\n",
    "for item in list1:\n",
    "    item =item.split('\\n')\n",
    "    #print(item[0])\n",
    "    filename=item[0]\n",
    "    new_filename=filename+'.ipynb'\n",
    "    print(new_filename)\n",
    "    html_file=open(filename)\n",
    "    htmlContents=html_file.read()\n",
    "    htmlContent=json.dumps(htmlContents)\n",
    "    #print(htmlContent[0:44])\n",
    "    #print(\"***\")\n",
    "    #print(htmlContent[48:149])\n",
    "    htmlContents=htmlContent[153:]+',\\n'\n",
    "    #print(htmlContents)\n",
    "    #print(htmlContent[153:])\n",
    "    ## change \\n\\n --->( \\n\",\"\\n\",\")\n",
    "    #\\n\",\n",
    "    #\"\\n\",\n",
    "    #\"\n",
    "    \n",
    "    #hc=re.compile(r'^\\n\\n')\n",
    "    #hc_new=re.\n",
    "    #print(hc.search('\\n\\n'))\n",
    "    \n",
    "    #j=json.loads(htmlContent)\n",
    "    #print(htmlContent)\n",
    "    ## TODO change html as json format \n",
    "    ## readline and add \"\" in the head and end of the line\n",
    "    ## add \\ before the \"\"\n",
    "    #htmlContents=html_file.readlines()\n",
    "    #for htmlContent in htmlContents:\n",
    "    #    print(htmlContent)\n",
    "        \n",
    "    \n",
    "    \n",
    "    temp= open(new_filename,'w')\n",
    "    temp.write(head1Content)\n",
    "    temp.close\n",
    "    temp= open(new_filename,'a')\n",
    "    temp.write(\"    \\\"\"+htmlContents)\n",
    "    temp.write(foot1Content)\n",
    "    print(\"close file\"+new_filename+\"!\"+'\\n')\n",
    "    temp.close\n",
    "    \n",
    "\n",
    "    "
   ]
  },
  {
   "cell_type": "code",
   "execution_count": null,
   "metadata": {
    "collapsed": true
   },
   "outputs": [],
   "source": []
  },
  {
   "cell_type": "code",
   "execution_count": 71,
   "metadata": {},
   "outputs": [
    {
     "data": {
      "text/plain": [
       "595"
      ]
     },
     "execution_count": 71,
     "metadata": {},
     "output_type": "execute_result"
    }
   ],
   "source": [
    "temp1= open(\"temp1.txt\",'a')\n",
    "foot1Content\n",
    "temp1.write(foot1Content)"
   ]
  },
  {
   "cell_type": "code",
   "execution_count": null,
   "metadata": {
    "collapsed": true
   },
   "outputs": [],
   "source": []
  },
  {
   "cell_type": "code",
   "execution_count": 46,
   "metadata": {},
   "outputs": [
    {
     "name": "stdout",
     "output_type": "stream",
     "text": [
      "/Users/xubin/Documents/2018jupyterproject/learning jupyter/9781785884870-1.zip/9781785884870learning jupyter/OEBPS\r\n"
     ]
    }
   ],
   "source": [
    "!pwd"
   ]
  },
  {
   "cell_type": "code",
   "execution_count": 62,
   "metadata": {},
   "outputs": [
    {
     "name": "stdout",
     "output_type": "stream",
     "text": [
      "{\r\n",
      " \"cells\": [\r\n",
      "  {\r\n",
      "   \"cell_type\": \"markdown\",\r\n",
      "   \"metadata\": {},\r\n",
      "   \"source\": [\r\n",
      "{\r\n",
      " \"cells\": [\r\n",
      "  {\r\n",
      "   \"cell_type\": \"markdown\",\r\n",
      "   \"metadata\": {},\r\n",
      "   \"source\": [\r\n"
     ]
    }
   ],
   "source": [
    "!cat temp1.txt"
   ]
  },
  {
   "cell_type": "code",
   "execution_count": 72,
   "metadata": {
    "collapsed": true
   },
   "outputs": [],
   "source": [
    "temp1.close()"
   ]
  },
  {
   "cell_type": "code",
   "execution_count": null,
   "metadata": {
    "collapsed": true
   },
   "outputs": [],
   "source": []
  }
 ],
 "metadata": {
  "kernelspec": {
   "display_name": "Python 3",
   "language": "python",
   "name": "python3"
  },
  "language_info": {
   "codemirror_mode": {
    "name": "ipython",
    "version": 3
   },
   "file_extension": ".py",
   "mimetype": "text/x-python",
   "name": "python",
   "nbconvert_exporter": "python",
   "pygments_lexer": "ipython3",
   "version": "3.6.3"
  }
 },
 "nbformat": 4,
 "nbformat_minor": 2
}
