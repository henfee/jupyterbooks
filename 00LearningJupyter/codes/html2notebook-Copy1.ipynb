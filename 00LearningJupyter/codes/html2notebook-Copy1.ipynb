{
 "cells": [
  {
   "cell_type": "code",
   "execution_count": 1,
   "metadata": {
    "collapsed": true
   },
   "outputs": [],
   "source": [
    "import os\n",
    "# import sys\n",
    "import json\n",
    "# import re\n",
    "# import html2text "
   ]
  },
  {
   "cell_type": "code",
   "execution_count": 2,
   "metadata": {
    "collapsed": true
   },
   "outputs": [],
   "source": [
    "# file folder path\n",
    "work_path=\"/Users/fintech101/2018jupyter/books project/1 learning jupyter/1draft/jupyterbooks/00LearningJupyter/\"\n",
    "\n",
    "codes_path=work_path+\"codes/\"\n",
    "html_path=work_path+\"OEBPS/\"\n",
    "notebook_path=work_path+\"OEBPS/notebook/\"\n",
    "markdown_path=work_path+\"OEBPS/markdown/\""
   ]
  },
  {
   "cell_type": "code",
   "execution_count": 3,
   "metadata": {},
   "outputs": [
    {
     "data": {
      "text/plain": [
       "'/Users/fintech101/2018jupyter/books project/1 learning jupyter/1draft/jupyterbooks/00LearningJupyter/codes'"
      ]
     },
     "execution_count": 3,
     "metadata": {},
     "output_type": "execute_result"
    }
   ],
   "source": [
    "# 获取当前路径\n",
    "os.getcwd()"
   ]
  },
  {
   "cell_type": "code",
   "execution_count": 4,
   "metadata": {},
   "outputs": [
    {
     "data": {
      "text/plain": [
       "'/Users/fintech101/2018jupyter/books project/1 learning jupyter/1draft/jupyterbooks/00LearningJupyter/OEBPS'"
      ]
     },
     "execution_count": 4,
     "metadata": {},
     "output_type": "execute_result"
    }
   ],
   "source": [
    "os.chdir(html_path)\n",
    "os.getcwd()"
   ]
  },
  {
   "cell_type": "code",
   "execution_count": 6,
   "metadata": {},
   "outputs": [
    {
     "data": {
      "text/plain": [
       "'ch01s02.html'"
      ]
     },
     "execution_count": 6,
     "metadata": {},
     "output_type": "execute_result"
    }
   ],
   "source": [
    "# 建立一个函数来获取文件名\n",
    "# 获取html文件路径及文件名\n",
    "def file_name(file_dir):   \n",
    "    fullname=[]\n",
    "    filename=[]\n",
    "    for root, dirs, files in os.walk(file_dir):  \n",
    "        for file in files:  \n",
    "            if os.path.splitext(file)[1] == '.html':  \n",
    "                fullname.append(os.path.join(root, file)) \n",
    "                filename.append(file)\n",
    "    return fullname,filename \n",
    "\n",
    "html_lists=file_name(html_path)[1]\n",
    "html_lists[1]"
   ]
  },
  {
   "cell_type": "code",
   "execution_count": null,
   "metadata": {
    "collapsed": true
   },
   "outputs": [],
   "source": [
    "def isSubstring3(s1,s2):\n",
    "    return s1 in s2"
   ]
  },
  {
   "cell_type": "code",
   "execution_count": 12,
   "metadata": {
    "collapsed": true
   },
   "outputs": [],
   "source": [
    "# 建立一个函数读取html文件,存储为一个html_contents变量中，用于文件处理\n",
    "def html_contents(file_name):\n",
    "    \"\"\" open an html file, and read the html contents, save in \"\"\"\n",
    "    with open(file_name) as html_file:\n",
    "        html_content=html_file.read()\n",
    "        return html_contents"
   ]
  },
  {
   "cell_type": "code",
   "execution_count": 66,
   "metadata": {},
   "outputs": [
    {
     "ename": "IndentationError",
     "evalue": "expected an indented block (<ipython-input-66-2d23867a0253>, line 9)",
     "output_type": "error",
     "traceback": [
      "\u001b[0;36m  File \u001b[0;32m\"<ipython-input-66-2d23867a0253>\"\u001b[0;36m, line \u001b[0;32m9\u001b[0m\n\u001b[0;31m    elif \"\"\"<pre class=\"programlisting\">\"\"\" in html_content :\u001b[0m\n\u001b[0m       ^\u001b[0m\n\u001b[0;31mIndentationError\u001b[0m\u001b[0;31m:\u001b[0m expected an indented block\n"
     ]
    }
   ],
   "source": [
    "file_name=\"ch01s03.html\"\n",
    "with open(file_name) as html_file:\n",
    "    for html_content in  html_file:\n",
    "        html_content=html_file.readline()\n",
    "        html2json_ = json.dumps(html_content, indent=4, sort_keys=True)\n",
    "        if html_content == \"\\n\":\n",
    "            #continue\n",
    "        \n",
    "        elif \"\"\"<pre class=\"programlisting\">\"\"\" in html_content :     \n",
    "            print(\"*** begin program***\")\n",
    "        elif \"</pre>\" in html_content :\n",
    "            print(\"** end of program **\")\n",
    "        else: \n",
    "             print(html_content)\n",
    "        \n",
    "        #print(len(html_content))\n",
    "        #for item in html2json_:\n",
    "            #print (len(item),item)\n",
    "        # print(html_content)\n",
    "#html2json_\n",
    "\n",
    "def porgram_codes(line):\n",
    "    p = []\n",
    "    if line.find(<pre class=\"programlisting\">) == -1:\n",
    "        continue\n",
    "    elif line.find() == -1:\n",
    "        p.append(line)\n",
    "    else:\n",
    "        p.append(line)\n",
    "print(program_codes)"
   ]
  },
  {
   "cell_type": "code",
   "execution_count": 65,
   "metadata": {},
   "outputs": [
    {
     "ename": "SyntaxError",
     "evalue": "invalid syntax (<ipython-input-65-3fc39e904e51>, line 3)",
     "output_type": "error",
     "traceback": [
      "\u001b[0;36m  File \u001b[0;32m\"<ipython-input-65-3fc39e904e51>\"\u001b[0;36m, line \u001b[0;32m3\u001b[0m\n\u001b[0;31m    if line.find(<pre class=\"programlisting\">) == -1:\u001b[0m\n\u001b[0m                 ^\u001b[0m\n\u001b[0;31mSyntaxError\u001b[0m\u001b[0;31m:\u001b[0m invalid syntax\n"
     ]
    }
   ],
   "source": [
    "\n",
    "def porgram_codes(line):\n",
    "    p = []\n",
    "    if line.find(<pre class=\"programlisting\">) == -1:\n",
    "        continue\n",
    "    elif line.find(</pre>) == -1:\n",
    "        p.append(line)\n",
    "    else:\n",
    "        p.append(line)\n",
    "# print(program_codes)"
   ]
  },
  {
   "cell_type": "code",
   "execution_count": 29,
   "metadata": {},
   "outputs": [
    {
     "name": "stdout",
     "output_type": "stream",
     "text": [
      "1 \n",
      "\n",
      "98 <!DOCTYPE html PUBLIC \"-//W3C//DTD XHTML 1.1//EN\" \"http://www.w3.org/TR/xhtml11/DTD/xhtml11.dtd\">\n",
      "\n",
      "1 \n",
      "\n",
      "852 <html xmlns=\"http://www.w3.org/1999/xhtml\"><head><title>Installing Jupyter on Mac</title><link rel=\"stylesheet\" href=\"epub.css\" type=\"text/css\"/><meta name=\"generator\" content=\"DocBook XSL Stylesheets V1.75.2\"/></head><body id=\"page\"><div class=\"section\" title=\"Installing Jupyter on Mac\"><div class=\"titlepage\"><div><div><h1 class=\"title\"><a id=\"ch01lvl1sec9\"/>Installing Jupyter on Mac</h1></div></div></div><p>On Mac, you can use the same Anaconda GUI (for Mac) as described in the previous section. You may also use the command-line tools available for Linux on your Mac.</p><p>You must first install Anaconda. Download the latest version and execute the embedded shell script to install.</p><p>Installing Jupyter on Mac is done through the command line using the <code class=\"literal\">conda install</code> command:</p><pre class=\"programlisting\">\n",
      "\n",
      "84 <span class=\"strong\"><strong>bmac:~ dtoomey$ conda install jupyter </strong></span>\n",
      "\n",
      "78 <span class=\"strong\"><strong>Fetching package metadata: .... </strong></span>\n",
      "\n",
      "115 <span class=\"strong\"><strong>Solving package specifications: .................................... </strong></span>\n",
      "\n",
      "116 <span class=\"strong\"><strong>Package plan for installation in environment /Users/dtoomey/anaconda: </strong></span>\n",
      "\n",
      "84 </pre><p>The following packages will be downloaded:</p><pre class=\"programlisting\">\n",
      "\n",
      "96 <span class=\"strong\"><strong>    package                    |            build </strong></span>\n",
      "\n",
      "96 <span class=\"strong\"><strong>    ---------------------------|----------------- </strong></span>\n",
      "\n",
      "111 <span class=\"strong\"><strong>    mistune-0.7.2              |           py27_1         178 KB </strong></span>\n",
      "\n",
      "111 <span class=\"strong\"><strong>    setuptools-20.3            |           py27_0         453 KB </strong></span>\n",
      "\n",
      "111 <span class=\"strong\"><strong>    conda-4.0.5                |           py27_0         185 KB </strong></span>\n",
      "\n",
      "111 <span class=\"strong\"><strong>    pexpect-4.0.1              |           py27_0          63 KB </strong></span>\n",
      "\n",
      "111 <span class=\"strong\"><strong>    traitlets-4.2.1            |           py27_0         108 KB </strong></span>\n",
      "\n",
      "111 <span class=\"strong\"><strong>    ipython-4.1.2              |           py27_2         931 KB </strong></span>\n",
      "\n",
      "111 <span class=\"strong\"><strong>    jupyter_core-4.1.0         |           py27_0          51 KB </strong></span>\n",
      "\n",
      "111 <span class=\"strong\"><strong>    jupyter_client-4.2.2       |           py27_0          96 KB </strong></span>\n",
      "\n",
      "111 <span class=\"strong\"><strong>    jupyter_console-4.1.1      |           py27_0          24 KB </strong></span>\n",
      "\n",
      "111 <span class=\"strong\"><strong>    notebook-4.1.0             |           py27_2         4.4 MB </strong></span>\n",
      "\n",
      "111 <span class=\"strong\"><strong>    qtconsole-4.2.1            |           py27_0         160 KB </strong></span>\n",
      "\n",
      "111 <span class=\"strong\"><strong>    jupyter-1.0.0              |           py27_2           2 KB </strong></span>\n",
      "\n",
      "111 <span class=\"strong\"><strong>    ------------------------------------------------------------ </strong></span>\n",
      "\n",
      "111 <span class=\"strong\"><strong>                                           Total:         6.6 MB </strong></span>\n",
      "\n",
      "81 </pre><p>The following packages will be updated:</p><pre class=\"programlisting\">\n",
      "\n",
      "101 <span class=\"strong\"><strong>    conda:           3.19.3-py27_0 --&gt; 4.0.5-py27_0 </strong></span>\n",
      "\n",
      "101 <span class=\"strong\"><strong>    ipython:         4.1.2-py27_0  --&gt; 4.1.2-py27_2 </strong></span>\n",
      "\n",
      "101 <span class=\"strong\"><strong>    jupyter:         1.0.0-py27_1  --&gt; 1.0.0-py27_2 </strong></span>\n",
      "\n",
      "101 <span class=\"strong\"><strong>    jupyter_client:  4.1.1-py27_0  --&gt; 4.2.2-py27_0 </strong></span>\n",
      "\n",
      "101 <span class=\"strong\"><strong>    jupyter_console: 4.1.0-py27_0  --&gt; 4.1.1-py27_0 </strong></span>\n",
      "\n",
      "101 <span class=\"strong\"><strong>    jupyter_core:    4.0.6-py27_0  --&gt; 4.1.0-py27_0 </strong></span>\n",
      "\n",
      "101 <span class=\"strong\"><strong>    mistune:         0.7.1-py27_0  --&gt; 0.7.2-py27_1 </strong></span>\n",
      "\n",
      "101 <span class=\"strong\"><strong>    notebook:        4.1.0-py27_0  --&gt; 4.1.0-py27_2 </strong></span>\n",
      "\n",
      "101 <span class=\"strong\"><strong>    pexpect:         3.3-py27_0    --&gt; 4.0.1-py27_0 </strong></span>\n",
      "\n",
      "101 <span class=\"strong\"><strong>    qtconsole:       4.1.1-py27_0  --&gt; 4.2.1-py27_0 </strong></span>\n",
      "\n",
      "100 <span class=\"strong\"><strong>    setuptools:      20.1.1-py27_0 --&gt; 20.3-py27_0 </strong></span>\n",
      "\n",
      "101 <span class=\"strong\"><strong>    traitlets:       4.1.0-py27_0  --&gt; 4.2.1-py27_0 </strong></span>\n",
      "\n",
      "65 <span class=\"strong\"><strong>Proceed ([y]/n)? y </strong></span>\n",
      "\n",
      "68 <span class=\"strong\"><strong>Fetching packages ... </strong></span>\n",
      "\n",
      "112 <span class=\"strong\"><strong>mistune-0.7.2- 100% |#################| Time: 0:00:00   1.87 MB/s </strong></span>\n",
      "\n",
      "112 <span class=\"strong\"><strong>setuptools-20. 100% |#################| Time: 0:00:00   3.53 MB/s </strong></span>\n",
      "\n",
      "112 <span class=\"strong\"><strong>conda-4.0.5-py 100% |#################| Time: 0:00:00   2.47 MB/s </strong></span>\n",
      "\n",
      "112 <span class=\"strong\"><strong>pexpect-4.0.1- 100% |#################| Time: 0:00:00   1.26 MB/s </strong></span>\n",
      "\n",
      "112 <span class=\"strong\"><strong>traitlets-4.2. 100% |#################| Time: 0:00:00   1.71 MB/s </strong></span>\n",
      "\n",
      "112 <span class=\"strong\"><strong>ipython-4.1.2- 100% |#################| Time: 0:00:00   1.77 MB/s </strong></span>\n",
      "\n",
      "112 <span class=\"strong\"><strong>jupyter_core-4 100% |#################| Time: 0:00:00   2.34 MB/s </strong></span>\n",
      "\n",
      "112 <span class=\"strong\"><strong>jupyter_client 100% |#################| Time: 0:00:00   1.58 MB/s </strong></span>\n",
      "\n",
      "112 <span class=\"strong\"><strong>jupyter_consol 100% |#################| Time: 0:00:00   7.82 MB/s </strong></span>\n",
      "\n",
      "112 <span class=\"strong\"><strong>notebook-4.1.0 100% |#################| Time: 0:00:00   4.75 MB/s </strong></span>\n",
      "\n",
      "112 <span class=\"strong\"><strong>qtconsole-4.2. 100% |#################| Time: 0:00:00   1.37 MB/s </strong></span>\n",
      "\n",
      "112 <span class=\"strong\"><strong>jupyter-1.0.0- 100% |#################| Time: 0:00:00   2.71 MB/s </strong></span>\n",
      "\n",
      "70 <span class=\"strong\"><strong>Extracting packages ... </strong></span>\n",
      "\n",
      "116 <span class=\"strong\"><strong>[      COMPLETE ]|#############################################| 100% </strong></span>\n",
      "\n",
      "69 <span class=\"strong\"><strong>Unlinking packages ... </strong></span>\n",
      "\n",
      "116 <span class=\"strong\"><strong>[      COMPLETE ]|#############################################| 100% </strong></span>\n",
      "\n",
      "66 <span class=\"strong\"><strong>Linking packages ...</strong></span>\n",
      "\n",
      "116 <span class=\"strong\"><strong>[      COMPLETE ]|#############################################| 100% </strong></span>\n",
      "\n",
      "174 </pre><div class=\"note\" title=\"Note\" style=\"\"><div class=\"inner\"><h3 class=\"title\"><a id=\"note7\"/>Note</h3><p>You have installed Jupyter.</p></div></div></div></body></html>\n",
      "\n"
     ]
    }
   ],
   "source": [
    "# TODO 对html文件进行语法分析，分段，注意其中代码引用块的格式\n",
    "file_name=\"ch01s03.html\"\n",
    "with open(file_name) as html_file:\n",
    "    for line in html_file:\n",
    "        html_content=html_file.readlines()\n",
    "        #print(len(html_content))\n",
    "        for item in html_content:\n",
    "            print (len(item),item)\n",
    "        # print(html_content)"
   ]
  },
  {
   "cell_type": "code",
   "execution_count": 181,
   "metadata": {
    "collapsed": true
   },
   "outputs": [],
   "source": [
    "# 获取文件列表\n",
    "html_lists=file_name(html_path)[1]\n",
    "#html_lists"
   ]
  },
  {
   "cell_type": "code",
   "execution_count": null,
   "metadata": {
    "collapsed": true
   },
   "outputs": [],
   "source": [
    "#获取文件内容"
   ]
  },
  {
   "cell_type": "code",
   "execution_count": 183,
   "metadata": {
    "collapsed": true
   },
   "outputs": [],
   "source": [
    "# example : 获取文件，打印前10个字符\n",
    "html1=html_contents(\"/Users/fintech101/2018jupyter/books project/1 learning jupyter/1draft/jupyterbooks/00LearningJupyter/OEBPS/ch01.html\")\n",
    "#print(html1[0:10])\n",
    "#print(type(html1))\n",
    "\n",
    "html2json=json.dumps(html1, indent=4, sort_keys=True)\n",
    "#print(html2json)"
   ]
  },
  {
   "cell_type": "code",
   "execution_count": 185,
   "metadata": {},
   "outputs": [
    {
     "ename": "SyntaxError",
     "evalue": "unexpected EOF while parsing (<ipython-input-185-79b3295ddea5>, line 6)",
     "output_type": "error",
     "traceback": [
      "\u001b[0;36m  File \u001b[0;32m\"<ipython-input-185-79b3295ddea5>\"\u001b[0;36m, line \u001b[0;32m6\u001b[0m\n\u001b[0;31m    #print(contents[0:10])\u001b[0m\n\u001b[0m                          ^\u001b[0m\n\u001b[0;31mSyntaxError\u001b[0m\u001b[0;31m:\u001b[0m unexpected EOF while parsing\n"
     ]
    }
   ],
   "source": [
    "# example: 按照文件列表，逐一读取文件，并打印前10个字符\n",
    "\n",
    "for list in html_lists:\n",
    "    #print(\"--- read the file: \" + list + \" --- \")\n",
    "    #contents = html_contents(list)\n",
    "    #print(contents[0:10])\n"
   ]
  },
  {
   "cell_type": "code",
   "execution_count": 111,
   "metadata": {
    "collapsed": true
   },
   "outputs": [],
   "source": [
    "head='''{\n",
    " \"cells\": [\n",
    "  {\n",
    "   \"cell_type\": \"markdown\",\n",
    "   \"metadata\": {},\n",
    "   \"source\": [\n",
    "   \"'''\n",
    "\n",
    "foot=\"\"\"\n",
    "   ]\n",
    "  },\n",
    "  {\n",
    "   \"cell_type\": \"code\",\n",
    "   \"execution_count\": null,\n",
    "   \"metadata\": {\n",
    "    \"collapsed\": true\n",
    "   },\n",
    "   \"outputs\": [],\n",
    "   \"source\": []\n",
    "  }\n",
    " ],\n",
    " \"metadata\": {\n",
    "  \"kernelspec\": {\n",
    "   \"display_name\": \"Python 3\",\n",
    "   \"language\": \"python\",\n",
    "   \"name\": \"python3\"\n",
    "  },\n",
    "  \"language_info\": {\n",
    "   \"codemirror_mode\": {\n",
    "    \"name\": \"ipython\",\n",
    "    \"version\": 3\n",
    "   },\n",
    "   \"file_extension\": \".py\",\n",
    "   \"mimetype\": \"text/x-python\",\n",
    "   \"name\": \"python\",\n",
    "   \"nbconvert_exporter\": \"python\",\n",
    "   \"pygments_lexer\": \"ipython3\",\n",
    "   \"version\": \"3.6.3\"\n",
    "  }\n",
    " },\n",
    " \"nbformat\": 4,\n",
    " \"nbformat_minor\": 2\n",
    "}\n",
    "\"\"\""
   ]
  },
  {
   "cell_type": "code",
   "execution_count": 108,
   "metadata": {
    "collapsed": true
   },
   "outputs": [],
   "source": [
    "#print(head+html2json[153:]+foot)"
   ]
  },
  {
   "cell_type": "code",
   "execution_count": 188,
   "metadata": {},
   "outputs": [
    {
     "name": "stdout",
     "output_type": "stream",
     "text": [
      "--- convert the file: ch01.html as notebook --- \n",
      "--- convert the file: ch01s02.html as notebook --- \n",
      "--- convert the file: ch01s03.html as notebook --- \n",
      "--- convert the file: ch01s04.html as notebook --- \n",
      "--- convert the file: ch01s05.html as notebook --- \n",
      "--- convert the file: ch01s06.html as notebook --- \n",
      "--- convert the file: ch01s07.html as notebook --- \n",
      "--- convert the file: ch01s08.html as notebook --- \n",
      "--- convert the file: ch01s09.html as notebook --- \n",
      "--- convert the file: ch02.html as notebook --- \n",
      "--- convert the file: ch02s02.html as notebook --- \n",
      "--- convert the file: ch02s03.html as notebook --- \n",
      "--- convert the file: ch02s04.html as notebook --- \n",
      "--- convert the file: ch02s05.html as notebook --- \n",
      "--- convert the file: ch02s06.html as notebook --- \n",
      "--- convert the file: ch03.html as notebook --- \n",
      "--- convert the file: ch03s02.html as notebook --- \n",
      "--- convert the file: ch03s03.html as notebook --- \n",
      "--- convert the file: ch03s04.html as notebook --- \n",
      "--- convert the file: ch03s05.html as notebook --- \n",
      "--- convert the file: ch03s06.html as notebook --- \n",
      "--- convert the file: ch03s07.html as notebook --- \n",
      "--- convert the file: ch04.html as notebook --- \n",
      "--- convert the file: ch04s02.html as notebook --- \n",
      "--- convert the file: ch04s03.html as notebook --- \n",
      "--- convert the file: ch04s04.html as notebook --- \n",
      "--- convert the file: ch04s05.html as notebook --- \n",
      "--- convert the file: ch04s06.html as notebook --- \n",
      "--- convert the file: ch04s07.html as notebook --- \n",
      "--- convert the file: ch04s08.html as notebook --- \n",
      "--- convert the file: ch04s09.html as notebook --- \n",
      "--- convert the file: ch04s10.html as notebook --- \n",
      "--- convert the file: ch04s11.html as notebook --- \n",
      "--- convert the file: ch05.html as notebook --- \n",
      "--- convert the file: ch05s02.html as notebook --- \n",
      "--- convert the file: ch05s03.html as notebook --- \n",
      "--- convert the file: ch05s04.html as notebook --- \n",
      "--- convert the file: ch05s05.html as notebook --- \n",
      "--- convert the file: ch05s06.html as notebook --- \n",
      "--- convert the file: ch05s07.html as notebook --- \n",
      "--- convert the file: ch05s08.html as notebook --- \n",
      "--- convert the file: ch05s09.html as notebook --- \n",
      "--- convert the file: ch05s10.html as notebook --- \n",
      "--- convert the file: ch05s11.html as notebook --- \n",
      "--- convert the file: ch05s12.html as notebook --- \n",
      "--- convert the file: ch06.html as notebook --- \n",
      "--- convert the file: ch06s02.html as notebook --- \n",
      "--- convert the file: ch06s03.html as notebook --- \n",
      "--- convert the file: ch06s04.html as notebook --- \n",
      "--- convert the file: ch06s05.html as notebook --- \n",
      "--- convert the file: ch06s06.html as notebook --- \n",
      "--- convert the file: ch07.html as notebook --- \n",
      "--- convert the file: ch07s02.html as notebook --- \n",
      "--- convert the file: ch07s03.html as notebook --- \n",
      "--- convert the file: ch08.html as notebook --- \n",
      "--- convert the file: ch08s02.html as notebook --- \n",
      "--- convert the file: ch08s03.html as notebook --- \n",
      "--- convert the file: ch08s04.html as notebook --- \n",
      "--- convert the file: ch09.html as notebook --- \n",
      "--- convert the file: ch09s02.html as notebook --- \n",
      "--- convert the file: ch09s03.html as notebook --- \n",
      "--- convert the file: ch09s04.html as notebook --- \n",
      "--- convert the file: ch09s05.html as notebook --- \n",
      "--- convert the file: ch09s06.html as notebook --- \n",
      "--- convert the file: ch09s07.html as notebook --- \n",
      "--- convert the file: ch09s08.html as notebook --- \n",
      "--- convert the file: ch09s09.html as notebook --- \n",
      "--- convert the file: ch09s10.html as notebook --- \n",
      "--- convert the file: ch09s11.html as notebook --- \n",
      "--- convert the file: ch09s12.html as notebook --- \n",
      "--- convert the file: ch09s13.html as notebook --- \n",
      "--- convert the file: ch10.html as notebook --- \n",
      "--- convert the file: ch10s02.html as notebook --- \n",
      "--- convert the file: ch10s03.html as notebook --- \n",
      "--- convert the file: ch10s04.html as notebook --- \n",
      "--- convert the file: ch10s05.html as notebook --- \n",
      "--- convert the file: ch10s06.html as notebook --- \n",
      "--- convert the file: ch10s07.html as notebook --- \n",
      "--- convert the file: ch10s08.html as notebook --- \n",
      "--- convert the file: ch10s09.html as notebook --- \n",
      "--- convert the file: ch10s10.html as notebook --- \n",
      "--- convert the file: cover.html as notebook --- \n",
      "--- convert the file: index.html as notebook --- \n",
      "--- convert the file: pr01.html as notebook --- \n",
      "--- convert the file: pr02.html as notebook --- \n",
      "--- convert the file: pr03.html as notebook --- \n",
      "--- convert the file: pr04.html as notebook --- \n",
      "--- convert the file: pr05.html as notebook --- \n",
      "--- convert the file: pr06.html as notebook --- \n",
      "--- convert the file: pr06s02.html as notebook --- \n",
      "--- convert the file: pr06s03.html as notebook --- \n",
      "--- convert the file: pr06s04.html as notebook --- \n",
      "--- convert the file: pr06s05.html as notebook --- \n",
      "--- convert the file: pr06s06.html as notebook --- \n",
      "--- convert the file: toc.html as notebook --- \n",
      "--- All the html files had convert into notebook! ---\n"
     ]
    }
   ],
   "source": [
    "# example: 按照文件列表，逐一读取文件，并打印前10个字符\n",
    "\n",
    "\n",
    "for list in html_lists:\n",
    "    print(\"--- convert the file: \" + list + \" as notebook --- \")\n",
    "    contents = html_contents(list)\n",
    "    # convert html to json format\n",
    "    html2json=json.dumps(contents, indent=4, sort_keys=True)\n",
    "    notebook_contents=head+html2json[153:]+foot # 去掉了html文件前面的xml说明\n",
    "    #print(notebook_contents[0:10])\n",
    "    # 将生成的notebook内容写成文件，存储到notebook文件夹下面\n",
    "    #os.chdir(notebook_path)\n",
    "    notebook_name = list[:-4]+\"ipynb\"\n",
    "    #print(notebook_name)\n",
    "    file_object = open(notebook_path+notebook_name, 'w')\n",
    "    file_object.write(notebook_contents)\n",
    "    file_object.close( )\n",
    "\n",
    "print(\"--- All the html files had convert into notebook! ---\")\n",
    "    \n",
    "\n"
   ]
  },
  {
   "cell_type": "code",
   "execution_count": null,
   "metadata": {
    "collapsed": true
   },
   "outputs": [],
   "source": []
  }
 ],
 "metadata": {
  "kernelspec": {
   "display_name": "Python 3",
   "language": "python",
   "name": "python3"
  },
  "language_info": {
   "codemirror_mode": {
    "name": "ipython",
    "version": 3
   },
   "file_extension": ".py",
   "mimetype": "text/x-python",
   "name": "python",
   "nbconvert_exporter": "python",
   "pygments_lexer": "ipython3",
   "version": "3.6.3"
  }
 },
 "nbformat": 4,
 "nbformat_minor": 2
}
