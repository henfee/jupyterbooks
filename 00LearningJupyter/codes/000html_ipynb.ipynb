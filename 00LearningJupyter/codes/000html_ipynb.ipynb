{
 "cells": [
  {
   "cell_type": "code",
   "execution_count": 116,
   "metadata": {
    "collapsed": true
   },
   "outputs": [],
   "source": [
    "import os\n",
    "import sys\n",
    "import json\n",
    "import re"
   ]
  },
  {
   "cell_type": "code",
   "execution_count": 2,
   "metadata": {},
   "outputs": [
    {
     "data": {
      "text/plain": [
       "'/Users/xubin/Documents/2018jupyterproject/learning jupyter/9781785884870-1.zip/9781785884870learning jupyter/OEBPS'"
      ]
     },
     "execution_count": 2,
     "metadata": {},
     "output_type": "execute_result"
    }
   ],
   "source": [
    "# 获取当前路径\n",
    "os.getcwd()"
   ]
  },
  {
   "cell_type": "code",
   "execution_count": 3,
   "metadata": {},
   "outputs": [
    {
     "data": {
      "text/plain": [
       "['.ch03s03.html.swp',\n",
       " '.DS_Store',\n",
       " '.ipynb_checkpoints',\n",
       " 'ch01.html',\n",
       " 'ch01.html.ipynb',\n",
       " 'ch01s02.html',\n",
       " 'ch01s02.html.ipynb',\n",
       " 'ch01s03.html',\n",
       " 'ch01s03.html.ipynb',\n",
       " 'ch01s04.html',\n",
       " 'ch01s04.html.ipynb',\n",
       " 'ch01s05.html',\n",
       " 'ch01s05.html.ipynb',\n",
       " 'ch01s06.html',\n",
       " 'ch01s06.html.ipynb',\n",
       " 'ch01s07.html',\n",
       " 'ch01s07.html.ipynb',\n",
       " 'ch01s08.html',\n",
       " 'ch01s08.html.ipynb',\n",
       " 'ch01s09.html',\n",
       " 'ch01s09.html.ipynb',\n",
       " 'ch02.html',\n",
       " 'ch02.html.ipynb',\n",
       " 'ch02s02.html',\n",
       " 'ch02s02.html.ipynb',\n",
       " 'ch02s03.html',\n",
       " 'ch02s03.html.ipynb',\n",
       " 'ch02s04.html',\n",
       " 'ch02s04.html.ipynb',\n",
       " 'ch02s05.html',\n",
       " 'ch02s05.html.ipynb',\n",
       " 'ch02s06.html',\n",
       " 'ch02s06.html.ipynb',\n",
       " 'ch03.html',\n",
       " 'ch03.html.ipynb',\n",
       " 'ch03s02.html',\n",
       " 'ch03s02.html.ipynb',\n",
       " 'ch03s03.html',\n",
       " 'ch03s03.html.ipynb',\n",
       " 'ch03s04.html',\n",
       " 'ch03s04.html.ipynb',\n",
       " 'ch03s05.html',\n",
       " 'ch03s05.html.ipynb',\n",
       " 'ch03s06.html',\n",
       " 'ch03s06.html.ipynb',\n",
       " 'ch03s07.html',\n",
       " 'ch03s07.html.ipynb',\n",
       " 'ch04.html',\n",
       " 'ch04s02.html',\n",
       " 'ch04s03.html',\n",
       " 'ch04s04.html',\n",
       " 'ch04s05.html',\n",
       " 'ch04s06.html',\n",
       " 'ch04s07.html',\n",
       " 'ch04s08.html',\n",
       " 'ch04s09.html',\n",
       " 'ch04s10.html',\n",
       " 'ch04s11.html',\n",
       " 'ch05.html',\n",
       " 'ch05s02.html',\n",
       " 'ch05s03.html',\n",
       " 'ch05s04.html',\n",
       " 'ch05s05.html',\n",
       " 'ch05s06.html',\n",
       " 'ch05s07.html',\n",
       " 'ch05s08.html',\n",
       " 'ch05s09.html',\n",
       " 'ch05s10.html',\n",
       " 'ch05s11.html',\n",
       " 'ch05s12.html',\n",
       " 'ch06.html',\n",
       " 'ch06s02.html',\n",
       " 'ch06s03.html',\n",
       " 'ch06s04.html',\n",
       " 'ch06s05.html',\n",
       " 'ch06s06.html',\n",
       " 'ch07.html',\n",
       " 'ch07s02.html',\n",
       " 'ch07s03.html',\n",
       " 'ch08.html',\n",
       " 'ch08s02.html',\n",
       " 'ch08s03.html',\n",
       " 'ch08s04.html',\n",
       " 'ch09.html',\n",
       " 'ch09s02.html',\n",
       " 'ch09s03.html',\n",
       " 'ch09s04.html',\n",
       " 'ch09s05.html',\n",
       " 'ch09s06.html',\n",
       " 'ch09s07.html',\n",
       " 'ch09s08.html',\n",
       " 'ch09s09.html',\n",
       " 'ch09s10.html',\n",
       " 'ch09s11.html',\n",
       " 'ch09s12.html',\n",
       " 'ch09s13.html',\n",
       " 'ch10.html',\n",
       " 'ch10s02.html',\n",
       " 'ch10s03.html',\n",
       " 'ch10s04.html',\n",
       " 'ch10s05.html',\n",
       " 'ch10s06.html',\n",
       " 'ch10s07.html',\n",
       " 'ch10s08.html',\n",
       " 'ch10s09.html',\n",
       " 'ch10s10.html',\n",
       " 'content.opf',\n",
       " 'cover',\n",
       " 'cover.html',\n",
       " 'epub.css',\n",
       " 'foot1.ipynb',\n",
       " 'graphics',\n",
       " 'header1.ipynb',\n",
       " 'index.html',\n",
       " 'pr01.html',\n",
       " 'pr02.html',\n",
       " 'pr03.html',\n",
       " 'pr04.html',\n",
       " 'pr05.html',\n",
       " 'pr06.html',\n",
       " 'pr06s02.html',\n",
       " 'pr06s03.html',\n",
       " 'pr06s04.html',\n",
       " 'pr06s05.html',\n",
       " 'pr06s06.html',\n",
       " 'temp1.ipynb',\n",
       " 'toc.html',\n",
       " 'toc.ncx',\n",
       " 'Untitled.ipynb']"
      ]
     },
     "execution_count": 3,
     "metadata": {},
     "output_type": "execute_result"
    }
   ],
   "source": [
    "# 获取当前路径下的文件名\n",
    "os.listdir(os.getcwd())"
   ]
  },
  {
   "cell_type": "code",
   "execution_count": 117,
   "metadata": {},
   "outputs": [],
   "source": [
    "# 获取当前路径下文件名\n",
    "#!ls -l"
   ]
  },
  {
   "cell_type": "code",
   "execution_count": 145,
   "metadata": {},
   "outputs": [
    {
     "name": "stdout",
     "output_type": "stream",
     "text": [
      "-rw-r--r--@ 1 xubin  admin  11649 11 29  2016 ch01.html\r\n",
      "-rw-r--r--@ 1 xubin  admin   6472 11 29  2016 ch01s02.html\r\n",
      "-rw-r--r--@ 1 xubin  admin   6711 11 29  2016 ch01s03.html\r\n",
      "-rw-r--r--@ 1 xubin  admin   1543 11 29  2016 ch01s04.html\r\n",
      "-rw-r--r--@ 1 xubin  admin   1333 11 29  2016 ch01s05.html\r\n",
      "-rw-r--r--@ 1 xubin  admin  26261 11 29  2016 ch01s06.html\r\n",
      "-rw-r--r--@ 1 xubin  admin   3104 11 29  2016 ch01s07.html\r\n",
      "-rw-r--r--@ 1 xubin  admin   2693 11 29  2016 ch01s08.html\r\n",
      "-rw-r--r--@ 1 xubin  admin   1049 11 29  2016 ch01s09.html\r\n",
      "-rw-r--r--@ 1 xubin  admin   9923 11 29  2016 ch02.html\r\n",
      "-rw-r--r--@ 1 xubin  admin   4322 11 29  2016 ch02s02.html\r\n",
      "-rw-r--r--@ 1 xubin  admin   4008 11 29  2016 ch02s03.html\r\n",
      "-rw-r--r--@ 1 xubin  admin   7234 11 29  2016 ch02s04.html\r\n",
      "-rw-r--r--@ 1 xubin  admin   2482 11 29  2016 ch02s05.html\r\n",
      "-rw-r--r--@ 1 xubin  admin    841 11 29  2016 ch02s06.html\r\n",
      "-rw-r--r--@ 1 xubin  admin  16196 11 29  2016 ch03.html\r\n",
      "-rw-r--r--@ 1 xubin  admin   5087 11 29  2016 ch03s02.html\r\n",
      "-rw-r--r--@ 1 xubin  admin   1924 11 29  2016 ch03s03.html\r\n",
      "-rw-r--r--@ 1 xubin  admin   4401 11 29  2016 ch03s04.html\r\n",
      "-rw-r--r--@ 1 xubin  admin   3849 11 29  2016 ch03s05.html\r\n",
      "-rw-r--r--@ 1 xubin  admin   2611 11 29  2016 ch03s06.html\r\n",
      "-rw-r--r--@ 1 xubin  admin   1182 11 29  2016 ch03s07.html\r\n",
      "-rw-r--r--@ 1 xubin  admin   7773 11 29  2016 ch04.html\r\n",
      "-rw-r--r--@ 1 xubin  admin   4773 11 29  2016 ch04s02.html\r\n",
      "-rw-r--r--@ 1 xubin  admin   2508 11 29  2016 ch04s03.html\r\n",
      "-rw-r--r--@ 1 xubin  admin   1731 11 29  2016 ch04s04.html\r\n",
      "-rw-r--r--@ 1 xubin  admin   4504 11 29  2016 ch04s05.html\r\n",
      "-rw-r--r--@ 1 xubin  admin   3482 11 29  2016 ch04s06.html\r\n",
      "-rw-r--r--@ 1 xubin  admin   2042 11 29  2016 ch04s07.html\r\n",
      "-rw-r--r--@ 1 xubin  admin   2068 11 29  2016 ch04s08.html\r\n",
      "-rw-r--r--@ 1 xubin  admin   1398 11 29  2016 ch04s09.html\r\n",
      "-rw-r--r--@ 1 xubin  admin   4247 11 29  2016 ch04s10.html\r\n",
      "-rw-r--r--@ 1 xubin  admin   1255 11 29  2016 ch04s11.html\r\n",
      "-rw-r--r--@ 1 xubin  admin   5660 11 29  2016 ch05.html\r\n",
      "-rw-r--r--@ 1 xubin  admin   4279 11 29  2016 ch05s02.html\r\n",
      "-rw-r--r--@ 1 xubin  admin    917 11 29  2016 ch05s03.html\r\n",
      "-rw-r--r--@ 1 xubin  admin   1125 11 29  2016 ch05s04.html\r\n",
      "-rw-r--r--@ 1 xubin  admin   3562 11 29  2016 ch05s05.html\r\n",
      "-rw-r--r--@ 1 xubin  admin   3746 11 29  2016 ch05s06.html\r\n",
      "-rw-r--r--@ 1 xubin  admin   3971 11 29  2016 ch05s07.html\r\n",
      "-rw-r--r--@ 1 xubin  admin   3491 11 29  2016 ch05s08.html\r\n",
      "-rw-r--r--@ 1 xubin  admin   3955 11 29  2016 ch05s09.html\r\n",
      "-rw-r--r--@ 1 xubin  admin   3672 11 29  2016 ch05s10.html\r\n",
      "-rw-r--r--@ 1 xubin  admin   7166 11 29  2016 ch05s11.html\r\n",
      "-rw-r--r--@ 1 xubin  admin   1312 11 29  2016 ch05s12.html\r\n",
      "-rw-r--r--@ 1 xubin  admin   5201 11 29  2016 ch06.html\r\n",
      "-rw-r--r--@ 1 xubin  admin   1433 11 29  2016 ch06s02.html\r\n",
      "-rw-r--r--@ 1 xubin  admin   6377 11 29  2016 ch06s03.html\r\n",
      "-rw-r--r--@ 1 xubin  admin   2211 11 29  2016 ch06s04.html\r\n",
      "-rw-r--r--@ 1 xubin  admin  18927 11 29  2016 ch06s05.html\r\n",
      "-rw-r--r--@ 1 xubin  admin   1264 11 29  2016 ch06s06.html\r\n",
      "-rw-r--r--@ 1 xubin  admin  15736 11 29  2016 ch07.html\r\n",
      "-rw-r--r--@ 1 xubin  admin  11864 11 29  2016 ch07s02.html\r\n",
      "-rw-r--r--@ 1 xubin  admin    891 11 29  2016 ch07s03.html\r\n",
      "-rw-r--r--@ 1 xubin  admin   4326 11 29  2016 ch08.html\r\n",
      "-rw-r--r--@ 1 xubin  admin  22605 11 29  2016 ch08s02.html\r\n",
      "-rw-r--r--@ 1 xubin  admin  12224 11 29  2016 ch08s03.html\r\n",
      "-rw-r--r--@ 1 xubin  admin    892 11 29  2016 ch08s04.html\r\n",
      "-rw-r--r--@ 1 xubin  admin   5842 11 29  2016 ch09.html\r\n",
      "-rw-r--r--@ 1 xubin  admin   3745 11 29  2016 ch09s02.html\r\n",
      "-rw-r--r--@ 1 xubin  admin   3783 11 29  2016 ch09s03.html\r\n",
      "-rw-r--r--@ 1 xubin  admin   2908 11 29  2016 ch09s04.html\r\n",
      "-rw-r--r--@ 1 xubin  admin   1388 11 29  2016 ch09s05.html\r\n",
      "-rw-r--r--@ 1 xubin  admin   2002 11 29  2016 ch09s06.html\r\n",
      "-rw-r--r--@ 1 xubin  admin   2163 11 29  2016 ch09s07.html\r\n",
      "-rw-r--r--@ 1 xubin  admin   2705 11 29  2016 ch09s08.html\r\n",
      "-rw-r--r--@ 1 xubin  admin   2030 11 29  2016 ch09s09.html\r\n",
      "-rw-r--r--@ 1 xubin  admin   2045 11 29  2016 ch09s10.html\r\n",
      "-rw-r--r--@ 1 xubin  admin   1328 11 29  2016 ch09s11.html\r\n",
      "-rw-r--r--@ 1 xubin  admin   2782 11 29  2016 ch09s12.html\r\n",
      "-rw-r--r--@ 1 xubin  admin    975 11 29  2016 ch09s13.html\r\n",
      "-rw-r--r--@ 1 xubin  admin   6940 11 29  2016 ch10.html\r\n",
      "-rw-r--r--@ 1 xubin  admin   2590 11 29  2016 ch10s02.html\r\n",
      "-rw-r--r--@ 1 xubin  admin   3469 11 29  2016 ch10s03.html\r\n",
      "-rw-r--r--@ 1 xubin  admin   1893 11 29  2016 ch10s04.html\r\n",
      "-rw-r--r--@ 1 xubin  admin   2825 11 29  2016 ch10s05.html\r\n",
      "-rw-r--r--@ 1 xubin  admin   3851 11 29  2016 ch10s06.html\r\n",
      "-rw-r--r--@ 1 xubin  admin   3019 11 29  2016 ch10s07.html\r\n",
      "-rw-r--r--@ 1 xubin  admin   2939 11 29  2016 ch10s08.html\r\n",
      "-rw-r--r--@ 1 xubin  admin   6934 11 29  2016 ch10s09.html\r\n",
      "-rw-r--r--@ 1 xubin  admin   1023 11 29  2016 ch10s10.html\r\n",
      "-rw-r--r--@ 1 xubin  admin    406 11 29  2016 cover.html\r\n",
      "-rw-r--r--@ 1 xubin  admin    560 11 29  2016 index.html\r\n",
      "-rw-r--r--@ 1 xubin  admin   1813 11 29  2016 pr01.html\r\n",
      "-rw-r--r--@ 1 xubin  admin   1906 11 29  2016 pr02.html\r\n",
      "-rw-r--r--@ 1 xubin  admin   1083 11 29  2016 pr03.html\r\n",
      "-rw-r--r--@ 1 xubin  admin    964 11 29  2016 pr04.html\r\n",
      "-rw-r--r--@ 1 xubin  admin   2265 11 29  2016 pr05.html\r\n",
      "-rw-r--r--@ 1 xubin  admin   6603 11 29  2016 pr06.html\r\n",
      "-rw-r--r--@ 1 xubin  admin    811 11 29  2016 pr06s02.html\r\n",
      "-rw-r--r--@ 1 xubin  admin    830 11 29  2016 pr06s03.html\r\n",
      "-rw-r--r--@ 1 xubin  admin   2627 11 29  2016 pr06s04.html\r\n",
      "-rw-r--r--@ 1 xubin  admin   1133 11 29  2016 pr06s05.html\r\n",
      "-rw-r--r--@ 1 xubin  admin   5883 11 29  2016 pr06s06.html\r\n",
      "-rw-r--r--@ 1 xubin  admin  22162 11 29  2016 toc.html\r\n"
     ]
    }
   ],
   "source": [
    "# 获取当前路径下文件类型为html的文件\n",
    "!ls -l *.html"
   ]
  },
  {
   "cell_type": "code",
   "execution_count": 151,
   "metadata": {},
   "outputs": [],
   "source": [
    "# 获取当前路径下文件类型为html，ch04开头的文件\n",
    "!ls ch10*.html>>chapter.txt"
   ]
  },
  {
   "cell_type": "code",
   "execution_count": 152,
   "metadata": {},
   "outputs": [
    {
     "name": "stdout",
     "output_type": "stream",
     "text": [
      "ch05.html\r\n",
      "ch05s02.html\r\n",
      "ch05s03.html\r\n",
      "ch05s04.html\r\n",
      "ch05s05.html\r\n",
      "ch05s06.html\r\n",
      "ch05s07.html\r\n",
      "ch05s08.html\r\n",
      "ch05s09.html\r\n",
      "ch05s10.html\r\n",
      "ch05s11.html\r\n",
      "ch05s12.html\r\n",
      "ch06.html\r\n",
      "ch06s02.html\r\n",
      "ch06s03.html\r\n",
      "ch06s04.html\r\n",
      "ch06s05.html\r\n",
      "ch06s06.html\r\n",
      "ch07.html\r\n",
      "ch07s02.html\r\n",
      "ch07s03.html\r\n",
      "ch08.html\r\n",
      "ch08s02.html\r\n",
      "ch08s03.html\r\n",
      "ch08s04.html\r\n",
      "ch09.html\r\n",
      "ch09s02.html\r\n",
      "ch09s03.html\r\n",
      "ch09s04.html\r\n",
      "ch09s05.html\r\n",
      "ch09s06.html\r\n",
      "ch09s07.html\r\n",
      "ch09s08.html\r\n",
      "ch09s09.html\r\n",
      "ch09s10.html\r\n",
      "ch09s11.html\r\n",
      "ch09s12.html\r\n",
      "ch09s13.html\r\n",
      "ch10.html\r\n",
      "ch10s02.html\r\n",
      "ch10s03.html\r\n",
      "ch10s04.html\r\n",
      "ch10s05.html\r\n",
      "ch10s06.html\r\n",
      "ch10s07.html\r\n",
      "ch10s08.html\r\n",
      "ch10s09.html\r\n",
      "ch10s10.html\r\n"
     ]
    }
   ],
   "source": [
    "!cat chapter.txt"
   ]
  },
  {
   "cell_type": "code",
   "execution_count": 64,
   "metadata": {},
   "outputs": [],
   "source": [
    "# 用open()函数打开文件\n",
    "head1 = open(\"header1.ipynb\")\n",
    "foot1 = open(\"foot1.ipynb\")"
   ]
  },
  {
   "cell_type": "code",
   "execution_count": 65,
   "metadata": {},
   "outputs": [
    {
     "name": "stdout",
     "output_type": "stream",
     "text": [
      "{\r\n",
      " \"cells\": [\r\n",
      "  {\r\n",
      "   \"cell_type\": \"markdown\",\r\n",
      "   \"metadata\": {},\r\n",
      "   \"source\": [\r\n"
     ]
    }
   ],
   "source": [
    "!cat header1.ipynb"
   ]
  },
  {
   "cell_type": "code",
   "execution_count": 66,
   "metadata": {},
   "outputs": [
    {
     "data": {
      "text/plain": [
       "'{\\n \"cells\": [\\n  {\\n   \"cell_type\": \"markdown\",\\n   \"metadata\": {},\\n   \"source\": [\\n'"
      ]
     },
     "execution_count": 66,
     "metadata": {},
     "output_type": "execute_result"
    }
   ],
   "source": [
    "# 读取文件\n",
    "head1Content = head1.read()\n",
    "foot1Content = foot1.read()\n",
    "head1Content"
   ]
  },
  {
   "cell_type": "code",
   "execution_count": 76,
   "metadata": {},
   "outputs": [],
   "source": [
    "# 按行读取文件\n",
    "temp2=open(\"temp2.txt\",'a')\n",
    "for line in head1.readlines():\n",
    "    print(line)\n",
    "    #temp2.write(line)\n",
    "#temp2.close()"
   ]
  },
  {
   "cell_type": "code",
   "execution_count": 75,
   "metadata": {
    "collapsed": true
   },
   "outputs": [],
   "source": [
    "!cat temp2.txt"
   ]
  },
  {
   "cell_type": "code",
   "execution_count": 69,
   "metadata": {
    "collapsed": true
   },
   "outputs": [],
   "source": [
    "# 合并文件\n",
    "temp1= open(\"temp1.txt\",'w')"
   ]
  },
  {
   "cell_type": "code",
   "execution_count": 70,
   "metadata": {},
   "outputs": [],
   "source": [
    "head1Content\n",
    "#temp1.write(\"{\\n \"cells\": [\\n  {\\n   \"cell_type\": \"markdown\",\\n   \"metadata\": {},\\n   \"source\": [\\n    \"<?xml version=\\\\\"1.0\\\\\" encoding=\\\\\"utf-8\\\\\" ?>\\\\n\",\\n    \"\\\\n\",\\n    \"<!DOCTYPE html PUBLIC \\\\\"-//W3C//DTD XHTML 1.1//EN\\\\\" \\\\\"http://www.w3.org/TR/xhtml11/DTD/xhtml11.dtd\\\\\">\\\\n\",\\n    \"\\\\n\",\\n    \"\\n\")\n",
    "temp1.write(head1Content)\n",
    "temp1.close()"
   ]
  },
  {
   "cell_type": "code",
   "execution_count": 153,
   "metadata": {},
   "outputs": [
    {
     "name": "stdout",
     "output_type": "stream",
     "text": [
      "ch05.html\n",
      "ch05s02.html\n",
      "ch05s03.html\n",
      "ch05s04.html\n",
      "ch05s05.html\n",
      "ch05s06.html\n",
      "ch05s07.html\n",
      "ch05s08.html\n",
      "ch05s09.html\n",
      "ch05s10.html\n",
      "ch05s11.html\n",
      "ch05s12.html\n",
      "ch06.html\n",
      "ch06s02.html\n",
      "ch06s03.html\n",
      "ch06s04.html\n",
      "ch06s05.html\n",
      "ch06s06.html\n",
      "ch07.html\n",
      "ch07s02.html\n",
      "ch07s03.html\n",
      "ch08.html\n",
      "ch08s02.html\n",
      "ch08s03.html\n",
      "ch08s04.html\n",
      "ch09.html\n",
      "ch09s02.html\n",
      "ch09s03.html\n",
      "ch09s04.html\n",
      "ch09s05.html\n",
      "ch09s06.html\n",
      "ch09s07.html\n",
      "ch09s08.html\n",
      "ch09s09.html\n",
      "ch09s10.html\n",
      "ch09s11.html\n",
      "ch09s12.html\n",
      "ch09s13.html\n",
      "ch10.html\n",
      "ch10s02.html\n",
      "ch10s03.html\n",
      "ch10s04.html\n",
      "ch10s05.html\n",
      "ch10s06.html\n",
      "ch10s07.html\n",
      "ch10s08.html\n",
      "ch10s09.html\n",
      "ch10s10.html\n"
     ]
    }
   ],
   "source": [
    "# add html name files\n",
    "filenames=open('chapter.txt')\n",
    "list1=filenames.readlines()\n",
    "for item in list1:\n",
    "    item =item.split('\\n')\n",
    "    print(item[0])\n"
   ]
  },
  {
   "cell_type": "code",
   "execution_count": 154,
   "metadata": {},
   "outputs": [
    {
     "data": {
      "text/plain": [
       "'ch05.html\\n'"
      ]
     },
     "execution_count": 154,
     "metadata": {},
     "output_type": "execute_result"
    }
   ],
   "source": [
    "# read file from list\n",
    "list1[0]"
   ]
  },
  {
   "cell_type": "code",
   "execution_count": 101,
   "metadata": {},
   "outputs": [
    {
     "name": "stdout",
     "output_type": "stream",
     "text": [
      "this is \n",
      "apple\n"
     ]
    }
   ],
   "source": [
    "# TODO if-else files"
   ]
  },
  {
   "cell_type": "code",
   "execution_count": 155,
   "metadata": {},
   "outputs": [
    {
     "name": "stdout",
     "output_type": "stream",
     "text": [
      "ch05.html.ipynb\n",
      "close filech05.html.ipynb!\n",
      "\n",
      "ch05s02.html.ipynb\n",
      "close filech05s02.html.ipynb!\n",
      "\n",
      "ch05s03.html.ipynb\n",
      "close filech05s03.html.ipynb!\n",
      "\n",
      "ch05s04.html.ipynb\n",
      "close filech05s04.html.ipynb!\n",
      "\n",
      "ch05s05.html.ipynb\n",
      "close filech05s05.html.ipynb!\n",
      "\n",
      "ch05s06.html.ipynb\n",
      "close filech05s06.html.ipynb!\n",
      "\n",
      "ch05s07.html.ipynb\n",
      "close filech05s07.html.ipynb!\n",
      "\n",
      "ch05s08.html.ipynb\n",
      "close filech05s08.html.ipynb!\n",
      "\n",
      "ch05s09.html.ipynb\n",
      "close filech05s09.html.ipynb!\n",
      "\n",
      "ch05s10.html.ipynb\n",
      "close filech05s10.html.ipynb!\n",
      "\n",
      "ch05s11.html.ipynb\n",
      "close filech05s11.html.ipynb!\n",
      "\n",
      "ch05s12.html.ipynb\n",
      "close filech05s12.html.ipynb!\n",
      "\n",
      "ch06.html.ipynb\n",
      "close filech06.html.ipynb!\n",
      "\n",
      "ch06s02.html.ipynb\n",
      "close filech06s02.html.ipynb!\n",
      "\n",
      "ch06s03.html.ipynb\n",
      "close filech06s03.html.ipynb!\n",
      "\n",
      "ch06s04.html.ipynb\n",
      "close filech06s04.html.ipynb!\n",
      "\n",
      "ch06s05.html.ipynb\n",
      "close filech06s05.html.ipynb!\n",
      "\n",
      "ch06s06.html.ipynb\n",
      "close filech06s06.html.ipynb!\n",
      "\n",
      "ch07.html.ipynb\n",
      "close filech07.html.ipynb!\n",
      "\n",
      "ch07s02.html.ipynb\n",
      "close filech07s02.html.ipynb!\n",
      "\n",
      "ch07s03.html.ipynb\n",
      "close filech07s03.html.ipynb!\n",
      "\n",
      "ch08.html.ipynb\n",
      "close filech08.html.ipynb!\n",
      "\n",
      "ch08s02.html.ipynb\n",
      "close filech08s02.html.ipynb!\n",
      "\n",
      "ch08s03.html.ipynb\n",
      "close filech08s03.html.ipynb!\n",
      "\n",
      "ch08s04.html.ipynb\n",
      "close filech08s04.html.ipynb!\n",
      "\n",
      "ch09.html.ipynb\n",
      "close filech09.html.ipynb!\n",
      "\n",
      "ch09s02.html.ipynb\n",
      "close filech09s02.html.ipynb!\n",
      "\n",
      "ch09s03.html.ipynb\n",
      "close filech09s03.html.ipynb!\n",
      "\n",
      "ch09s04.html.ipynb\n",
      "close filech09s04.html.ipynb!\n",
      "\n",
      "ch09s05.html.ipynb\n",
      "close filech09s05.html.ipynb!\n",
      "\n",
      "ch09s06.html.ipynb\n",
      "close filech09s06.html.ipynb!\n",
      "\n",
      "ch09s07.html.ipynb\n",
      "close filech09s07.html.ipynb!\n",
      "\n",
      "ch09s08.html.ipynb\n",
      "close filech09s08.html.ipynb!\n",
      "\n",
      "ch09s09.html.ipynb\n",
      "close filech09s09.html.ipynb!\n",
      "\n",
      "ch09s10.html.ipynb\n",
      "close filech09s10.html.ipynb!\n",
      "\n",
      "ch09s11.html.ipynb\n",
      "close filech09s11.html.ipynb!\n",
      "\n",
      "ch09s12.html.ipynb\n",
      "close filech09s12.html.ipynb!\n",
      "\n",
      "ch09s13.html.ipynb\n",
      "close filech09s13.html.ipynb!\n",
      "\n",
      "ch10.html.ipynb\n",
      "close filech10.html.ipynb!\n",
      "\n",
      "ch10s02.html.ipynb\n",
      "close filech10s02.html.ipynb!\n",
      "\n",
      "ch10s03.html.ipynb\n",
      "close filech10s03.html.ipynb!\n",
      "\n",
      "ch10s04.html.ipynb\n",
      "close filech10s04.html.ipynb!\n",
      "\n",
      "ch10s05.html.ipynb\n",
      "close filech10s05.html.ipynb!\n",
      "\n",
      "ch10s06.html.ipynb\n",
      "close filech10s06.html.ipynb!\n",
      "\n",
      "ch10s07.html.ipynb\n",
      "close filech10s07.html.ipynb!\n",
      "\n",
      "ch10s08.html.ipynb\n",
      "close filech10s08.html.ipynb!\n",
      "\n",
      "ch10s09.html.ipynb\n",
      "close filech10s09.html.ipynb!\n",
      "\n",
      "ch10s10.html.ipynb\n",
      "close filech10s10.html.ipynb!\n",
      "\n"
     ]
    }
   ],
   "source": [
    "# 用open()函数打开文件\n",
    "head1 = open(\"header1.ipynb\")\n",
    "foot1 = open(\"foot1.ipynb\")\n",
    "\n",
    "# 读取文件\n",
    "head1Content = head1.read()\n",
    "foot1Content = foot1.read()\n",
    "\n",
    "# read the html file\n",
    "for item in list1:\n",
    "    item =item.split('\\n')\n",
    "    #print(item[0])\n",
    "    filename=item[0]\n",
    "    new_filename=filename+'.ipynb'\n",
    "    print(new_filename)\n",
    "    html_file=open(filename)\n",
    "    htmlContents=html_file.read()\n",
    "    htmlContent=json.dumps(htmlContents)\n",
    "    #print(htmlContent[0:44])\n",
    "    #print(\"***\")\n",
    "    #print(htmlContent[48:149])\n",
    "    htmlContents=htmlContent[153:]+',\\n'\n",
    "    #print(htmlContents)\n",
    "    #print(htmlContent[153:])\n",
    "    ## change \\n\\n --->( \\n\",\"\\n\",\")\n",
    "    #\\n\",\n",
    "    #\"\\n\",\n",
    "    #\"\n",
    "    \n",
    "    #hc=re.compile(r'^\\n\\n')\n",
    "    #hc_new=re.\n",
    "    #print(hc.search('\\n\\n'))\n",
    "    \n",
    "    #j=json.loads(htmlContent)\n",
    "    #print(htmlContent)\n",
    "    ## TODO change html as json format \n",
    "    ## readline and add \"\" in the head and end of the line\n",
    "    ## add \\ before the \"\"\n",
    "    #htmlContents=html_file.readlines()\n",
    "    #for htmlContent in htmlContents:\n",
    "    #    print(htmlContent)\n",
    "        \n",
    "    \n",
    "    \n",
    "    temp= open(new_filename,'w')\n",
    "    temp.write(head1Content)\n",
    "    temp.close\n",
    "    temp= open(new_filename,'a')\n",
    "    temp.write(\"    \\\"\"+htmlContents)\n",
    "    temp.write(foot1Content)\n",
    "    print(\"close file\"+new_filename+\"!\"+'\\n')\n",
    "    temp.close\n",
    "    \n",
    "\n",
    "    "
   ]
  },
  {
   "cell_type": "code",
   "execution_count": null,
   "metadata": {
    "collapsed": true
   },
   "outputs": [],
   "source": []
  },
  {
   "cell_type": "code",
   "execution_count": 71,
   "metadata": {},
   "outputs": [
    {
     "data": {
      "text/plain": [
       "595"
      ]
     },
     "execution_count": 71,
     "metadata": {},
     "output_type": "execute_result"
    }
   ],
   "source": [
    "temp1= open(\"temp1.txt\",'a')\n",
    "foot1Content\n",
    "temp1.write(foot1Content)"
   ]
  },
  {
   "cell_type": "code",
   "execution_count": null,
   "metadata": {
    "collapsed": true
   },
   "outputs": [],
   "source": []
  },
  {
   "cell_type": "code",
   "execution_count": 46,
   "metadata": {},
   "outputs": [
    {
     "name": "stdout",
     "output_type": "stream",
     "text": [
      "/Users/xubin/Documents/2018jupyterproject/learning jupyter/9781785884870-1.zip/9781785884870learning jupyter/OEBPS\r\n"
     ]
    }
   ],
   "source": [
    "!pwd"
   ]
  },
  {
   "cell_type": "code",
   "execution_count": 62,
   "metadata": {},
   "outputs": [
    {
     "name": "stdout",
     "output_type": "stream",
     "text": [
      "{\r\n",
      " \"cells\": [\r\n",
      "  {\r\n",
      "   \"cell_type\": \"markdown\",\r\n",
      "   \"metadata\": {},\r\n",
      "   \"source\": [\r\n",
      "{\r\n",
      " \"cells\": [\r\n",
      "  {\r\n",
      "   \"cell_type\": \"markdown\",\r\n",
      "   \"metadata\": {},\r\n",
      "   \"source\": [\r\n"
     ]
    }
   ],
   "source": [
    "!cat temp1.txt"
   ]
  },
  {
   "cell_type": "code",
   "execution_count": 72,
   "metadata": {
    "collapsed": true
   },
   "outputs": [],
   "source": [
    "temp1.close()"
   ]
  },
  {
   "cell_type": "code",
   "execution_count": null,
   "metadata": {
    "collapsed": true
   },
   "outputs": [],
   "source": []
  }
 ],
 "metadata": {
  "kernelspec": {
   "display_name": "Python [default]",
   "language": "python",
   "name": "python3"
  },
  "language_info": {
   "codemirror_mode": {
    "name": "ipython",
    "version": 3
   },
   "file_extension": ".py",
   "mimetype": "text/x-python",
   "name": "python",
   "nbconvert_exporter": "python",
   "pygments_lexer": "ipython3",
   "version": "3.6.2"
  }
 },
 "nbformat": 4,
 "nbformat_minor": 2
}
