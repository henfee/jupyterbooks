{
 "cells": [
  {
   "cell_type": "code",
   "execution_count": 159,
   "metadata": {
    "collapsed": true
   },
   "outputs": [],
   "source": [
    "import os\n",
    "# import sys\n",
    "import json\n",
    "# import re\n",
    "# import html2text "
   ]
  },
  {
   "cell_type": "code",
   "execution_count": 160,
   "metadata": {
    "collapsed": true
   },
   "outputs": [],
   "source": [
    "# file folder path\n",
    "work_path=\"/Users/fintech101/2018jupyter/books project/1 learning jupyter/1draft/jupyterbooks/00LearningJupyter/\"\n",
    "\n",
    "codes_path=work_path+\"codes/\"\n",
    "html_path=work_path+\"OEBPS/\"\n",
    "notebook_path=work_path+\"OEBPS/notebook/\"\n",
    "markdown_path=work_path+\"OEBPS/markdown/\""
   ]
  },
  {
   "cell_type": "code",
   "execution_count": 162,
   "metadata": {},
   "outputs": [
    {
     "data": {
      "text/plain": [
       "'/Users/fintech101/2018jupyter/books project/1 learning jupyter/1draft/jupyterbooks/00LearningJupyter/OEBPS/notebook'"
      ]
     },
     "execution_count": 162,
     "metadata": {},
     "output_type": "execute_result"
    }
   ],
   "source": [
    "# 获取当前路径\n",
    "os.getcwd()"
   ]
  },
  {
   "cell_type": "code",
   "execution_count": 163,
   "metadata": {},
   "outputs": [
    {
     "data": {
      "text/plain": [
       "'/Users/fintech101/2018jupyter/books project/1 learning jupyter/1draft/jupyterbooks/00LearningJupyter/OEBPS'"
      ]
     },
     "execution_count": 163,
     "metadata": {},
     "output_type": "execute_result"
    }
   ],
   "source": [
    "os.chdir(html_path)\n",
    "os.getcwd()"
   ]
  },
  {
   "cell_type": "code",
   "execution_count": 175,
   "metadata": {},
   "outputs": [],
   "source": [
    "# 建立一个函数来获取文件名\n",
    "# 获取html文件路径及文件名\n",
    "def file_name(file_dir):   \n",
    "    fullname=[]\n",
    "    filename=[]\n",
    "    for root, dirs, files in os.walk(file_dir):  \n",
    "        for file in files:  \n",
    "            if os.path.splitext(file)[1] == '.html':  \n",
    "                fullname.append(os.path.join(root, file)) \n",
    "                filename.append(file)\n",
    "    return fullname,filename \n",
    "\n",
    "#html_lists=file_name(html_path)[1]\n",
    "#html_lists[1]"
   ]
  },
  {
   "cell_type": "code",
   "execution_count": 165,
   "metadata": {
    "collapsed": true
   },
   "outputs": [],
   "source": [
    "# 建立一个函数读取html文件,存储为一个html_contents变量中，用于文件处理\n",
    "def html_contents(file_name):\n",
    "    \"\"\" open an html file, and read the html contents, save in \"\"\"\n",
    "    with open(file_name) as html_file:\n",
    "        html_contents=html_file.read()\n",
    "        return html_contents"
   ]
  },
  {
   "cell_type": "code",
   "execution_count": 109,
   "metadata": {
    "collapsed": true
   },
   "outputs": [],
   "source": [
    "# TODO 对html文件进行语法分析，分段，注意其中代码引用块的格式"
   ]
  },
  {
   "cell_type": "code",
   "execution_count": 181,
   "metadata": {},
   "outputs": [],
   "source": [
    "# 获取文件列表\n",
    "html_lists=file_name(html_path)[1]\n",
    "#html_lists"
   ]
  },
  {
   "cell_type": "code",
   "execution_count": null,
   "metadata": {
    "collapsed": true
   },
   "outputs": [],
   "source": [
    "#获取文件内容"
   ]
  },
  {
   "cell_type": "code",
   "execution_count": 183,
   "metadata": {},
   "outputs": [],
   "source": [
    "# example : 获取文件，打印前10个字符\n",
    "html1=html_contents(\"/Users/fintech101/2018jupyter/books project/1 learning jupyter/1draft/jupyterbooks/00LearningJupyter/OEBPS/ch01.html\")\n",
    "#print(html1[0:10])\n",
    "#print(type(html1))\n",
    "\n",
    "html2json=json.dumps(html1, indent=4, sort_keys=True)\n",
    "#print(html2json)"
   ]
  },
  {
   "cell_type": "code",
   "execution_count": 185,
   "metadata": {},
   "outputs": [
    {
     "ename": "SyntaxError",
     "evalue": "unexpected EOF while parsing (<ipython-input-185-79b3295ddea5>, line 6)",
     "output_type": "error",
     "traceback": [
      "\u001b[0;36m  File \u001b[0;32m\"<ipython-input-185-79b3295ddea5>\"\u001b[0;36m, line \u001b[0;32m6\u001b[0m\n\u001b[0;31m    #print(contents[0:10])\u001b[0m\n\u001b[0m                          ^\u001b[0m\n\u001b[0;31mSyntaxError\u001b[0m\u001b[0;31m:\u001b[0m unexpected EOF while parsing\n"
     ]
    }
   ],
   "source": [
    "# example: 按照文件列表，逐一读取文件，并打印前10个字符\n",
    "\n",
    "for list in html_lists:\n",
    "    #print(\"--- read the file: \" + list + \" --- \")\n",
    "    #contents = html_contents(list)\n",
    "    #print(contents[0:10])\n"
   ]
  },
  {
   "cell_type": "code",
   "execution_count": 111,
   "metadata": {},
   "outputs": [],
   "source": [
    "head='''{\n",
    " \"cells\": [\n",
    "  {\n",
    "   \"cell_type\": \"markdown\",\n",
    "   \"metadata\": {},\n",
    "   \"source\": [\n",
    "   \"'''\n",
    "\n",
    "foot=\"\"\"\n",
    "   ]\n",
    "  },\n",
    "  {\n",
    "   \"cell_type\": \"code\",\n",
    "   \"execution_count\": null,\n",
    "   \"metadata\": {\n",
    "    \"collapsed\": true\n",
    "   },\n",
    "   \"outputs\": [],\n",
    "   \"source\": []\n",
    "  }\n",
    " ],\n",
    " \"metadata\": {\n",
    "  \"kernelspec\": {\n",
    "   \"display_name\": \"Python 3\",\n",
    "   \"language\": \"python\",\n",
    "   \"name\": \"python3\"\n",
    "  },\n",
    "  \"language_info\": {\n",
    "   \"codemirror_mode\": {\n",
    "    \"name\": \"ipython\",\n",
    "    \"version\": 3\n",
    "   },\n",
    "   \"file_extension\": \".py\",\n",
    "   \"mimetype\": \"text/x-python\",\n",
    "   \"name\": \"python\",\n",
    "   \"nbconvert_exporter\": \"python\",\n",
    "   \"pygments_lexer\": \"ipython3\",\n",
    "   \"version\": \"3.6.3\"\n",
    "  }\n",
    " },\n",
    " \"nbformat\": 4,\n",
    " \"nbformat_minor\": 2\n",
    "}\n",
    "\"\"\""
   ]
  },
  {
   "cell_type": "code",
   "execution_count": 108,
   "metadata": {},
   "outputs": [],
   "source": [
    "#print(head+html2json[153:]+foot)"
   ]
  },
  {
   "cell_type": "code",
   "execution_count": 188,
   "metadata": {},
   "outputs": [
    {
     "name": "stdout",
     "output_type": "stream",
     "text": [
      "--- convert the file: ch01.html as notebook --- \n",
      "--- convert the file: ch01s02.html as notebook --- \n",
      "--- convert the file: ch01s03.html as notebook --- \n",
      "--- convert the file: ch01s04.html as notebook --- \n",
      "--- convert the file: ch01s05.html as notebook --- \n",
      "--- convert the file: ch01s06.html as notebook --- \n",
      "--- convert the file: ch01s07.html as notebook --- \n",
      "--- convert the file: ch01s08.html as notebook --- \n",
      "--- convert the file: ch01s09.html as notebook --- \n",
      "--- convert the file: ch02.html as notebook --- \n",
      "--- convert the file: ch02s02.html as notebook --- \n",
      "--- convert the file: ch02s03.html as notebook --- \n",
      "--- convert the file: ch02s04.html as notebook --- \n",
      "--- convert the file: ch02s05.html as notebook --- \n",
      "--- convert the file: ch02s06.html as notebook --- \n",
      "--- convert the file: ch03.html as notebook --- \n",
      "--- convert the file: ch03s02.html as notebook --- \n",
      "--- convert the file: ch03s03.html as notebook --- \n",
      "--- convert the file: ch03s04.html as notebook --- \n",
      "--- convert the file: ch03s05.html as notebook --- \n",
      "--- convert the file: ch03s06.html as notebook --- \n",
      "--- convert the file: ch03s07.html as notebook --- \n",
      "--- convert the file: ch04.html as notebook --- \n",
      "--- convert the file: ch04s02.html as notebook --- \n",
      "--- convert the file: ch04s03.html as notebook --- \n",
      "--- convert the file: ch04s04.html as notebook --- \n",
      "--- convert the file: ch04s05.html as notebook --- \n",
      "--- convert the file: ch04s06.html as notebook --- \n",
      "--- convert the file: ch04s07.html as notebook --- \n",
      "--- convert the file: ch04s08.html as notebook --- \n",
      "--- convert the file: ch04s09.html as notebook --- \n",
      "--- convert the file: ch04s10.html as notebook --- \n",
      "--- convert the file: ch04s11.html as notebook --- \n",
      "--- convert the file: ch05.html as notebook --- \n",
      "--- convert the file: ch05s02.html as notebook --- \n",
      "--- convert the file: ch05s03.html as notebook --- \n",
      "--- convert the file: ch05s04.html as notebook --- \n",
      "--- convert the file: ch05s05.html as notebook --- \n",
      "--- convert the file: ch05s06.html as notebook --- \n",
      "--- convert the file: ch05s07.html as notebook --- \n",
      "--- convert the file: ch05s08.html as notebook --- \n",
      "--- convert the file: ch05s09.html as notebook --- \n",
      "--- convert the file: ch05s10.html as notebook --- \n",
      "--- convert the file: ch05s11.html as notebook --- \n",
      "--- convert the file: ch05s12.html as notebook --- \n",
      "--- convert the file: ch06.html as notebook --- \n",
      "--- convert the file: ch06s02.html as notebook --- \n",
      "--- convert the file: ch06s03.html as notebook --- \n",
      "--- convert the file: ch06s04.html as notebook --- \n",
      "--- convert the file: ch06s05.html as notebook --- \n",
      "--- convert the file: ch06s06.html as notebook --- \n",
      "--- convert the file: ch07.html as notebook --- \n",
      "--- convert the file: ch07s02.html as notebook --- \n",
      "--- convert the file: ch07s03.html as notebook --- \n",
      "--- convert the file: ch08.html as notebook --- \n",
      "--- convert the file: ch08s02.html as notebook --- \n",
      "--- convert the file: ch08s03.html as notebook --- \n",
      "--- convert the file: ch08s04.html as notebook --- \n",
      "--- convert the file: ch09.html as notebook --- \n",
      "--- convert the file: ch09s02.html as notebook --- \n",
      "--- convert the file: ch09s03.html as notebook --- \n",
      "--- convert the file: ch09s04.html as notebook --- \n",
      "--- convert the file: ch09s05.html as notebook --- \n",
      "--- convert the file: ch09s06.html as notebook --- \n",
      "--- convert the file: ch09s07.html as notebook --- \n",
      "--- convert the file: ch09s08.html as notebook --- \n",
      "--- convert the file: ch09s09.html as notebook --- \n",
      "--- convert the file: ch09s10.html as notebook --- \n",
      "--- convert the file: ch09s11.html as notebook --- \n",
      "--- convert the file: ch09s12.html as notebook --- \n",
      "--- convert the file: ch09s13.html as notebook --- \n",
      "--- convert the file: ch10.html as notebook --- \n",
      "--- convert the file: ch10s02.html as notebook --- \n",
      "--- convert the file: ch10s03.html as notebook --- \n",
      "--- convert the file: ch10s04.html as notebook --- \n",
      "--- convert the file: ch10s05.html as notebook --- \n",
      "--- convert the file: ch10s06.html as notebook --- \n",
      "--- convert the file: ch10s07.html as notebook --- \n",
      "--- convert the file: ch10s08.html as notebook --- \n",
      "--- convert the file: ch10s09.html as notebook --- \n",
      "--- convert the file: ch10s10.html as notebook --- \n",
      "--- convert the file: cover.html as notebook --- \n",
      "--- convert the file: index.html as notebook --- \n",
      "--- convert the file: pr01.html as notebook --- \n",
      "--- convert the file: pr02.html as notebook --- \n",
      "--- convert the file: pr03.html as notebook --- \n",
      "--- convert the file: pr04.html as notebook --- \n",
      "--- convert the file: pr05.html as notebook --- \n",
      "--- convert the file: pr06.html as notebook --- \n",
      "--- convert the file: pr06s02.html as notebook --- \n",
      "--- convert the file: pr06s03.html as notebook --- \n",
      "--- convert the file: pr06s04.html as notebook --- \n",
      "--- convert the file: pr06s05.html as notebook --- \n",
      "--- convert the file: pr06s06.html as notebook --- \n",
      "--- convert the file: toc.html as notebook --- \n",
      "--- All the html files had convert into notebook! ---\n"
     ]
    }
   ],
   "source": [
    "# example: 按照文件列表，逐一读取文件，并打印前10个字符\n",
    "\n",
    "\n",
    "for list in html_lists:\n",
    "    print(\"--- convert the file: \" + list + \" as notebook --- \")\n",
    "    contents = html_contents(list)\n",
    "    # convert html to json format\n",
    "    html2json=json.dumps(contents, indent=4, sort_keys=True)\n",
    "    notebook_contents=head+html2json[153:]+foot # 去掉了html文件前面的xml说明\n",
    "    #print(notebook_contents[0:10])\n",
    "    # 将生成的notebook内容写成文件，存储到notebook文件夹下面\n",
    "    #os.chdir(notebook_path)\n",
    "    notebook_name = list[:-4]+\"ipynb\"\n",
    "    #print(notebook_name)\n",
    "    file_object = open(notebook_path+notebook_name, 'w')\n",
    "    file_object.write(notebook_contents)\n",
    "    file_object.close( )\n",
    "\n",
    "print(\"--- All the html files had convert into notebook! ---\")\n",
    "    \n",
    "\n"
   ]
  },
  {
   "cell_type": "code",
   "execution_count": null,
   "metadata": {
    "collapsed": true
   },
   "outputs": [],
   "source": []
  }
 ],
 "metadata": {
  "kernelspec": {
   "display_name": "Python 3",
   "language": "python",
   "name": "python3"
  },
  "language_info": {
   "codemirror_mode": {
    "name": "ipython",
    "version": 3
   },
   "file_extension": ".py",
   "mimetype": "text/x-python",
   "name": "python",
   "nbconvert_exporter": "python",
   "pygments_lexer": "ipython3",
   "version": "3.6.3"
  }
 },
 "nbformat": 4,
 "nbformat_minor": 2
}
