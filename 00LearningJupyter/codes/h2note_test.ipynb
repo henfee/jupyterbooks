{
 "cells": [
  {
   "cell_type": "code",
   "execution_count": 114,
   "metadata": {
    "collapsed": true
   },
   "outputs": [],
   "source": [
    "import os\n",
    "import requests\n",
    "import json"
   ]
  },
  {
   "cell_type": "code",
   "execution_count": 13,
   "metadata": {
    "collapsed": true
   },
   "outputs": [],
   "source": [
    "from bs4 import BeautifulSoup"
   ]
  },
  {
   "cell_type": "code",
   "execution_count": 14,
   "metadata": {},
   "outputs": [],
   "source": [
    "# file folder path\n",
    "work_path=\"/Users/fintech101/2018jupyter/books project/1 learning jupyter/1draft/jupyterbooks/00LearningJupyter/\"\n",
    "\n",
    "codes_path=work_path+\"codes/\"\n",
    "html_path=work_path+\"OEBPS/\"\n",
    "notebook_path=work_path+\"OEBPS/notebook/\"\n",
    "markdown_path=work_path+\"OEBPS/markdown/\""
   ]
  },
  {
   "cell_type": "code",
   "execution_count": 15,
   "metadata": {},
   "outputs": [
    {
     "data": {
      "text/plain": [
       "'/Users/fintech101/2018jupyter/books project/1 learning jupyter/1draft/jupyterbooks/00LearningJupyter/OEBPS'"
      ]
     },
     "execution_count": 15,
     "metadata": {},
     "output_type": "execute_result"
    }
   ],
   "source": [
    "os.chdir(html_path)\n",
    "os.getcwd()"
   ]
  },
  {
   "cell_type": "code",
   "execution_count": 33,
   "metadata": {},
   "outputs": [
    {
     "name": "stdout",
     "output_type": "stream",
     "text": [
      "/Users/fintech101/2018jupyter/books project/1 learning jupyter/1draft/jupyterbooks/00LearningJupyter/OEBPS/ch01s03.html\n"
     ]
    }
   ],
   "source": [
    "htmlfile = html_path+\"ch01s03.html\"\n",
    "print(htmlfile)"
   ]
  },
  {
   "cell_type": "code",
   "execution_count": 158,
   "metadata": {},
   "outputs": [],
   "source": [
    "def html2str(html_file):\n",
    "    \"\"\" open an html file\"\"\"\n",
    "    with open(html_file) as html:\n",
    "        return html"
   ]
  },
  {
   "cell_type": "code",
   "execution_count": 137,
   "metadata": {},
   "outputs": [],
   "source": [
    "# make a bs4 content\n",
    "def html2soup(html_file):\n",
    "    \"\"\" conver html as bs4 soup\"\"\"\n",
    "    with open(html_file) as html:\n",
    "        soup = BeautifulSoup(html,\"lxml\")\n",
    "        return soup\n",
    "\n",
    "# make a json content    \n",
    "def str2json(content):\n",
    "    \"\"\" convert content as json\"\"\"\n",
    "    j = json.dumps(content)\n",
    "    return j"
   ]
  },
  {
   "cell_type": "code",
   "execution_count": 169,
   "metadata": {
    "collapsed": true
   },
   "outputs": [],
   "source": [
    "# make a markdown cell\n",
    "def cell_markdown(content):\n",
    "    ''' make a markdown cell as .ipynb ( like a json format)'''\n",
    "    cell_pre=\"\"\"  {\"cell_type\": \"markdown\",\"metadata\": {},\"source\": [\"\"\"\n",
    "    cell_end=\"\"\"]},\"\"\"\n",
    "    cell_full = cell_pre+content+cell_end\n",
    "    return cell_full\n",
    "\n",
    "# make notebook cells\n",
    "def cells_notebook(contents):\n",
    "    \"\"\" make a notebook .ipynb\"\"\"\n",
    "    cell_head = \"\"\"{\"cells\": [\"\"\"\n",
    "    cell_foot = \"\"\"  {\"cell_type\": \"code\",\"execution_count\": null,\"metadata\": {\"collapsed\": true},\"outputs\": [],\"source\": []}  ],\"metadata\": {\"kernelspec\": {\"display_name\": \"Python 3\", \"language\": \"python\",\"name\": \"python3\"},\"language_info\": {\"codemirror_mode\": {\"name\": \"ipython\",\"version\": 3},\"file_extension\": \".py\",\"mimetype\": \"text/x-python\",\"name\": \"python\",\"nbconvert_exporter\": \"python\",\"pygments_lexer\": \"ipython3\",\"version\": \"3.6.3\"}},\"nbformat\": 4,\"nbformat_minor\": 2}\"\"\"\n",
    "    cells = cell_head + contents + cell_foot\n",
    "    return cells\n"
   ]
  },
  {
   "cell_type": "code",
   "execution_count": 130,
   "metadata": {},
   "outputs": [
    {
     "name": "stdout",
     "output_type": "stream",
     "text": [
      "/Users/fintech101/2018jupyter/books project/1 learning jupyter/1draft/jupyterbooks/00LearningJupyter/OEBPS/ch01s03.html\n"
     ]
    }
   ],
   "source": [
    "# exmaple file\n",
    "html_file = html_path+\"ch01s03.html\"\n",
    "print(html_file)"
   ]
  },
  {
   "cell_type": "code",
   "execution_count": 170,
   "metadata": {},
   "outputs": [],
   "source": [
    "# exmaple file\n",
    "html_file = html_path+\"ch02s05.html\"\n",
    "\n",
    "html_content = html2str(html_file)\n",
    "soup_content = html2soup(html_file)\n",
    "json_content = str2json(str(soup_content))\n",
    "cell_source = json_content\n",
    "#print(soup_content)\n",
    "#print(json_content[147:])\n",
    "#print(html_content)\n",
    "source = cell_markdown(cell_source)\n",
    "cells_notebook(source)\n",
    "\n",
    "file_object = open(\"h2note2.ipynb\", 'w')\n",
    "file_object.write(cells_notebook(source))\n",
    "file_object.close( )"
   ]
  },
  {
   "cell_type": "code",
   "execution_count": 79,
   "metadata": {},
   "outputs": [
    {
     "name": "stdout",
     "output_type": "stream",
     "text": [
      "None\n"
     ]
    }
   ],
   "source": [
    "with open(htmlfile) as html:\n",
    "    #print(type(html),html)\n",
    "    #for line in html:\n",
    "    soup = BeautifulSoup(line,\"lxml\")\n",
    "        #print(soup)\n",
    "    html_content=(soup.body)\n",
    "    print(html_content)"
   ]
  },
  {
   "cell_type": "code",
   "execution_count": null,
   "metadata": {
    "collapsed": true
   },
   "outputs": [],
   "source": [
    "for tag in tags:\n",
    "        image = tag.img['src']\n",
    "        article_user = tag.p.a.get_text()\n",
    "        article_user_url = tag.p.a['href']      \n",
    "        created = tag.p.span['data-shared-at']        \n",
    "        article_url = tag.h4.a['href']\n",
    "\n",
    "        # 可以在查找的 tag 下继续使用 find_all()\n",
    "        tag_span = tag.div.div.find_all('span')\n",
    "\n",
    "        likes = tag_span[0].get_text(strip=True)\n",
    "\n",
    "作者：田飞雨\n",
    "链接：https://www.jianshu.com/p/2b783f7914c6\n",
    "來源：简书\n",
    "著作权归作者所有。商业转载请联系作者获得授权，非商业转载请注明出处。"
   ]
  },
  {
   "cell_type": "code",
   "execution_count": 115,
   "metadata": {},
   "outputs": [],
   "source": [
    "html_file = html_path+\"ch01s03.html\"\n",
    "#print(html_file)\n",
    "\n",
    "\n"
   ]
  },
  {
   "cell_type": "code",
   "execution_count": 119,
   "metadata": {},
   "outputs": [
    {
     "name": "stdout",
     "output_type": "stream",
     "text": [
      "\"<?xml version=\\\"1.0\\\" encoding=\\\"utf-8\\\" ?><!DOCTYPE html PUBLIC \\\"-//W3C//DTD XHTML 1.1//EN\\\" \\\"http://www.w3.org/TR/xhtml11/DTD/xhtml11.dtd\\\">\\n<html xmlns=\\\"http://www.w3.org/1999/xhtml\\\"><head><title>Installing Jupyter on Mac</title><link href=\\\"epub.css\\\" rel=\\\"stylesheet\\\" type=\\\"text/css\\\"/><meta content=\\\"DocBook XSL Stylesheets V1.75.2\\\" name=\\\"generator\\\"/></head><body id=\\\"page\\\"><div class=\\\"section\\\" title=\\\"Installing Jupyter on Mac\\\"><div class=\\\"titlepage\\\"><div><div><h1 class=\\\"title\\\"><a id=\\\"ch01lvl1sec9\\\"></a>Installing Jupyter on Mac</h1></div></div></div><p>On Mac, you can use the same Anaconda GUI (for Mac) as described in the previous section. You may also use the command-line tools available for Linux on your Mac.</p><p>You must first install Anaconda. Download the latest version and execute the embedded shell script to install.</p><p>Installing Jupyter on Mac is done through the command line using the <code class=\\\"literal\\\">conda install</code> command:</p><pre class=\\\"programlisting\\\">\\n<span class=\\\"strong\\\"><strong>bmac:~ dtoomey$ conda install jupyter </strong></span>\\n<span class=\\\"strong\\\"><strong>Fetching package metadata: .... </strong></span>\\n<span class=\\\"strong\\\"><strong>Solving package specifications: .................................... </strong></span>\\n<span class=\\\"strong\\\"><strong>Package plan for installation in environment /Users/dtoomey/anaconda: </strong></span>\\n</pre><p>The following packages will be downloaded:</p><pre class=\\\"programlisting\\\">\\n<span class=\\\"strong\\\"><strong>    package                    |            build </strong></span>\\n<span class=\\\"strong\\\"><strong>    ---------------------------|----------------- </strong></span>\\n<span class=\\\"strong\\\"><strong>    mistune-0.7.2              |           py27_1         178 KB </strong></span>\\n<span class=\\\"strong\\\"><strong>    setuptools-20.3            |           py27_0         453 KB </strong></span>\\n<span class=\\\"strong\\\"><strong>    conda-4.0.5                |           py27_0         185 KB </strong></span>\\n<span class=\\\"strong\\\"><strong>    pexpect-4.0.1              |           py27_0          63 KB </strong></span>\\n<span class=\\\"strong\\\"><strong>    traitlets-4.2.1            |           py27_0         108 KB </strong></span>\\n<span class=\\\"strong\\\"><strong>    ipython-4.1.2              |           py27_2         931 KB </strong></span>\\n<span class=\\\"strong\\\"><strong>    jupyter_core-4.1.0         |           py27_0          51 KB </strong></span>\\n<span class=\\\"strong\\\"><strong>    jupyter_client-4.2.2       |           py27_0          96 KB </strong></span>\\n<span class=\\\"strong\\\"><strong>    jupyter_console-4.1.1      |           py27_0          24 KB </strong></span>\\n<span class=\\\"strong\\\"><strong>    notebook-4.1.0             |           py27_2         4.4 MB </strong></span>\\n<span class=\\\"strong\\\"><strong>    qtconsole-4.2.1            |           py27_0         160 KB </strong></span>\\n<span class=\\\"strong\\\"><strong>    jupyter-1.0.0              |           py27_2           2 KB </strong></span>\\n<span class=\\\"strong\\\"><strong>    ------------------------------------------------------------ </strong></span>\\n<span class=\\\"strong\\\"><strong>                                           Total:         6.6 MB </strong></span>\\n</pre><p>The following packages will be updated:</p><pre class=\\\"programlisting\\\">\\n<span class=\\\"strong\\\"><strong>    conda:           3.19.3-py27_0 --&gt; 4.0.5-py27_0 </strong></span>\\n<span class=\\\"strong\\\"><strong>    ipython:         4.1.2-py27_0  --&gt; 4.1.2-py27_2 </strong></span>\\n<span class=\\\"strong\\\"><strong>    jupyter:         1.0.0-py27_1  --&gt; 1.0.0-py27_2 </strong></span>\\n<span class=\\\"strong\\\"><strong>    jupyter_client:  4.1.1-py27_0  --&gt; 4.2.2-py27_0 </strong></span>\\n<span class=\\\"strong\\\"><strong>    jupyter_console: 4.1.0-py27_0  --&gt; 4.1.1-py27_0 </strong></span>\\n<span class=\\\"strong\\\"><strong>    jupyter_core:    4.0.6-py27_0  --&gt; 4.1.0-py27_0 </strong></span>\\n<span class=\\\"strong\\\"><strong>    mistune:         0.7.1-py27_0  --&gt; 0.7.2-py27_1 </strong></span>\\n<span class=\\\"strong\\\"><strong>    notebook:        4.1.0-py27_0  --&gt; 4.1.0-py27_2 </strong></span>\\n<span class=\\\"strong\\\"><strong>    pexpect:         3.3-py27_0    --&gt; 4.0.1-py27_0 </strong></span>\\n<span class=\\\"strong\\\"><strong>    qtconsole:       4.1.1-py27_0  --&gt; 4.2.1-py27_0 </strong></span>\\n<span class=\\\"strong\\\"><strong>    setuptools:      20.1.1-py27_0 --&gt; 20.3-py27_0 </strong></span>\\n<span class=\\\"strong\\\"><strong>    traitlets:       4.1.0-py27_0  --&gt; 4.2.1-py27_0 </strong></span>\\n<span class=\\\"strong\\\"><strong>Proceed ([y]/n)? y </strong></span>\\n<span class=\\\"strong\\\"><strong>Fetching packages ... </strong></span>\\n<span class=\\\"strong\\\"><strong>mistune-0.7.2- 100% |#################| Time: 0:00:00   1.87 MB/s </strong></span>\\n<span class=\\\"strong\\\"><strong>setuptools-20. 100% |#################| Time: 0:00:00   3.53 MB/s </strong></span>\\n<span class=\\\"strong\\\"><strong>conda-4.0.5-py 100% |#################| Time: 0:00:00   2.47 MB/s </strong></span>\\n<span class=\\\"strong\\\"><strong>pexpect-4.0.1- 100% |#################| Time: 0:00:00   1.26 MB/s </strong></span>\\n<span class=\\\"strong\\\"><strong>traitlets-4.2. 100% |#################| Time: 0:00:00   1.71 MB/s </strong></span>\\n<span class=\\\"strong\\\"><strong>ipython-4.1.2- 100% |#################| Time: 0:00:00   1.77 MB/s </strong></span>\\n<span class=\\\"strong\\\"><strong>jupyter_core-4 100% |#################| Time: 0:00:00   2.34 MB/s </strong></span>\\n<span class=\\\"strong\\\"><strong>jupyter_client 100% |#################| Time: 0:00:00   1.58 MB/s </strong></span>\\n<span class=\\\"strong\\\"><strong>jupyter_consol 100% |#################| Time: 0:00:00   7.82 MB/s </strong></span>\\n<span class=\\\"strong\\\"><strong>notebook-4.1.0 100% |#################| Time: 0:00:00   4.75 MB/s </strong></span>\\n<span class=\\\"strong\\\"><strong>qtconsole-4.2. 100% |#################| Time: 0:00:00   1.37 MB/s </strong></span>\\n<span class=\\\"strong\\\"><strong>jupyter-1.0.0- 100% |#################| Time: 0:00:00   2.71 MB/s </strong></span>\\n<span class=\\\"strong\\\"><strong>Extracting packages ... </strong></span>\\n<span class=\\\"strong\\\"><strong>[      COMPLETE ]|#############################################| 100% </strong></span>\\n<span class=\\\"strong\\\"><strong>Unlinking packages ... </strong></span>\\n<span class=\\\"strong\\\"><strong>[      COMPLETE ]|#############################################| 100% </strong></span>\\n<span class=\\\"strong\\\"><strong>Linking packages ...</strong></span>\\n<span class=\\\"strong\\\"><strong>[      COMPLETE ]|#############################################| 100% </strong></span>\\n</pre><div class=\\\"note\\\" style=\\\"\\\" title=\\\"Note\\\"><div class=\\\"inner\\\"><h3 class=\\\"title\\\"><a id=\\\"note7\\\"></a>Note</h3><p>You have installed Jupyter.</p></div></div></div></body></html>\\n\"\n"
     ]
    }
   ],
   "source": [
    "a=str(soup(html_file))\n",
    "type(a)\n",
    "s=c2json(a)\n",
    "print(s)\n",
    "\n"
   ]
  },
  {
   "cell_type": "code",
   "execution_count": 102,
   "metadata": {},
   "outputs": [
    {
     "name": "stdout",
     "output_type": "stream",
     "text": [
      "1 <p>On Mac, you can use the same Anaconda GUI (for Mac) as described in the previous section. You may also use the command-line tools available for Linux on your Mac.</p>\n",
      "1 <p>You must first install Anaconda. Download the latest version and execute the embedded shell script to install.</p>\n",
      "3 <p>Installing Jupyter on Mac is done through the command line using the <code class=\"literal\">conda install</code> command:</p>\n",
      "1 <p>The following packages will be downloaded:</p>\n",
      "1 <p>The following packages will be updated:</p>\n",
      "1 <p>You have installed Jupyter.</p>\n"
     ]
    }
   ],
   "source": [
    "soup(html_file)\n",
    "\n",
    "tag_div = soup(html_file).find_all(\"div\")\n",
    "\n",
    "for item in tag_p:\n",
    "    print(len(item),item)\n",
    "    \n",
    "    \n",
    "    \n",
    "    \n",
    "    "
   ]
  },
  {
   "cell_type": "code",
   "execution_count": 58,
   "metadata": {},
   "outputs": [
    {
     "name": "stdout",
     "output_type": "stream",
     "text": [
      "****\n",
      "\"<pre class=\\\"programlisting\\\">\\n<span class=\\\"strong\\\"><strong>bmac:~ dtoomey$ conda install jupyter </strong></span>\\n<span class=\\\"strong\\\"><strong>Fetching package metadata: .... </strong></span>\\n<span class=\\\"strong\\\"><strong>Solving package specifications: .................................... </strong></span>\\n<span class=\\\"strong\\\"><strong>Package plan for installation in environment /Users/dtoomey/anaconda: </strong></span>\\n</pre>\"\n",
      "****\n",
      "\"<pre class=\\\"programlisting\\\">\\n<span class=\\\"strong\\\"><strong>    package                    |            build </strong></span>\\n<span class=\\\"strong\\\"><strong>    ---------------------------|----------------- </strong></span>\\n<span class=\\\"strong\\\"><strong>    mistune-0.7.2              |           py27_1         178 KB </strong></span>\\n<span class=\\\"strong\\\"><strong>    setuptools-20.3            |           py27_0         453 KB </strong></span>\\n<span class=\\\"strong\\\"><strong>    conda-4.0.5                |           py27_0         185 KB </strong></span>\\n<span class=\\\"strong\\\"><strong>    pexpect-4.0.1              |           py27_0          63 KB </strong></span>\\n<span class=\\\"strong\\\"><strong>    traitlets-4.2.1            |           py27_0         108 KB </strong></span>\\n<span class=\\\"strong\\\"><strong>    ipython-4.1.2              |           py27_2         931 KB </strong></span>\\n<span class=\\\"strong\\\"><strong>    jupyter_core-4.1.0         |           py27_0          51 KB </strong></span>\\n<span class=\\\"strong\\\"><strong>    jupyter_client-4.2.2       |           py27_0          96 KB </strong></span>\\n<span class=\\\"strong\\\"><strong>    jupyter_console-4.1.1      |           py27_0          24 KB </strong></span>\\n<span class=\\\"strong\\\"><strong>    notebook-4.1.0             |           py27_2         4.4 MB </strong></span>\\n<span class=\\\"strong\\\"><strong>    qtconsole-4.2.1            |           py27_0         160 KB </strong></span>\\n<span class=\\\"strong\\\"><strong>    jupyter-1.0.0              |           py27_2           2 KB </strong></span>\\n<span class=\\\"strong\\\"><strong>    ------------------------------------------------------------ </strong></span>\\n<span class=\\\"strong\\\"><strong>                                           Total:         6.6 MB </strong></span>\\n</pre>\"\n",
      "****\n",
      "\"<pre class=\\\"programlisting\\\">\\n<span class=\\\"strong\\\"><strong>    conda:           3.19.3-py27_0 --&gt; 4.0.5-py27_0 </strong></span>\\n<span class=\\\"strong\\\"><strong>    ipython:         4.1.2-py27_0  --&gt; 4.1.2-py27_2 </strong></span>\\n<span class=\\\"strong\\\"><strong>    jupyter:         1.0.0-py27_1  --&gt; 1.0.0-py27_2 </strong></span>\\n<span class=\\\"strong\\\"><strong>    jupyter_client:  4.1.1-py27_0  --&gt; 4.2.2-py27_0 </strong></span>\\n<span class=\\\"strong\\\"><strong>    jupyter_console: 4.1.0-py27_0  --&gt; 4.1.1-py27_0 </strong></span>\\n<span class=\\\"strong\\\"><strong>    jupyter_core:    4.0.6-py27_0  --&gt; 4.1.0-py27_0 </strong></span>\\n<span class=\\\"strong\\\"><strong>    mistune:         0.7.1-py27_0  --&gt; 0.7.2-py27_1 </strong></span>\\n<span class=\\\"strong\\\"><strong>    notebook:        4.1.0-py27_0  --&gt; 4.1.0-py27_2 </strong></span>\\n<span class=\\\"strong\\\"><strong>    pexpect:         3.3-py27_0    --&gt; 4.0.1-py27_0 </strong></span>\\n<span class=\\\"strong\\\"><strong>    qtconsole:       4.1.1-py27_0  --&gt; 4.2.1-py27_0 </strong></span>\\n<span class=\\\"strong\\\"><strong>    setuptools:      20.1.1-py27_0 --&gt; 20.3-py27_0 </strong></span>\\n<span class=\\\"strong\\\"><strong>    traitlets:       4.1.0-py27_0  --&gt; 4.2.1-py27_0 </strong></span>\\n<span class=\\\"strong\\\"><strong>Proceed ([y]/n)? y </strong></span>\\n<span class=\\\"strong\\\"><strong>Fetching packages ... </strong></span>\\n<span class=\\\"strong\\\"><strong>mistune-0.7.2- 100% |#################| Time: 0:00:00   1.87 MB/s </strong></span>\\n<span class=\\\"strong\\\"><strong>setuptools-20. 100% |#################| Time: 0:00:00   3.53 MB/s </strong></span>\\n<span class=\\\"strong\\\"><strong>conda-4.0.5-py 100% |#################| Time: 0:00:00   2.47 MB/s </strong></span>\\n<span class=\\\"strong\\\"><strong>pexpect-4.0.1- 100% |#################| Time: 0:00:00   1.26 MB/s </strong></span>\\n<span class=\\\"strong\\\"><strong>traitlets-4.2. 100% |#################| Time: 0:00:00   1.71 MB/s </strong></span>\\n<span class=\\\"strong\\\"><strong>ipython-4.1.2- 100% |#################| Time: 0:00:00   1.77 MB/s </strong></span>\\n<span class=\\\"strong\\\"><strong>jupyter_core-4 100% |#################| Time: 0:00:00   2.34 MB/s </strong></span>\\n<span class=\\\"strong\\\"><strong>jupyter_client 100% |#################| Time: 0:00:00   1.58 MB/s </strong></span>\\n<span class=\\\"strong\\\"><strong>jupyter_consol 100% |#################| Time: 0:00:00   7.82 MB/s </strong></span>\\n<span class=\\\"strong\\\"><strong>notebook-4.1.0 100% |#################| Time: 0:00:00   4.75 MB/s </strong></span>\\n<span class=\\\"strong\\\"><strong>qtconsole-4.2. 100% |#################| Time: 0:00:00   1.37 MB/s </strong></span>\\n<span class=\\\"strong\\\"><strong>jupyter-1.0.0- 100% |#################| Time: 0:00:00   2.71 MB/s </strong></span>\\n<span class=\\\"strong\\\"><strong>Extracting packages ... </strong></span>\\n<span class=\\\"strong\\\"><strong>[      COMPLETE ]|#############################################| 100% </strong></span>\\n<span class=\\\"strong\\\"><strong>Unlinking packages ... </strong></span>\\n<span class=\\\"strong\\\"><strong>[      COMPLETE ]|#############################################| 100% </strong></span>\\n<span class=\\\"strong\\\"><strong>Linking packages ...</strong></span>\\n<span class=\\\"strong\\\"><strong>[      COMPLETE ]|#############################################| 100% </strong></span>\\n</pre>\"\n"
     ]
    }
   ],
   "source": [
    "tag_program = html_content.find_all(\"pre\")\n",
    "\n",
    "for item in tag_program:\n",
    "    print(\"****\")\n",
    "    s = str(item)\n",
    "    #print(type(s),s)\n",
    "    \n",
    "    item2json=json.dumps(s)\n",
    "    print(item2json)"
   ]
  },
  {
   "cell_type": "code",
   "execution_count": 61,
   "metadata": {},
   "outputs": [
    {
     "name": "stdout",
     "output_type": "stream",
     "text": [
      "{\n",
      " \"cells\": [\n"
     ]
    }
   ],
   "source": [
    "cell_head=\"\"\"{\n",
    " \"cells\": [\"\"\"\n",
    "print(cell_head)"
   ]
  },
  {
   "cell_type": "code",
   "execution_count": 60,
   "metadata": {},
   "outputs": [
    {
     "name": "stdout",
     "output_type": "stream",
     "text": [
      " ],\n",
      " \"metadata\": {\n",
      "  \"kernelspec\": {\n",
      "   \"display_name\": \"Python 3\",\n",
      "   \"language\": \"python\",\n",
      "   \"name\": \"python3\"\n",
      "  },\n",
      "  \"language_info\": {\n",
      "   \"codemirror_mode\": {\n",
      "    \"name\": \"ipython\",\n",
      "    \"version\": 3\n",
      "   },\n",
      "   \"file_extension\": \".py\",\n",
      "   \"mimetype\": \"text/x-python\",\n",
      "   \"name\": \"python\",\n",
      "   \"nbconvert_exporter\": \"python\",\n",
      "   \"pygments_lexer\": \"ipython3\",\n",
      "   \"version\": \"3.6.3\"\n",
      "  }\n",
      " },\n",
      " \"nbformat\": 4,\n",
      " \"nbformat_minor\": 2\n",
      "}\n",
      "\n"
     ]
    }
   ],
   "source": [
    "cell_foot=\"\"\" ],\n",
    " \"metadata\": {\n",
    "  \"kernelspec\": {\n",
    "   \"display_name\": \"Python 3\",\n",
    "   \"language\": \"python\",\n",
    "   \"name\": \"python3\"\n",
    "  },\n",
    "  \"language_info\": {\n",
    "   \"codemirror_mode\": {\n",
    "    \"name\": \"ipython\",\n",
    "    \"version\": 3\n",
    "   },\n",
    "   \"file_extension\": \".py\",\n",
    "   \"mimetype\": \"text/x-python\",\n",
    "   \"name\": \"python\",\n",
    "   \"nbconvert_exporter\": \"python\",\n",
    "   \"pygments_lexer\": \"ipython3\",\n",
    "   \"version\": \"3.6.3\"\n",
    "  }\n",
    " },\n",
    " \"nbformat\": 4,\n",
    " \"nbformat_minor\": 2\n",
    "}\n",
    "\"\"\"\n",
    "print(cell_foot)"
   ]
  },
  {
   "cell_type": "code",
   "execution_count": 63,
   "metadata": {},
   "outputs": [
    {
     "name": "stdout",
     "output_type": "stream",
     "text": [
      "  {\n",
      "   \"cell_type\": \"markdown\",\n",
      "   \"metadata\": {},\n",
      "   \"source\": [\n",
      "    \"\n",
      "    \n"
     ]
    }
   ],
   "source": [
    "cell_pre=\"\"\"  {\n",
    "   \"cell_type\": \"markdown\",\n",
    "   \"metadata\": {},\n",
    "   \"source\": [\n",
    "    \"\n",
    "    \"\"\"\n",
    "print(cell_pre)"
   ]
  },
  {
   "cell_type": "code",
   "execution_count": 64,
   "metadata": {},
   "outputs": [
    {
     "name": "stdout",
     "output_type": "stream",
     "text": [
      "\n",
      "   ]\n",
      "  },\n"
     ]
    }
   ],
   "source": [
    "cell_end=\"\"\"\n",
    "   ]\n",
    "  },\"\"\"\n",
    "print(cell_end)"
   ]
  },
  {
   "cell_type": "code",
   "execution_count": null,
   "metadata": {
    "collapsed": true
   },
   "outputs": [],
   "source": [
    "# make a markdown cell\n",
    "def cell(content):\n",
    "    ''' make a markdown cell as .ipynb ( like a json format)'''\n",
    "    cell_pre=\"\"\"  {\n",
    "       \"cell_type\": \"markdown\",\n",
    "       \"metadata\": {},\n",
    "       \"source\": [\n",
    "        \"\n",
    "        \"\"\"\n",
    "    cell_end=\"\"\"\n",
    "       ]\n",
    "      },\"\"\"\n",
    "    cell_full = cell_pre+content+cell_end\n",
    "    return cell_full\n",
    "\n"
   ]
  }
 ],
 "metadata": {
  "kernelspec": {
   "display_name": "Python 3",
   "language": "python",
   "name": "python3"
  },
  "language_info": {
   "codemirror_mode": {
    "name": "ipython",
    "version": 3
   },
   "file_extension": ".py",
   "mimetype": "text/x-python",
   "name": "python",
   "nbconvert_exporter": "python",
   "pygments_lexer": "ipython3",
   "version": "3.6.3"
  }
 },
 "nbformat": 4,
 "nbformat_minor": 2
}
